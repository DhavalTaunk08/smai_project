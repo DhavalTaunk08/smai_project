{
 "cells": [
  {
   "cell_type": "code",
   "execution_count": 1,
   "id": "d74fee33",
   "metadata": {
    "_cell_guid": "b1076dfc-b9ad-4769-8c92-a6c4dae69d19",
    "_uuid": "8f2839f25d086af736a60e9eeb907d3b93b6e0e5",
    "execution": {
     "iopub.execute_input": "2021-11-29T05:44:05.960001Z",
     "iopub.status.busy": "2021-11-29T05:44:05.959168Z",
     "iopub.status.idle": "2021-11-29T05:44:10.393629Z",
     "shell.execute_reply": "2021-11-29T05:44:10.392862Z",
     "shell.execute_reply.started": "2021-11-29T05:34:39.206942Z"
    },
    "papermill": {
     "duration": 4.462078,
     "end_time": "2021-11-29T05:44:10.393789",
     "exception": false,
     "start_time": "2021-11-29T05:44:05.931711",
     "status": "completed"
    },
    "tags": []
   },
   "outputs": [],
   "source": [
    "import pandas as pd\n",
    "import numpy as np\n",
    "from tqdm import tqdm\n",
    "import tensorflow as tf\n",
    "from sklearn.metrics import f1_score"
   ]
  },
  {
   "cell_type": "code",
   "execution_count": 2,
   "id": "e6fc827a",
   "metadata": {
    "execution": {
     "iopub.execute_input": "2021-11-29T05:44:10.429179Z",
     "iopub.status.busy": "2021-11-29T05:44:10.428671Z",
     "iopub.status.idle": "2021-11-29T05:44:13.267375Z",
     "shell.execute_reply": "2021-11-29T05:44:13.266677Z",
     "shell.execute_reply.started": "2021-11-29T05:34:47.015244Z"
    },
    "papermill": {
     "duration": 2.858241,
     "end_time": "2021-11-29T05:44:13.267508",
     "exception": false,
     "start_time": "2021-11-29T05:44:10.409267",
     "status": "completed"
    },
    "tags": []
   },
   "outputs": [],
   "source": [
    "train = pd.read_csv('../input/smai-project-data/train_data.csv').fillna('')\n",
    "val = pd.read_csv('../input/smai-project-data/val_data.csv').fillna('')\n",
    "test = pd.read_csv('../input/smai-project-data/test_data.csv').fillna('')"
   ]
  },
  {
   "cell_type": "code",
   "execution_count": 3,
   "id": "888445d3",
   "metadata": {
    "execution": {
     "iopub.execute_input": "2021-11-29T05:44:13.305430Z",
     "iopub.status.busy": "2021-11-29T05:44:13.304816Z",
     "iopub.status.idle": "2021-11-29T05:44:13.317973Z",
     "shell.execute_reply": "2021-11-29T05:44:13.318423Z",
     "shell.execute_reply.started": "2021-11-29T05:34:50.343138Z"
    },
    "papermill": {
     "duration": 0.03597,
     "end_time": "2021-11-29T05:44:13.318553",
     "exception": false,
     "start_time": "2021-11-29T05:44:13.282583",
     "status": "completed"
    },
    "tags": []
   },
   "outputs": [
    {
     "data": {
      "text/html": [
       "<div>\n",
       "<style scoped>\n",
       "    .dataframe tbody tr th:only-of-type {\n",
       "        vertical-align: middle;\n",
       "    }\n",
       "\n",
       "    .dataframe tbody tr th {\n",
       "        vertical-align: top;\n",
       "    }\n",
       "\n",
       "    .dataframe thead th {\n",
       "        text-align: right;\n",
       "    }\n",
       "</style>\n",
       "<table border=\"1\" class=\"dataframe\">\n",
       "  <thead>\n",
       "    <tr style=\"text-align: right;\">\n",
       "      <th></th>\n",
       "      <th>id</th>\n",
       "      <th>qid1</th>\n",
       "      <th>qid2</th>\n",
       "      <th>question1</th>\n",
       "      <th>question2</th>\n",
       "      <th>is_duplicate</th>\n",
       "      <th>question1_preprocessed</th>\n",
       "      <th>question2_preprocessed</th>\n",
       "    </tr>\n",
       "  </thead>\n",
       "  <tbody>\n",
       "    <tr>\n",
       "      <th>0</th>\n",
       "      <td>8067</td>\n",
       "      <td>15738</td>\n",
       "      <td>15739</td>\n",
       "      <td>How do I play Pokémon GO in Korea?</td>\n",
       "      <td>How do I play Pokémon GO in China?</td>\n",
       "      <td>0</td>\n",
       "      <td>how do i play pok mon go in korea ?</td>\n",
       "      <td>how do i play pok mon go in china ?</td>\n",
       "    </tr>\n",
       "    <tr>\n",
       "      <th>1</th>\n",
       "      <td>368101</td>\n",
       "      <td>12736</td>\n",
       "      <td>104117</td>\n",
       "      <td>What are some of the best side dishes for crab...</td>\n",
       "      <td>What are some good side dishes for buffalo chi...</td>\n",
       "      <td>0</td>\n",
       "      <td>what are some of the best side dishes for crab...</td>\n",
       "      <td>what are some good side dishes for buffalo chi...</td>\n",
       "    </tr>\n",
       "    <tr>\n",
       "      <th>2</th>\n",
       "      <td>70497</td>\n",
       "      <td>121486</td>\n",
       "      <td>121487</td>\n",
       "      <td>Which is more advisable and better material fo...</td>\n",
       "      <td>What is the best server setup for buddypress?</td>\n",
       "      <td>0</td>\n",
       "      <td>which is more advisable and better material fo...</td>\n",
       "      <td>what is the best server setup for buddypress ?</td>\n",
       "    </tr>\n",
       "    <tr>\n",
       "      <th>3</th>\n",
       "      <td>226567</td>\n",
       "      <td>254474</td>\n",
       "      <td>258192</td>\n",
       "      <td>How do I improve logical programming skills?</td>\n",
       "      <td>How can I improve my logical skills for progra...</td>\n",
       "      <td>1</td>\n",
       "      <td>how do i improve logical programming skills ?</td>\n",
       "      <td>how can i improve my logical skills for progra...</td>\n",
       "    </tr>\n",
       "    <tr>\n",
       "      <th>4</th>\n",
       "      <td>73186</td>\n",
       "      <td>48103</td>\n",
       "      <td>3062</td>\n",
       "      <td>How close we are to see 3rd world war?</td>\n",
       "      <td>How close is a World War III?</td>\n",
       "      <td>1</td>\n",
       "      <td>how close we are to see 3rd world war ?</td>\n",
       "      <td>how close is a world war iii ?</td>\n",
       "    </tr>\n",
       "  </tbody>\n",
       "</table>\n",
       "</div>"
      ],
      "text/plain": [
       "       id    qid1    qid2                                          question1  \\\n",
       "0    8067   15738   15739                 How do I play Pokémon GO in Korea?   \n",
       "1  368101   12736  104117  What are some of the best side dishes for crab...   \n",
       "2   70497  121486  121487  Which is more advisable and better material fo...   \n",
       "3  226567  254474  258192       How do I improve logical programming skills?   \n",
       "4   73186   48103    3062             How close we are to see 3rd world war?   \n",
       "\n",
       "                                           question2  is_duplicate  \\\n",
       "0                 How do I play Pokémon GO in China?             0   \n",
       "1  What are some good side dishes for buffalo chi...             0   \n",
       "2      What is the best server setup for buddypress?             0   \n",
       "3  How can I improve my logical skills for progra...             1   \n",
       "4                      How close is a World War III?             1   \n",
       "\n",
       "                              question1_preprocessed  \\\n",
       "0                how do i play pok mon go in korea ?   \n",
       "1  what are some of the best side dishes for crab...   \n",
       "2  which is more advisable and better material fo...   \n",
       "3      how do i improve logical programming skills ?   \n",
       "4            how close we are to see 3rd world war ?   \n",
       "\n",
       "                              question2_preprocessed  \n",
       "0                how do i play pok mon go in china ?  \n",
       "1  what are some good side dishes for buffalo chi...  \n",
       "2     what is the best server setup for buddypress ?  \n",
       "3  how can i improve my logical skills for progra...  \n",
       "4                     how close is a world war iii ?  "
      ]
     },
     "execution_count": 3,
     "metadata": {},
     "output_type": "execute_result"
    }
   ],
   "source": [
    "train.head()"
   ]
  },
  {
   "cell_type": "code",
   "execution_count": 4,
   "id": "6bf149df",
   "metadata": {
    "execution": {
     "iopub.execute_input": "2021-11-29T05:44:13.358342Z",
     "iopub.status.busy": "2021-11-29T05:44:13.357784Z",
     "iopub.status.idle": "2021-11-29T05:44:13.361170Z",
     "shell.execute_reply": "2021-11-29T05:44:13.360762Z",
     "shell.execute_reply.started": "2021-11-29T05:34:50.364767Z"
    },
    "papermill": {
     "duration": 0.026958,
     "end_time": "2021-11-29T05:44:13.361301",
     "exception": false,
     "start_time": "2021-11-29T05:44:13.334343",
     "status": "completed"
    },
    "tags": []
   },
   "outputs": [],
   "source": [
    "def buildVocabulary(reviews):\n",
    "    tokenizer = tf.keras.preprocessing.text.Tokenizer(lower=False, split=' ')\n",
    "    tokenizer.fit_on_texts(reviews)\n",
    "    return tokenizer\n",
    "\n",
    "def getSequences(reviews, tokenizer, seq_maxlen):\n",
    "    reviews_seq = tokenizer.texts_to_sequences(reviews)\n",
    "    return np.array(tf.keras.preprocessing.sequence.pad_sequences(reviews_seq, maxlen=seq_maxlen))\n",
    "\n",
    "def loadGloveWordEmbeddings():\n",
    "    embedding_vectors = {}\n",
    "    with open('../input/glove840b300dtxt/glove.840B.300d.txt') as f:\n",
    "        for line in tqdm(f):\n",
    "            values = line.split(' ')\n",
    "            word = values[0]\n",
    "            coefs = np.asarray(values[1:], dtype='float32')\n",
    "            embedding_vectors[word] = coefs\n",
    "    return embedding_vectors\n",
    "\n",
    "def getEmbeddingWeightMatrix(embedding_vectors, word2idx):    \n",
    "    embedding_matrix = np.zeros((len(word2idx)+1, 300))\n",
    "    for word, i in tqdm(word2idx.items()):\n",
    "        embedding_vector = embedding_vectors.get(word)\n",
    "        if embedding_vector is not None:\n",
    "            embedding_matrix[i] = embedding_vector\n",
    "    return embedding_matrix"
   ]
  },
  {
   "cell_type": "code",
   "execution_count": 5,
   "id": "36bf5c53",
   "metadata": {
    "execution": {
     "iopub.execute_input": "2021-11-29T05:44:13.400574Z",
     "iopub.status.busy": "2021-11-29T05:44:13.399860Z",
     "iopub.status.idle": "2021-11-29T05:44:44.986536Z",
     "shell.execute_reply": "2021-11-29T05:44:44.985980Z",
     "shell.execute_reply.started": "2021-11-29T05:34:50.377600Z"
    },
    "papermill": {
     "duration": 31.610254,
     "end_time": "2021-11-29T05:44:44.986713",
     "exception": false,
     "start_time": "2021-11-29T05:44:13.376459",
     "status": "completed"
    },
    "tags": []
   },
   "outputs": [
    {
     "name": "stdout",
     "output_type": "stream",
     "text": [
      "119558\n"
     ]
    }
   ],
   "source": [
    "tokenizer = buildVocabulary(train['question1'].tolist()+train['question2'].tolist()+val['question1'].tolist()+val['question2'].tolist()+test['question1'].tolist()+test['question2'].tolist())\n",
    "vocab_size = len(tokenizer.word_index) + 1\n",
    "print(vocab_size)\n",
    "\n",
    "x_train1 = getSequences(train['question1'], tokenizer, 128)\n",
    "x_train2 = getSequences(train['question2'], tokenizer, 128)\n",
    "y_train = tf.keras.utils.to_categorical(train['is_duplicate'])\n",
    "\n",
    "x_val1 = getSequences(val['question1'], tokenizer, 128)\n",
    "x_val2 = getSequences(val['question2'], tokenizer, 128)\n",
    "y_val = tf.keras.utils.to_categorical(val['is_duplicate'])\n",
    "\n",
    "x_test1 = getSequences(test['question1'], tokenizer, 128)\n",
    "x_test2 = getSequences(test['question2'], tokenizer, 128)\n",
    "y_test = tf.keras.utils.to_categorical(test['is_duplicate'])"
   ]
  },
  {
   "cell_type": "code",
   "execution_count": 6,
   "id": "cb354a8d",
   "metadata": {
    "execution": {
     "iopub.execute_input": "2021-11-29T05:44:45.024184Z",
     "iopub.status.busy": "2021-11-29T05:44:45.023670Z",
     "iopub.status.idle": "2021-11-29T05:49:28.379558Z",
     "shell.execute_reply": "2021-11-29T05:49:28.380016Z",
     "shell.execute_reply.started": "2021-11-29T05:35:21.268070Z"
    },
    "papermill": {
     "duration": 283.376186,
     "end_time": "2021-11-29T05:49:28.380186",
     "exception": false,
     "start_time": "2021-11-29T05:44:45.004000",
     "status": "completed"
    },
    "tags": []
   },
   "outputs": [
    {
     "name": "stderr",
     "output_type": "stream",
     "text": [
      "2196018it [04:42, 7761.81it/s]\n"
     ]
    },
    {
     "name": "stdout",
     "output_type": "stream",
     "text": [
      "2196017\n"
     ]
    },
    {
     "name": "stderr",
     "output_type": "stream",
     "text": [
      "100%|██████████| 119557/119557 [00:00<00:00, 290507.36it/s]"
     ]
    },
    {
     "name": "stdout",
     "output_type": "stream",
     "text": [
      "(119558, 300)\n"
     ]
    },
    {
     "name": "stderr",
     "output_type": "stream",
     "text": [
      "\n"
     ]
    }
   ],
   "source": [
    "embedding_vectors = loadGloveWordEmbeddings()\n",
    "print(len(embedding_vectors))\n",
    "\n",
    "embedding_weight_matrix = getEmbeddingWeightMatrix(embedding_vectors, tokenizer.word_index)\n",
    "print(embedding_weight_matrix.shape)"
   ]
  },
  {
   "cell_type": "code",
   "execution_count": 7,
   "id": "47433f7d",
   "metadata": {
    "execution": {
     "iopub.execute_input": "2021-11-29T05:49:30.035880Z",
     "iopub.status.busy": "2021-11-29T05:49:30.035056Z",
     "iopub.status.idle": "2021-11-29T05:49:30.037754Z",
     "shell.execute_reply": "2021-11-29T05:49:30.037298Z",
     "shell.execute_reply.started": "2021-11-29T05:39:35.216144Z"
    },
    "papermill": {
     "duration": 0.711941,
     "end_time": "2021-11-29T05:49:30.037867",
     "exception": false,
     "start_time": "2021-11-29T05:49:29.325926",
     "status": "completed"
    },
    "tags": []
   },
   "outputs": [],
   "source": [
    "MAX_SEQUENCE_LENGTH = 128\n",
    "WORD_EMBEDDING_DIM = 300\n",
    "SENT_EMBEDDING_DIM = 128\n",
    "DROPOUT = 0.1"
   ]
  },
  {
   "cell_type": "code",
   "execution_count": 8,
   "id": "da48f2a9",
   "metadata": {
    "execution": {
     "iopub.execute_input": "2021-11-29T05:49:31.460907Z",
     "iopub.status.busy": "2021-11-29T05:49:31.460077Z",
     "iopub.status.idle": "2021-11-29T05:49:35.131366Z",
     "shell.execute_reply": "2021-11-29T05:49:35.131757Z",
     "shell.execute_reply.started": "2021-11-29T05:39:35.223051Z"
    },
    "papermill": {
     "duration": 4.391801,
     "end_time": "2021-11-29T05:49:35.131903",
     "exception": false,
     "start_time": "2021-11-29T05:49:30.740102",
     "status": "completed"
    },
    "tags": []
   },
   "outputs": [
    {
     "name": "stderr",
     "output_type": "stream",
     "text": [
      "2021-11-29 05:49:31.554339: I tensorflow/stream_executor/cuda/cuda_gpu_executor.cc:937] successful NUMA node read from SysFS had negative value (-1), but there must be at least one NUMA node, so returning NUMA node zero\n",
      "2021-11-29 05:49:31.666119: I tensorflow/stream_executor/cuda/cuda_gpu_executor.cc:937] successful NUMA node read from SysFS had negative value (-1), but there must be at least one NUMA node, so returning NUMA node zero\n",
      "2021-11-29 05:49:31.666880: I tensorflow/stream_executor/cuda/cuda_gpu_executor.cc:937] successful NUMA node read from SysFS had negative value (-1), but there must be at least one NUMA node, so returning NUMA node zero\n",
      "2021-11-29 05:49:31.668042: I tensorflow/core/platform/cpu_feature_guard.cc:142] This TensorFlow binary is optimized with oneAPI Deep Neural Network Library (oneDNN) to use the following CPU instructions in performance-critical operations:  AVX2 AVX512F FMA\n",
      "To enable them in other operations, rebuild TensorFlow with the appropriate compiler flags.\n",
      "2021-11-29 05:49:31.669766: I tensorflow/stream_executor/cuda/cuda_gpu_executor.cc:937] successful NUMA node read from SysFS had negative value (-1), but there must be at least one NUMA node, so returning NUMA node zero\n",
      "2021-11-29 05:49:31.670509: I tensorflow/stream_executor/cuda/cuda_gpu_executor.cc:937] successful NUMA node read from SysFS had negative value (-1), but there must be at least one NUMA node, so returning NUMA node zero\n",
      "2021-11-29 05:49:31.671122: I tensorflow/stream_executor/cuda/cuda_gpu_executor.cc:937] successful NUMA node read from SysFS had negative value (-1), but there must be at least one NUMA node, so returning NUMA node zero\n",
      "2021-11-29 05:49:33.587846: I tensorflow/stream_executor/cuda/cuda_gpu_executor.cc:937] successful NUMA node read from SysFS had negative value (-1), but there must be at least one NUMA node, so returning NUMA node zero\n",
      "2021-11-29 05:49:33.588698: I tensorflow/stream_executor/cuda/cuda_gpu_executor.cc:937] successful NUMA node read from SysFS had negative value (-1), but there must be at least one NUMA node, so returning NUMA node zero\n",
      "2021-11-29 05:49:33.589358: I tensorflow/stream_executor/cuda/cuda_gpu_executor.cc:937] successful NUMA node read from SysFS had negative value (-1), but there must be at least one NUMA node, so returning NUMA node zero\n",
      "2021-11-29 05:49:33.590558: I tensorflow/core/common_runtime/gpu/gpu_device.cc:1510] Created device /job:localhost/replica:0/task:0/device:GPU:0 with 15403 MB memory:  -> device: 0, name: Tesla P100-PCIE-16GB, pci bus id: 0000:00:04.0, compute capability: 6.0\n",
      "2021-11-29 05:49:34.109243: W tensorflow/core/framework/cpu_allocator_impl.cc:80] Allocation of 143469600 exceeds 10% of free system memory.\n",
      "2021-11-29 05:49:34.651553: W tensorflow/core/framework/cpu_allocator_impl.cc:80] Allocation of 143469600 exceeds 10% of free system memory.\n"
     ]
    },
    {
     "name": "stdout",
     "output_type": "stream",
     "text": [
      "(None, 200) (None, 128, 200) (None, 200) (None, 128, 128)\n",
      "(None, 128, 200) (None, 128, 200)\n",
      "(None, 128) (None, 128)\n",
      "(None, 128) (None, 128)\n"
     ]
    }
   ],
   "source": [
    "question1 = tf.keras.Input(shape=(MAX_SEQUENCE_LENGTH,))\n",
    "question2 = tf.keras.Input(shape=(MAX_SEQUENCE_LENGTH,))\n",
    "\n",
    "q1 = tf.keras.layers.Embedding(119558, \n",
    "                 WORD_EMBEDDING_DIM, \n",
    "                 weights=[embedding_weight_matrix], \n",
    "                 input_length=MAX_SEQUENCE_LENGTH, \n",
    "                 trainable=False)(question1)\n",
    "q1, h1, c1 = tf.keras.layers.LSTM(200, return_sequences=True, return_state = True)(q1)\n",
    "#q1 = tf.keras.layers.Bidirectional(tf.keras.layers.LSTM(SENT_EMBEDDING_DIM, return_sequences=True), merge_mode=\"sum\")(q1)\n",
    "\n",
    "q2 = tf.keras.layers.Embedding(119558, \n",
    "                 WORD_EMBEDDING_DIM, \n",
    "                 weights=[embedding_weight_matrix], \n",
    "                 input_length=MAX_SEQUENCE_LENGTH, \n",
    "                 trainable=False)(question2)\n",
    "q2, h2, c2 = tf.keras.layers.LSTM(200, return_sequences=True, return_state = True)(q2)\n",
    "#q2 = tf.keras.layers.Bidirectional(tf.keras.layers.LSTM(SENT_EMBEDDING_DIM, return_sequences=True), merge_mode=\"sum\")(q2)\n",
    "\n",
    "attention = tf.keras.layers.Dot(axes = (2, 2))([q1,q2])\n",
    "#attention = tf.keras.layers.Flatten()(attention)\n",
    "attention_u = tf.keras.layers.Softmax(axis = -1)(attention)\n",
    "attention_v = tf.keras.layers.Softmax(axis = 1)(attention)\n",
    "#attention = tf.keras.layers.Dense(MAX_SEQUENCE_LENGTH*SENT_EMBEDDING_DIM, activation = \"softmax\")(attention)\n",
    "#attention = tf.keras.layers.Dense((MAX_SEQUENCE_LENGTH*SENT_EMBEDDING_DIM))(attention)\n",
    "#attention = tf.keras.layers.Reshape((MAX_SEQUENCE_LENGTH, SENT_EMBEDDING_DIM))(attention)\n",
    "\n",
    "print(h1.shape, q1.shape, c1.shape, attention.shape)\n",
    "u_bar = tf.keras.layers.Dot(axes = (2, 1))([attention_u, q2])\n",
    "#u_bar = tf.keras.layers.Flatten()(u_bar)\n",
    "v_bar = tf.keras.layers.Dot(axes = (2, 1))([attention_v, q1])\n",
    "print(u_bar.shape, v_bar.shape)\n",
    "#v_bar = tf.keras.layers.Flatten()(v_bar)\n",
    "wu = tf.keras.layers.Dense(SENT_EMBEDDING_DIM)(u_bar[:, -1, :])\n",
    "wv = tf.keras.layers.Dense(SENT_EMBEDDING_DIM)(v_bar[:, -1, :])\n",
    "vu = tf.keras.layers.Dense(SENT_EMBEDDING_DIM)(q1[:, -1, :])\n",
    "vv = tf.keras.layers.Dense(SENT_EMBEDDING_DIM)(q2[:, -1, :])\n",
    "u_ = tf.keras.layers.Add()([wu, vu])\n",
    "v_ = tf.keras.layers.Add()([wv, vv])\n",
    "print(u_.shape, v_.shape)\n",
    "u_star = tf.keras.layers.Dense(SENT_EMBEDDING_DIM, activation = \"tanh\")(u_)\n",
    "v_star = tf.keras.layers.Dense(SENT_EMBEDDING_DIM, activation = \"tanh\")(v_)\n",
    "print(u_star.shape, v_star.shape)\n",
    "merged = tf.keras.layers.Concatenate()([u_star, v_star])\n",
    "merged = tf.keras.layers.Dense(200, activation='relu')(merged)\n",
    "merged = tf.keras.layers.Dropout(DROPOUT)(merged)\n",
    "#merged = tf.keras.layers.BatchNormalization()(merged)\n",
    "\n",
    "is_duplicate = tf.keras.layers.Dense(2, activation='softmax')(merged)\n",
    "\n",
    "model = tf.keras.Model(inputs=[question1,question2], outputs=is_duplicate)\n",
    "model.compile(loss='categorical_crossentropy', optimizer='adam', metrics=['accuracy'])"
   ]
  },
  {
   "cell_type": "markdown",
   "id": "ed3d1df5",
   "metadata": {
    "papermill": {
     "duration": 0.695161,
     "end_time": "2021-11-29T05:49:36.531148",
     "exception": false,
     "start_time": "2021-11-29T05:49:35.835987",
     "status": "completed"
    },
    "tags": []
   },
   "source": [
    "Rough:\n",
    "\n",
    "merged = tf.keras.layers.Dense(200, activation='relu')(merged)\n",
    "merged = tf.keras.layers.Dropout(DROPOUT)(merged)\n",
    "merged = tf.keras.layers.BatchNormalization()(merged)\n",
    "merged = tf.keras.layers.Dense(200, activation='relu')(merged)\n",
    "merged = tf.keras.layers.Dropout(DROPOUT)(merged)\n",
    "merged = tf.keras.layers.BatchNormalization()(merged)\n",
    "merged = tf.keras.layers.Dense(200, activation='relu')(merged)\n",
    "merged = tf.keras.layers.Dropout(DROPOUT)(merged)\n",
    "merged = tf.keras.layers.BatchNormalization()(merged)"
   ]
  },
  {
   "cell_type": "code",
   "execution_count": 9,
   "id": "1c75add7",
   "metadata": {
    "execution": {
     "iopub.execute_input": "2021-11-29T05:49:37.985943Z",
     "iopub.status.busy": "2021-11-29T05:49:37.984998Z",
     "iopub.status.idle": "2021-11-29T05:49:38.001483Z",
     "shell.execute_reply": "2021-11-29T05:49:38.001915Z",
     "shell.execute_reply.started": "2021-11-29T05:39:38.831909Z"
    },
    "papermill": {
     "duration": 0.775935,
     "end_time": "2021-11-29T05:49:38.002044",
     "exception": false,
     "start_time": "2021-11-29T05:49:37.226109",
     "status": "completed"
    },
    "tags": []
   },
   "outputs": [
    {
     "name": "stdout",
     "output_type": "stream",
     "text": [
      "Model: \"model\"\n",
      "__________________________________________________________________________________________________\n",
      "Layer (type)                    Output Shape         Param #     Connected to                     \n",
      "==================================================================================================\n",
      "input_1 (InputLayer)            [(None, 128)]        0                                            \n",
      "__________________________________________________________________________________________________\n",
      "input_2 (InputLayer)            [(None, 128)]        0                                            \n",
      "__________________________________________________________________________________________________\n",
      "embedding (Embedding)           (None, 128, 300)     35867400    input_1[0][0]                    \n",
      "__________________________________________________________________________________________________\n",
      "embedding_1 (Embedding)         (None, 128, 300)     35867400    input_2[0][0]                    \n",
      "__________________________________________________________________________________________________\n",
      "lstm (LSTM)                     [(None, 128, 200), ( 400800      embedding[0][0]                  \n",
      "__________________________________________________________________________________________________\n",
      "lstm_1 (LSTM)                   [(None, 128, 200), ( 400800      embedding_1[0][0]                \n",
      "__________________________________________________________________________________________________\n",
      "dot (Dot)                       (None, 128, 128)     0           lstm[0][0]                       \n",
      "                                                                 lstm_1[0][0]                     \n",
      "__________________________________________________________________________________________________\n",
      "softmax (Softmax)               (None, 128, 128)     0           dot[0][0]                        \n",
      "__________________________________________________________________________________________________\n",
      "softmax_1 (Softmax)             (None, 128, 128)     0           dot[0][0]                        \n",
      "__________________________________________________________________________________________________\n",
      "dot_1 (Dot)                     (None, 128, 200)     0           softmax[0][0]                    \n",
      "                                                                 lstm_1[0][0]                     \n",
      "__________________________________________________________________________________________________\n",
      "dot_2 (Dot)                     (None, 128, 200)     0           softmax_1[0][0]                  \n",
      "                                                                 lstm[0][0]                       \n",
      "__________________________________________________________________________________________________\n",
      "tf.__operators__.getitem (Slici (None, 200)          0           dot_1[0][0]                      \n",
      "__________________________________________________________________________________________________\n",
      "tf.__operators__.getitem_2 (Sli (None, 200)          0           lstm[0][0]                       \n",
      "__________________________________________________________________________________________________\n",
      "tf.__operators__.getitem_1 (Sli (None, 200)          0           dot_2[0][0]                      \n",
      "__________________________________________________________________________________________________\n",
      "tf.__operators__.getitem_3 (Sli (None, 200)          0           lstm_1[0][0]                     \n",
      "__________________________________________________________________________________________________\n",
      "dense (Dense)                   (None, 128)          25728       tf.__operators__.getitem[0][0]   \n",
      "__________________________________________________________________________________________________\n",
      "dense_2 (Dense)                 (None, 128)          25728       tf.__operators__.getitem_2[0][0] \n",
      "__________________________________________________________________________________________________\n",
      "dense_1 (Dense)                 (None, 128)          25728       tf.__operators__.getitem_1[0][0] \n",
      "__________________________________________________________________________________________________\n",
      "dense_3 (Dense)                 (None, 128)          25728       tf.__operators__.getitem_3[0][0] \n",
      "__________________________________________________________________________________________________\n",
      "add (Add)                       (None, 128)          0           dense[0][0]                      \n",
      "                                                                 dense_2[0][0]                    \n",
      "__________________________________________________________________________________________________\n",
      "add_1 (Add)                     (None, 128)          0           dense_1[0][0]                    \n",
      "                                                                 dense_3[0][0]                    \n",
      "__________________________________________________________________________________________________\n",
      "dense_4 (Dense)                 (None, 128)          16512       add[0][0]                        \n",
      "__________________________________________________________________________________________________\n",
      "dense_5 (Dense)                 (None, 128)          16512       add_1[0][0]                      \n",
      "__________________________________________________________________________________________________\n",
      "concatenate (Concatenate)       (None, 256)          0           dense_4[0][0]                    \n",
      "                                                                 dense_5[0][0]                    \n",
      "__________________________________________________________________________________________________\n",
      "dense_6 (Dense)                 (None, 200)          51400       concatenate[0][0]                \n",
      "__________________________________________________________________________________________________\n",
      "dropout (Dropout)               (None, 200)          0           dense_6[0][0]                    \n",
      "__________________________________________________________________________________________________\n",
      "dense_7 (Dense)                 (None, 2)            402         dropout[0][0]                    \n",
      "==================================================================================================\n",
      "Total params: 72,724,138\n",
      "Trainable params: 989,338\n",
      "Non-trainable params: 71,734,800\n",
      "__________________________________________________________________________________________________\n"
     ]
    }
   ],
   "source": [
    "model.summary()"
   ]
  },
  {
   "cell_type": "code",
   "execution_count": 10,
   "id": "663e36ca",
   "metadata": {
    "execution": {
     "iopub.execute_input": "2021-11-29T05:49:39.406512Z",
     "iopub.status.busy": "2021-11-29T05:49:39.405663Z",
     "iopub.status.idle": "2021-11-29T07:59:04.726575Z",
     "shell.execute_reply": "2021-11-29T07:59:04.725959Z",
     "shell.execute_reply.started": "2021-11-29T05:42:57.765691Z"
    },
    "papermill": {
     "duration": 7766.029011,
     "end_time": "2021-11-29T07:59:04.726736",
     "exception": false,
     "start_time": "2021-11-29T05:49:38.697725",
     "status": "completed"
    },
    "tags": []
   },
   "outputs": [
    {
     "name": "stderr",
     "output_type": "stream",
     "text": [
      "2021-11-29 05:49:39.406732: W tensorflow/core/framework/cpu_allocator_impl.cc:80] Allocation of 144897536 exceeds 10% of free system memory.\n",
      "2021-11-29 05:49:39.510896: W tensorflow/core/framework/cpu_allocator_impl.cc:80] Allocation of 144897536 exceeds 10% of free system memory.\n",
      "2021-11-29 05:49:39.683086: I tensorflow/compiler/mlir/mlir_graph_optimization_pass.cc:185] None of the MLIR Optimization Passes are enabled (registered 2)\n"
     ]
    },
    {
     "name": "stdout",
     "output_type": "stream",
     "text": [
      "Epoch 1/10\n"
     ]
    },
    {
     "name": "stderr",
     "output_type": "stream",
     "text": [
      "2021-11-29 05:49:43.585746: I tensorflow/stream_executor/cuda/cuda_dnn.cc:369] Loaded cuDNN version 8005\n"
     ]
    },
    {
     "name": "stdout",
     "output_type": "stream",
     "text": [
      "35376/35376 [==============================] - ETA: 0s - loss: 0.5342 - accuracy: 0.7313"
     ]
    },
    {
     "name": "stderr",
     "output_type": "stream",
     "text": [
      "2021-11-29 06:00:28.723292: W tensorflow/core/framework/cpu_allocator_impl.cc:80] Allocation of 41399296 exceeds 10% of free system memory.\n"
     ]
    },
    {
     "name": "stdout",
     "output_type": "stream",
     "text": [
      "35376/35376 [==============================] - 778s 22ms/step - loss: 0.5342 - accuracy: 0.7313 - val_loss: 0.4963 - val_accuracy: 0.7566\n",
      "\n",
      "Epoch 00001: val_loss improved from inf to 0.49630, saving model to weights.best.hdf5\n"
     ]
    },
    {
     "name": "stderr",
     "output_type": "stream",
     "text": [
      "/opt/conda/lib/python3.7/site-packages/keras/utils/generic_utils.py:497: CustomMaskWarning: Custom mask layers require a config and must override get_config. When loading, the custom mask layer must be passed to the custom_objects argument.\n",
      "  category=CustomMaskWarning)\n"
     ]
    },
    {
     "name": "stdout",
     "output_type": "stream",
     "text": [
      "Epoch 2/10\n",
      "35376/35376 [==============================] - 774s 22ms/step - loss: 0.4630 - accuracy: 0.7763 - val_loss: 0.4691 - val_accuracy: 0.7737\n",
      "\n",
      "Epoch 00002: val_loss improved from 0.49630 to 0.46914, saving model to weights.best.hdf5\n",
      "Epoch 3/10\n",
      "35376/35376 [==============================] - 773s 22ms/step - loss: 0.4288 - accuracy: 0.7964 - val_loss: 0.4747 - val_accuracy: 0.7738\n",
      "\n",
      "Epoch 00003: val_loss did not improve from 0.46914\n",
      "Epoch 4/10\n",
      "35376/35376 [==============================] - 774s 22ms/step - loss: 0.3985 - accuracy: 0.8151 - val_loss: 0.4858 - val_accuracy: 0.7820\n",
      "\n",
      "Epoch 00004: val_loss did not improve from 0.46914\n",
      "Epoch 5/10\n",
      "35376/35376 [==============================] - 776s 22ms/step - loss: 0.3874 - accuracy: 0.8224 - val_loss: 0.4695 - val_accuracy: 0.7789\n",
      "\n",
      "Epoch 00005: val_loss did not improve from 0.46914\n",
      "Epoch 6/10\n",
      "35376/35376 [==============================] - 775s 22ms/step - loss: 0.3677 - accuracy: 0.8337 - val_loss: 0.4843 - val_accuracy: 0.7805\n",
      "\n",
      "Epoch 00006: val_loss did not improve from 0.46914\n",
      "Epoch 7/10\n",
      "35376/35376 [==============================] - 771s 22ms/step - loss: 0.3585 - accuracy: 0.8402 - val_loss: 0.4873 - val_accuracy: 0.7756\n",
      "\n",
      "Epoch 00007: val_loss did not improve from 0.46914\n",
      "Epoch 8/10\n",
      "35376/35376 [==============================] - 779s 22ms/step - loss: 0.3571 - accuracy: 0.8406 - val_loss: 0.4981 - val_accuracy: 0.7824\n",
      "\n",
      "Epoch 00008: val_loss did not improve from 0.46914\n",
      "Epoch 9/10\n",
      "35376/35376 [==============================] - 775s 22ms/step - loss: 0.3744 - accuracy: 0.8306 - val_loss: 0.4933 - val_accuracy: 0.7681\n",
      "\n",
      "Epoch 00009: val_loss did not improve from 0.46914\n",
      "Epoch 10/10\n",
      "35376/35376 [==============================] - 781s 22ms/step - loss: 0.3891 - accuracy: 0.8251 - val_loss: 0.4948 - val_accuracy: 0.7764\n",
      "\n",
      "Epoch 00010: val_loss did not improve from 0.46914\n"
     ]
    }
   ],
   "source": [
    "checkpoint_filepath  = 'weights.best.hdf5'\n",
    "model_checkpoint_callback = tf.keras.callbacks.ModelCheckpoint(filepath=checkpoint_filepath,\n",
    "                                                                verbose = 1, \n",
    "                                                                monitor = 'val_loss',\n",
    "                                                                save_best_only = True)\n",
    "history = model.fit((x_train1, x_train2), y_train,\n",
    "                    batch_size = 8,\n",
    "                    validation_data = ((x_val1, x_val2), y_val),\n",
    "                    validation_batch_size = 4,\n",
    "                    epochs=10,\n",
    "                    callbacks=[model_checkpoint_callback], \n",
    "                    verbose=1)"
   ]
  },
  {
   "cell_type": "code",
   "execution_count": 13,
   "id": "e6fb3a21",
   "metadata": {
    "execution": {
     "iopub.execute_input": "2021-11-29T08:02:23.259327Z",
     "iopub.status.busy": "2021-11-29T08:02:23.258152Z",
     "iopub.status.idle": "2021-11-29T08:03:34.700179Z",
     "shell.execute_reply": "2021-11-29T08:03:34.699724Z"
    },
    "papermill": {
     "duration": 104.232219,
     "end_time": "2021-11-29T08:03:34.700334",
     "exception": false,
     "start_time": "2021-11-29T08:01:50.468115",
     "status": "completed"
    },
    "tags": []
   },
   "outputs": [
    {
     "name": "stdout",
     "output_type": "stream",
     "text": [
      "10108/10108 [==============================] - 71s 7ms/step - loss: 0.4953 - accuracy: 0.7772\n",
      "loss on test data is 0.4953326880931854\n",
      "accuracy on test data is 0.7771649360656738\n"
     ]
    }
   ],
   "source": [
    "loss, accuracy = model.evaluate((x_test1, x_test2), y_test, batch_size=4, verbose=1)\n",
    "\n",
    "print('loss on test data is', loss)\n",
    "print('accuracy on test data is', accuracy)"
   ]
  },
  {
   "cell_type": "code",
   "execution_count": 14,
   "id": "3853c4aa",
   "metadata": {
    "execution": {
     "iopub.execute_input": "2021-11-29T08:04:40.861241Z",
     "iopub.status.busy": "2021-11-29T08:04:40.860264Z",
     "iopub.status.idle": "2021-11-29T08:04:51.210729Z",
     "shell.execute_reply": "2021-11-29T08:04:51.210276Z"
    },
    "papermill": {
     "duration": 43.341585,
     "end_time": "2021-11-29T08:04:51.210859",
     "exception": false,
     "start_time": "2021-11-29T08:04:07.869274",
     "status": "completed"
    },
    "tags": []
   },
   "outputs": [
    {
     "name": "stdout",
     "output_type": "stream",
     "text": [
      "f1_score on test dataset is 0.687913534485745\n"
     ]
    }
   ],
   "source": [
    "pred = model.predict((x_test1, x_test2))\n",
    "print('f1_score on test dataset is', f1_score(np.argmax(pred, axis=1), np.argmax(y_test, axis=1)))"
   ]
  },
  {
   "cell_type": "code",
   "execution_count": null,
   "id": "de53f879",
   "metadata": {
    "papermill": {
     "duration": 33.529334,
     "end_time": "2021-11-29T08:13:42.957372",
     "exception": false,
     "start_time": "2021-11-29T08:13:09.428038",
     "status": "completed"
    },
    "tags": []
   },
   "outputs": [],
   "source": []
  }
 ],
 "metadata": {
  "kernelspec": {
   "display_name": "Python 3 (ipykernel)",
   "language": "python",
   "name": "python3"
  },
  "language_info": {
   "codemirror_mode": {
    "name": "ipython",
    "version": 3
   },
   "file_extension": ".py",
   "mimetype": "text/x-python",
   "name": "python",
   "nbconvert_exporter": "python",
   "pygments_lexer": "ipython3",
   "version": "3.8.10"
  },
  "papermill": {
   "default_parameters": {},
   "duration": 9021.296992,
   "end_time": "2021-11-29T08:14:19.679603",
   "environment_variables": {},
   "exception": null,
   "input_path": "__notebook__.ipynb",
   "output_path": "__notebook__.ipynb",
   "parameters": {},
   "start_time": "2021-11-29T05:43:58.382611",
   "version": "2.3.3"
  }
 },
 "nbformat": 4,
 "nbformat_minor": 5
}
