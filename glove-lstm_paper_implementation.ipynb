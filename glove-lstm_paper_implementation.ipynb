{
 "cells": [
  {
   "cell_type": "code",
   "execution_count": 1,
   "id": "1a13be30",
   "metadata": {
    "_cell_guid": "b1076dfc-b9ad-4769-8c92-a6c4dae69d19",
    "_uuid": "8f2839f25d086af736a60e9eeb907d3b93b6e0e5",
    "execution": {
     "iopub.execute_input": "2021-11-26T18:14:37.783468Z",
     "iopub.status.busy": "2021-11-26T18:14:37.782690Z",
     "iopub.status.idle": "2021-11-26T18:14:41.953150Z",
     "shell.execute_reply": "2021-11-26T18:14:41.954368Z",
     "shell.execute_reply.started": "2021-11-26T17:56:19.846762Z"
    },
    "papermill": {
     "duration": 4.191386,
     "end_time": "2021-11-26T18:14:41.954735",
     "exception": false,
     "start_time": "2021-11-26T18:14:37.763349",
     "status": "completed"
    },
    "tags": []
   },
   "outputs": [],
   "source": [
    "import pandas as pd\n",
    "import numpy as np\n",
    "from tqdm import tqdm\n",
    "import tensorflow as tf\n",
    "from sklearn.metrics import f1_score"
   ]
  },
  {
   "cell_type": "code",
   "execution_count": 2,
   "id": "c5f52dac",
   "metadata": {
    "execution": {
     "iopub.execute_input": "2021-11-26T18:14:41.993600Z",
     "iopub.status.busy": "2021-11-26T18:14:41.992571Z",
     "iopub.status.idle": "2021-11-26T18:14:45.169838Z",
     "shell.execute_reply": "2021-11-26T18:14:45.169283Z",
     "shell.execute_reply.started": "2021-11-26T17:56:26.953962Z"
    },
    "papermill": {
     "duration": 3.199282,
     "end_time": "2021-11-26T18:14:45.169962",
     "exception": false,
     "start_time": "2021-11-26T18:14:41.970680",
     "status": "completed"
    },
    "tags": []
   },
   "outputs": [],
   "source": [
    "train = pd.read_csv('../input/smai-project-data/train_data.csv').fillna('')\n",
    "val = pd.read_csv('../input/smai-project-data/val_data.csv').fillna('')\n",
    "test = pd.read_csv('../input/smai-project-data/test_data.csv').fillna('')"
   ]
  },
  {
   "cell_type": "code",
   "execution_count": 3,
   "id": "d8a23204",
   "metadata": {
    "execution": {
     "iopub.execute_input": "2021-11-26T18:14:45.195773Z",
     "iopub.status.busy": "2021-11-26T18:14:45.194923Z",
     "iopub.status.idle": "2021-11-26T18:14:45.208191Z",
     "shell.execute_reply": "2021-11-26T18:14:45.208631Z",
     "shell.execute_reply.started": "2021-11-26T17:56:30.143972Z"
    },
    "papermill": {
     "duration": 0.029757,
     "end_time": "2021-11-26T18:14:45.208760",
     "exception": false,
     "start_time": "2021-11-26T18:14:45.179003",
     "status": "completed"
    },
    "tags": []
   },
   "outputs": [
    {
     "data": {
      "text/html": [
       "<div>\n",
       "<style scoped>\n",
       "    .dataframe tbody tr th:only-of-type {\n",
       "        vertical-align: middle;\n",
       "    }\n",
       "\n",
       "    .dataframe tbody tr th {\n",
       "        vertical-align: top;\n",
       "    }\n",
       "\n",
       "    .dataframe thead th {\n",
       "        text-align: right;\n",
       "    }\n",
       "</style>\n",
       "<table border=\"1\" class=\"dataframe\">\n",
       "  <thead>\n",
       "    <tr style=\"text-align: right;\">\n",
       "      <th></th>\n",
       "      <th>id</th>\n",
       "      <th>qid1</th>\n",
       "      <th>qid2</th>\n",
       "      <th>question1</th>\n",
       "      <th>question2</th>\n",
       "      <th>is_duplicate</th>\n",
       "      <th>question1_preprocessed</th>\n",
       "      <th>question2_preprocessed</th>\n",
       "    </tr>\n",
       "  </thead>\n",
       "  <tbody>\n",
       "    <tr>\n",
       "      <th>0</th>\n",
       "      <td>8067</td>\n",
       "      <td>15738</td>\n",
       "      <td>15739</td>\n",
       "      <td>How do I play Pokémon GO in Korea?</td>\n",
       "      <td>How do I play Pokémon GO in China?</td>\n",
       "      <td>0</td>\n",
       "      <td>how do i play pok mon go in korea ?</td>\n",
       "      <td>how do i play pok mon go in china ?</td>\n",
       "    </tr>\n",
       "    <tr>\n",
       "      <th>1</th>\n",
       "      <td>368101</td>\n",
       "      <td>12736</td>\n",
       "      <td>104117</td>\n",
       "      <td>What are some of the best side dishes for crab...</td>\n",
       "      <td>What are some good side dishes for buffalo chi...</td>\n",
       "      <td>0</td>\n",
       "      <td>what are some of the best side dishes for crab...</td>\n",
       "      <td>what are some good side dishes for buffalo chi...</td>\n",
       "    </tr>\n",
       "    <tr>\n",
       "      <th>2</th>\n",
       "      <td>70497</td>\n",
       "      <td>121486</td>\n",
       "      <td>121487</td>\n",
       "      <td>Which is more advisable and better material fo...</td>\n",
       "      <td>What is the best server setup for buddypress?</td>\n",
       "      <td>0</td>\n",
       "      <td>which is more advisable and better material fo...</td>\n",
       "      <td>what is the best server setup for buddypress ?</td>\n",
       "    </tr>\n",
       "    <tr>\n",
       "      <th>3</th>\n",
       "      <td>226567</td>\n",
       "      <td>254474</td>\n",
       "      <td>258192</td>\n",
       "      <td>How do I improve logical programming skills?</td>\n",
       "      <td>How can I improve my logical skills for progra...</td>\n",
       "      <td>1</td>\n",
       "      <td>how do i improve logical programming skills ?</td>\n",
       "      <td>how can i improve my logical skills for progra...</td>\n",
       "    </tr>\n",
       "    <tr>\n",
       "      <th>4</th>\n",
       "      <td>73186</td>\n",
       "      <td>48103</td>\n",
       "      <td>3062</td>\n",
       "      <td>How close we are to see 3rd world war?</td>\n",
       "      <td>How close is a World War III?</td>\n",
       "      <td>1</td>\n",
       "      <td>how close we are to see 3rd world war ?</td>\n",
       "      <td>how close is a world war iii ?</td>\n",
       "    </tr>\n",
       "  </tbody>\n",
       "</table>\n",
       "</div>"
      ],
      "text/plain": [
       "       id    qid1    qid2                                          question1  \\\n",
       "0    8067   15738   15739                 How do I play Pokémon GO in Korea?   \n",
       "1  368101   12736  104117  What are some of the best side dishes for crab...   \n",
       "2   70497  121486  121487  Which is more advisable and better material fo...   \n",
       "3  226567  254474  258192       How do I improve logical programming skills?   \n",
       "4   73186   48103    3062             How close we are to see 3rd world war?   \n",
       "\n",
       "                                           question2  is_duplicate  \\\n",
       "0                 How do I play Pokémon GO in China?             0   \n",
       "1  What are some good side dishes for buffalo chi...             0   \n",
       "2      What is the best server setup for buddypress?             0   \n",
       "3  How can I improve my logical skills for progra...             1   \n",
       "4                      How close is a World War III?             1   \n",
       "\n",
       "                              question1_preprocessed  \\\n",
       "0                how do i play pok mon go in korea ?   \n",
       "1  what are some of the best side dishes for crab...   \n",
       "2  which is more advisable and better material fo...   \n",
       "3      how do i improve logical programming skills ?   \n",
       "4            how close we are to see 3rd world war ?   \n",
       "\n",
       "                              question2_preprocessed  \n",
       "0                how do i play pok mon go in china ?  \n",
       "1  what are some good side dishes for buffalo chi...  \n",
       "2     what is the best server setup for buddypress ?  \n",
       "3  how can i improve my logical skills for progra...  \n",
       "4                     how close is a world war iii ?  "
      ]
     },
     "execution_count": 3,
     "metadata": {},
     "output_type": "execute_result"
    }
   ],
   "source": [
    "train.head()"
   ]
  },
  {
   "cell_type": "code",
   "execution_count": 4,
   "id": "8fa27fcb",
   "metadata": {
    "execution": {
     "iopub.execute_input": "2021-11-26T18:14:45.238700Z",
     "iopub.status.busy": "2021-11-26T18:14:45.237118Z",
     "iopub.status.idle": "2021-11-26T18:14:45.239284Z",
     "shell.execute_reply": "2021-11-26T18:14:45.239731Z",
     "shell.execute_reply.started": "2021-11-26T17:56:30.166119Z"
    },
    "papermill": {
     "duration": 0.019947,
     "end_time": "2021-11-26T18:14:45.239854",
     "exception": false,
     "start_time": "2021-11-26T18:14:45.219907",
     "status": "completed"
    },
    "tags": []
   },
   "outputs": [],
   "source": [
    "def buildVocabulary(reviews):\n",
    "    tokenizer = tf.keras.preprocessing.text.Tokenizer(lower=False, split=' ')\n",
    "    tokenizer.fit_on_texts(reviews)\n",
    "    return tokenizer\n",
    "\n",
    "def getSequences(reviews, tokenizer, seq_maxlen):\n",
    "    reviews_seq = tokenizer.texts_to_sequences(reviews)\n",
    "    return np.array(tf.keras.preprocessing.sequence.pad_sequences(reviews_seq, maxlen=seq_maxlen))\n",
    "\n",
    "def loadGloveWordEmbeddings():\n",
    "    embedding_vectors = {}\n",
    "    with open('../input/glove840b300dtxt/glove.840B.300d.txt') as f:\n",
    "        for line in tqdm(f):\n",
    "            values = line.split(' ')\n",
    "            word = values[0]\n",
    "            coefs = np.asarray(values[1:], dtype='float32')\n",
    "            embedding_vectors[word] = coefs\n",
    "    return embedding_vectors\n",
    "\n",
    "def getEmbeddingWeightMatrix(embedding_vectors, word2idx):    \n",
    "    embedding_matrix = np.zeros((len(word2idx)+1, 300))\n",
    "    for word, i in tqdm(word2idx.items()):\n",
    "        embedding_vector = embedding_vectors.get(word)\n",
    "        if embedding_vector is not None:\n",
    "            embedding_matrix[i] = embedding_vector\n",
    "    return embedding_matrix"
   ]
  },
  {
   "cell_type": "code",
   "execution_count": 5,
   "id": "a41d217f",
   "metadata": {
    "execution": {
     "iopub.execute_input": "2021-11-26T18:14:45.315453Z",
     "iopub.status.busy": "2021-11-26T18:14:45.278292Z",
     "iopub.status.idle": "2021-11-26T18:15:16.814780Z",
     "shell.execute_reply": "2021-11-26T18:15:16.814228Z",
     "shell.execute_reply.started": "2021-11-26T17:56:30.179531Z"
    },
    "papermill": {
     "duration": 31.5663,
     "end_time": "2021-11-26T18:15:16.814919",
     "exception": false,
     "start_time": "2021-11-26T18:14:45.248619",
     "status": "completed"
    },
    "tags": []
   },
   "outputs": [
    {
     "name": "stdout",
     "output_type": "stream",
     "text": [
      "119558\n"
     ]
    }
   ],
   "source": [
    "tokenizer = buildVocabulary(train['question1'].tolist()+train['question2'].tolist()+val['question1'].tolist()+val['question2'].tolist()+test['question1'].tolist()+test['question2'].tolist())\n",
    "vocab_size = len(tokenizer.word_index) + 1\n",
    "print(vocab_size)\n",
    "\n",
    "x_train1 = getSequences(train['question1'], tokenizer, 128)\n",
    "x_train2 = getSequences(train['question2'], tokenizer, 128)\n",
    "y_train = tf.keras.utils.to_categorical(train['is_duplicate'])\n",
    "\n",
    "x_val1 = getSequences(val['question1'], tokenizer, 128)\n",
    "x_val2 = getSequences(val['question2'], tokenizer, 128)\n",
    "y_val = tf.keras.utils.to_categorical(val['is_duplicate'])\n",
    "\n",
    "x_test1 = getSequences(test['question1'], tokenizer, 128)\n",
    "x_test2 = getSequences(test['question2'], tokenizer, 128)\n",
    "y_test = tf.keras.utils.to_categorical(test['is_duplicate'])"
   ]
  },
  {
   "cell_type": "code",
   "execution_count": 6,
   "id": "8db43fe3",
   "metadata": {
    "execution": {
     "iopub.execute_input": "2021-11-26T18:15:16.838267Z",
     "iopub.status.busy": "2021-11-26T18:15:16.835891Z",
     "iopub.status.idle": "2021-11-26T18:19:31.227869Z",
     "shell.execute_reply": "2021-11-26T18:19:31.228578Z",
     "shell.execute_reply.started": "2021-11-26T17:57:01.886419Z"
    },
    "papermill": {
     "duration": 254.404221,
     "end_time": "2021-11-26T18:19:31.228737",
     "exception": false,
     "start_time": "2021-11-26T18:15:16.824516",
     "status": "completed"
    },
    "tags": []
   },
   "outputs": [
    {
     "name": "stderr",
     "output_type": "stream",
     "text": [
      "2196018it [04:13, 8647.77it/s]\n"
     ]
    },
    {
     "name": "stdout",
     "output_type": "stream",
     "text": [
      "2196017\n"
     ]
    },
    {
     "name": "stderr",
     "output_type": "stream",
     "text": [
      "100%|██████████| 119557/119557 [00:00<00:00, 278036.41it/s]"
     ]
    },
    {
     "name": "stdout",
     "output_type": "stream",
     "text": [
      "(119558, 300)\n"
     ]
    },
    {
     "name": "stderr",
     "output_type": "stream",
     "text": [
      "\n"
     ]
    }
   ],
   "source": [
    "embedding_vectors = loadGloveWordEmbeddings()\n",
    "print(len(embedding_vectors))\n",
    "\n",
    "embedding_weight_matrix = getEmbeddingWeightMatrix(embedding_vectors, tokenizer.word_index)\n",
    "print(embedding_weight_matrix.shape)"
   ]
  },
  {
   "cell_type": "code",
   "execution_count": 7,
   "id": "954442f3",
   "metadata": {
    "execution": {
     "iopub.execute_input": "2021-11-26T18:19:32.562800Z",
     "iopub.status.busy": "2021-11-26T18:19:32.562194Z",
     "iopub.status.idle": "2021-11-26T18:19:35.778668Z",
     "shell.execute_reply": "2021-11-26T18:19:35.778029Z",
     "shell.execute_reply.started": "2021-11-26T18:13:38.539986Z"
    },
    "papermill": {
     "duration": 3.859439,
     "end_time": "2021-11-26T18:19:35.778801",
     "exception": false,
     "start_time": "2021-11-26T18:19:31.919362",
     "status": "completed"
    },
    "tags": []
   },
   "outputs": [
    {
     "name": "stderr",
     "output_type": "stream",
     "text": [
      "2021-11-26 18:19:32.643490: I tensorflow/stream_executor/cuda/cuda_gpu_executor.cc:937] successful NUMA node read from SysFS had negative value (-1), but there must be at least one NUMA node, so returning NUMA node zero\n",
      "2021-11-26 18:19:32.740911: I tensorflow/stream_executor/cuda/cuda_gpu_executor.cc:937] successful NUMA node read from SysFS had negative value (-1), but there must be at least one NUMA node, so returning NUMA node zero\n",
      "2021-11-26 18:19:32.741632: I tensorflow/stream_executor/cuda/cuda_gpu_executor.cc:937] successful NUMA node read from SysFS had negative value (-1), but there must be at least one NUMA node, so returning NUMA node zero\n",
      "2021-11-26 18:19:32.743340: I tensorflow/core/platform/cpu_feature_guard.cc:142] This TensorFlow binary is optimized with oneAPI Deep Neural Network Library (oneDNN) to use the following CPU instructions in performance-critical operations:  AVX2 AVX512F FMA\n",
      "To enable them in other operations, rebuild TensorFlow with the appropriate compiler flags.\n",
      "2021-11-26 18:19:32.744467: I tensorflow/stream_executor/cuda/cuda_gpu_executor.cc:937] successful NUMA node read from SysFS had negative value (-1), but there must be at least one NUMA node, so returning NUMA node zero\n",
      "2021-11-26 18:19:32.745138: I tensorflow/stream_executor/cuda/cuda_gpu_executor.cc:937] successful NUMA node read from SysFS had negative value (-1), but there must be at least one NUMA node, so returning NUMA node zero\n",
      "2021-11-26 18:19:32.745791: I tensorflow/stream_executor/cuda/cuda_gpu_executor.cc:937] successful NUMA node read from SysFS had negative value (-1), but there must be at least one NUMA node, so returning NUMA node zero\n",
      "2021-11-26 18:19:34.566311: I tensorflow/stream_executor/cuda/cuda_gpu_executor.cc:937] successful NUMA node read from SysFS had negative value (-1), but there must be at least one NUMA node, so returning NUMA node zero\n",
      "2021-11-26 18:19:34.567134: I tensorflow/stream_executor/cuda/cuda_gpu_executor.cc:937] successful NUMA node read from SysFS had negative value (-1), but there must be at least one NUMA node, so returning NUMA node zero\n",
      "2021-11-26 18:19:34.567791: I tensorflow/stream_executor/cuda/cuda_gpu_executor.cc:937] successful NUMA node read from SysFS had negative value (-1), but there must be at least one NUMA node, so returning NUMA node zero\n",
      "2021-11-26 18:19:34.569261: I tensorflow/core/common_runtime/gpu/gpu_device.cc:1510] Created device /job:localhost/replica:0/task:0/device:GPU:0 with 15403 MB memory:  -> device: 0, name: Tesla P100-PCIE-16GB, pci bus id: 0000:00:04.0, compute capability: 6.0\n",
      "2021-11-26 18:19:35.087225: W tensorflow/core/framework/cpu_allocator_impl.cc:80] Allocation of 143469600 exceeds 10% of free system memory.\n",
      "2021-11-26 18:19:35.324890: W tensorflow/core/framework/cpu_allocator_impl.cc:80] Allocation of 143469600 exceeds 10% of free system memory.\n"
     ]
    }
   ],
   "source": [
    "inp1 = tf.keras.Input(shape=(x_train1.shape[1],))\n",
    "inp2 = tf.keras.Input(shape=(x_train2.shape[1],))\n",
    "\n",
    "inner1= tf.keras.layers.Embedding(input_dim=119558, output_dim=300, input_length=128, \n",
    "                                  weights=[embedding_weight_matrix], trainable=False)(inp1)\n",
    "inner2= tf.keras.layers.Embedding(input_dim=119558, output_dim=300, input_length=128,\n",
    "                                  weights=[embedding_weight_matrix], trainable=False)(inp2)\n",
    "\n",
    "inner = tf.keras.layers.concatenate([inner1+inner2, inner1-inner2, tf.math.multiply(inner1, inner2)], axis=-1)\n",
    "\n",
    "out, h, c = tf.keras.layers.LSTM(150, return_sequences=False, dropout=0.2, return_state=True)(inner)\n",
    "\n",
    "output = tf.keras.layers.Dense(2, activation='softmax')(c)\n",
    "\n",
    "model = tf.keras.Model(inputs = [inp1, inp2], outputs = output)"
   ]
  },
  {
   "cell_type": "code",
   "execution_count": 8,
   "id": "2f51a872",
   "metadata": {
    "execution": {
     "iopub.execute_input": "2021-11-26T18:19:37.072180Z",
     "iopub.status.busy": "2021-11-26T18:19:37.071160Z",
     "iopub.status.idle": "2021-11-26T18:19:37.085955Z",
     "shell.execute_reply": "2021-11-26T18:19:37.085202Z",
     "shell.execute_reply.started": "2021-11-26T18:13:39.333304Z"
    },
    "papermill": {
     "duration": 0.664744,
     "end_time": "2021-11-26T18:19:37.086081",
     "exception": false,
     "start_time": "2021-11-26T18:19:36.421337",
     "status": "completed"
    },
    "tags": []
   },
   "outputs": [
    {
     "name": "stdout",
     "output_type": "stream",
     "text": [
      "Model: \"model\"\n",
      "__________________________________________________________________________________________________\n",
      "Layer (type)                    Output Shape         Param #     Connected to                     \n",
      "==================================================================================================\n",
      "input_1 (InputLayer)            [(None, 128)]        0                                            \n",
      "__________________________________________________________________________________________________\n",
      "input_2 (InputLayer)            [(None, 128)]        0                                            \n",
      "__________________________________________________________________________________________________\n",
      "embedding (Embedding)           (None, 128, 300)     35867400    input_1[0][0]                    \n",
      "__________________________________________________________________________________________________\n",
      "embedding_1 (Embedding)         (None, 128, 300)     35867400    input_2[0][0]                    \n",
      "__________________________________________________________________________________________________\n",
      "tf.__operators__.add (TFOpLambd (None, 128, 300)     0           embedding[0][0]                  \n",
      "                                                                 embedding_1[0][0]                \n",
      "__________________________________________________________________________________________________\n",
      "tf.math.subtract (TFOpLambda)   (None, 128, 300)     0           embedding[0][0]                  \n",
      "                                                                 embedding_1[0][0]                \n",
      "__________________________________________________________________________________________________\n",
      "tf.math.multiply (TFOpLambda)   (None, 128, 300)     0           embedding[0][0]                  \n",
      "                                                                 embedding_1[0][0]                \n",
      "__________________________________________________________________________________________________\n",
      "concatenate (Concatenate)       (None, 128, 900)     0           tf.__operators__.add[0][0]       \n",
      "                                                                 tf.math.subtract[0][0]           \n",
      "                                                                 tf.math.multiply[0][0]           \n",
      "__________________________________________________________________________________________________\n",
      "lstm (LSTM)                     [(None, 150), (None, 630600      concatenate[0][0]                \n",
      "__________________________________________________________________________________________________\n",
      "dense (Dense)                   (None, 2)            302         lstm[0][2]                       \n",
      "==================================================================================================\n",
      "Total params: 72,365,702\n",
      "Trainable params: 630,902\n",
      "Non-trainable params: 71,734,800\n",
      "__________________________________________________________________________________________________\n"
     ]
    }
   ],
   "source": [
    "model.compile(optimizer = tf.keras.optimizers.Adam(learning_rate=0.008), loss = 'categorical_crossentropy', metrics=['accuracy'])\n",
    "model.summary()"
   ]
  },
  {
   "cell_type": "code",
   "execution_count": 9,
   "id": "cbe9af94",
   "metadata": {
    "execution": {
     "iopub.execute_input": "2021-11-26T18:19:38.372421Z",
     "iopub.status.busy": "2021-11-26T18:19:38.371476Z",
     "iopub.status.idle": "2021-11-26T20:02:56.261601Z",
     "shell.execute_reply": "2021-11-26T20:02:56.262118Z",
     "shell.execute_reply.started": "2021-11-26T18:13:39.802509Z"
    },
    "papermill": {
     "duration": 6198.532529,
     "end_time": "2021-11-26T20:02:56.262297",
     "exception": false,
     "start_time": "2021-11-26T18:19:37.729768",
     "status": "completed"
    },
    "tags": []
   },
   "outputs": [
    {
     "name": "stderr",
     "output_type": "stream",
     "text": [
      "2021-11-26 18:19:38.372977: W tensorflow/core/framework/cpu_allocator_impl.cc:80] Allocation of 144897536 exceeds 10% of free system memory.\n",
      "2021-11-26 18:19:38.481463: W tensorflow/core/framework/cpu_allocator_impl.cc:80] Allocation of 144897536 exceeds 10% of free system memory.\n",
      "2021-11-26 18:19:38.707386: I tensorflow/compiler/mlir/mlir_graph_optimization_pass.cc:185] None of the MLIR Optimization Passes are enabled (registered 2)\n"
     ]
    },
    {
     "name": "stdout",
     "output_type": "stream",
     "text": [
      "Epoch 1/15\n"
     ]
    },
    {
     "name": "stderr",
     "output_type": "stream",
     "text": [
      "2021-11-26 18:19:41.239087: I tensorflow/stream_executor/cuda/cuda_dnn.cc:369] Loaded cuDNN version 8005\n"
     ]
    },
    {
     "name": "stdout",
     "output_type": "stream",
     "text": [
      "35375/35376 [============================>.] - ETA: 0s - loss: 0.5711 - accuracy: 0.7082"
     ]
    },
    {
     "name": "stderr",
     "output_type": "stream",
     "text": [
      "2021-11-26 18:25:13.667165: W tensorflow/core/framework/cpu_allocator_impl.cc:80] Allocation of 41399296 exceeds 10% of free system memory.\n"
     ]
    },
    {
     "name": "stdout",
     "output_type": "stream",
     "text": [
      "35376/35376 [==============================] - 412s 12ms/step - loss: 0.5711 - accuracy: 0.7082 - val_loss: 0.5529 - val_accuracy: 0.7177\n",
      "\n",
      "Epoch 00001: saving model to weights.best.1.hdf5\n",
      "Epoch 2/15\n",
      "35376/35376 [==============================] - 411s 12ms/step - loss: 0.5548 - accuracy: 0.7230 - val_loss: 0.5385 - val_accuracy: 0.7366\n",
      "\n",
      "Epoch 00002: saving model to weights.best.2.hdf5\n",
      "Epoch 3/15\n",
      "35376/35376 [==============================] - 411s 12ms/step - loss: 0.5420 - accuracy: 0.7297 - val_loss: 0.5343 - val_accuracy: 0.7399\n",
      "\n",
      "Epoch 00003: saving model to weights.best.3.hdf5\n",
      "Epoch 4/15\n",
      "35376/35376 [==============================] - 410s 12ms/step - loss: 0.5456 - accuracy: 0.7319 - val_loss: 0.5296 - val_accuracy: 0.7434\n",
      "\n",
      "Epoch 00004: saving model to weights.best.4.hdf5\n",
      "Epoch 5/15\n",
      "35376/35376 [==============================] - 411s 12ms/step - loss: 0.5376 - accuracy: 0.7340 - val_loss: 0.5363 - val_accuracy: 0.7286\n",
      "\n",
      "Epoch 00005: saving model to weights.best.5.hdf5\n",
      "Epoch 6/15\n",
      "35376/35376 [==============================] - 411s 12ms/step - loss: 0.5397 - accuracy: 0.7327 - val_loss: 0.6019 - val_accuracy: 0.7102\n",
      "\n",
      "Epoch 00006: saving model to weights.best.6.hdf5\n",
      "Epoch 7/15\n",
      "35376/35376 [==============================] - 415s 12ms/step - loss: 0.5422 - accuracy: 0.7363 - val_loss: 0.5386 - val_accuracy: 0.7299\n",
      "\n",
      "Epoch 00007: saving model to weights.best.7.hdf5\n",
      "Epoch 8/15\n",
      "35376/35376 [==============================] - 419s 12ms/step - loss: 0.5322 - accuracy: 0.7396 - val_loss: 0.5411 - val_accuracy: 0.7313\n",
      "\n",
      "Epoch 00008: saving model to weights.best.8.hdf5\n",
      "Epoch 9/15\n",
      "35376/35376 [==============================] - 417s 12ms/step - loss: 0.5371 - accuracy: 0.7380 - val_loss: 0.5335 - val_accuracy: 0.7425\n",
      "\n",
      "Epoch 00009: saving model to weights.best.9.hdf5\n",
      "Epoch 10/15\n",
      "35376/35376 [==============================] - 411s 12ms/step - loss: 0.5307 - accuracy: 0.7392 - val_loss: 0.5360 - val_accuracy: 0.7413\n",
      "\n",
      "Epoch 00010: saving model to weights.best.10.hdf5\n",
      "Epoch 11/15\n",
      "35376/35376 [==============================] - 415s 12ms/step - loss: 0.5353 - accuracy: 0.7383 - val_loss: 0.5278 - val_accuracy: 0.7365\n",
      "\n",
      "Epoch 00011: saving model to weights.best.11.hdf5\n",
      "Epoch 12/15\n",
      "35376/35376 [==============================] - 409s 12ms/step - loss: 0.5257 - accuracy: 0.7419 - val_loss: 0.5416 - val_accuracy: 0.7274\n",
      "\n",
      "Epoch 00012: saving model to weights.best.12.hdf5\n",
      "Epoch 13/15\n",
      "35376/35376 [==============================] - 410s 12ms/step - loss: 0.5306 - accuracy: 0.7420 - val_loss: 0.5297 - val_accuracy: 0.7419\n",
      "\n",
      "Epoch 00013: saving model to weights.best.13.hdf5\n",
      "Epoch 14/15\n",
      "35376/35376 [==============================] - 414s 12ms/step - loss: 0.5242 - accuracy: 0.7420 - val_loss: 0.5378 - val_accuracy: 0.7325\n",
      "\n",
      "Epoch 00014: saving model to weights.best.14.hdf5\n",
      "Epoch 15/15\n",
      "35376/35376 [==============================] - 410s 12ms/step - loss: 0.5219 - accuracy: 0.7436 - val_loss: 0.5199 - val_accuracy: 0.7448\n",
      "\n",
      "Epoch 00015: saving model to weights.best.15.hdf5\n"
     ]
    }
   ],
   "source": [
    "checkpoint_filepath  = 'weights.best.{epoch:01d}.hdf5'\n",
    "model_checkpoint_callback = tf.keras.callbacks.ModelCheckpoint(filepath=checkpoint_filepath,\n",
    "                                                                verbose = 1, \n",
    "                                                                monitor = 'val_loss',\n",
    "                                                                save_best_only = False)\n",
    "history = model.fit((x_train1, x_train2), y_train,\n",
    "                    batch_size = 8,\n",
    "                    validation_data = ((x_val1, x_val2), y_val),\n",
    "                    validation_batch_size = 4,\n",
    "                    epochs=15,\n",
    "                    callbacks=[model_checkpoint_callback], \n",
    "                    verbose=1)"
   ]
  },
  {
   "cell_type": "code",
   "execution_count": 10,
   "id": "870edd3f",
   "metadata": {
    "execution": {
     "iopub.execute_input": "2021-11-26T20:03:48.225110Z",
     "iopub.status.busy": "2021-11-26T20:03:48.217687Z",
     "iopub.status.idle": "2021-11-26T20:05:10.212279Z",
     "shell.execute_reply": "2021-11-26T20:05:10.212821Z",
     "shell.execute_reply.started": "2021-11-26T06:44:15.964825Z"
    },
    "papermill": {
     "duration": 108.105881,
     "end_time": "2021-11-26T20:05:10.213002",
     "exception": false,
     "start_time": "2021-11-26T20:03:22.107121",
     "status": "completed"
    },
    "tags": []
   },
   "outputs": [
    {
     "name": "stdout",
     "output_type": "stream",
     "text": [
      "10108/10108 [==============================] - 44s 4ms/step - loss: 0.5163 - accuracy: 0.7466\n",
      "loss on test data is 0.5163343548774719\n",
      "accuracy on test data is 0.7466175556182861\n"
     ]
    }
   ],
   "source": [
    "loss, accuracy = model.evaluate((x_test1, x_test2), y_test, batch_size=4, verbose=1)\n",
    "\n",
    "print('loss on test data is', loss)\n",
    "print('accuracy on test data is', accuracy)"
   ]
  },
  {
   "cell_type": "code",
   "execution_count": 11,
   "id": "fa64f411",
   "metadata": {
    "execution": {
     "iopub.execute_input": "2021-11-26T20:06:02.964643Z",
     "iopub.status.busy": "2021-11-26T20:06:02.963631Z",
     "iopub.status.idle": "2021-11-26T20:06:08.452017Z",
     "shell.execute_reply": "2021-11-26T20:06:08.451407Z",
     "shell.execute_reply.started": "2021-11-26T06:48:04.404082Z"
    },
    "papermill": {
     "duration": 31.797483,
     "end_time": "2021-11-26T20:06:08.452161",
     "exception": false,
     "start_time": "2021-11-26T20:05:36.654678",
     "status": "completed"
    },
    "tags": []
   },
   "outputs": [
    {
     "name": "stdout",
     "output_type": "stream",
     "text": [
      "f1_score on test dataset is 0.6540825285338016\n"
     ]
    }
   ],
   "source": [
    "pred = model.predict((x_test1, x_test2))\n",
    "\n",
    "print('f1_score on test dataset is', f1_score(np.argmax(pred, axis=1), np.argmax(y_test, axis=1)))"
   ]
  }
 ],
 "metadata": {
  "kernelspec": {
   "display_name": "Python 3 (ipykernel)",
   "language": "python",
   "name": "python3"
  },
  "language_info": {
   "codemirror_mode": {
    "name": "ipython",
    "version": 3
   },
   "file_extension": ".py",
   "mimetype": "text/x-python",
   "name": "python",
   "nbconvert_exporter": "python",
   "pygments_lexer": "ipython3",
   "version": "3.8.10"
  },
  "papermill": {
   "default_parameters": {},
   "duration": 6727.359414,
   "end_time": "2021-11-26T20:06:37.731248",
   "environment_variables": {},
   "exception": null,
   "input_path": "__notebook__.ipynb",
   "output_path": "__notebook__.ipynb",
   "parameters": {},
   "start_time": "2021-11-26T18:14:30.371834",
   "version": "2.3.3"
  }
 },
 "nbformat": 4,
 "nbformat_minor": 5
}
