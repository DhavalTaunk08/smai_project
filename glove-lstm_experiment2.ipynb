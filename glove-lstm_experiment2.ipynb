{
 "cells": [
  {
   "cell_type": "code",
   "execution_count": 1,
   "id": "463cdfe2",
   "metadata": {
    "_cell_guid": "b1076dfc-b9ad-4769-8c92-a6c4dae69d19",
    "_uuid": "8f2839f25d086af736a60e9eeb907d3b93b6e0e5",
    "execution": {
     "iopub.execute_input": "2021-11-27T12:08:41.831732Z",
     "iopub.status.busy": "2021-11-27T12:08:41.830214Z",
     "iopub.status.idle": "2021-11-27T12:08:46.190169Z",
     "shell.execute_reply": "2021-11-27T12:08:46.191437Z",
     "shell.execute_reply.started": "2021-11-27T12:00:46.157037Z"
    },
    "papermill": {
     "duration": 4.374885,
     "end_time": "2021-11-27T12:08:46.191813",
     "exception": false,
     "start_time": "2021-11-27T12:08:41.816928",
     "status": "completed"
    },
    "tags": []
   },
   "outputs": [],
   "source": [
    "import pandas as pd\n",
    "import numpy as np\n",
    "from tqdm import tqdm\n",
    "import tensorflow as tf\n",
    "from sklearn.metrics import f1_score"
   ]
  },
  {
   "cell_type": "code",
   "execution_count": 2,
   "id": "f5492fbc",
   "metadata": {
    "execution": {
     "iopub.execute_input": "2021-11-27T12:08:46.234441Z",
     "iopub.status.busy": "2021-11-27T12:08:46.233642Z",
     "iopub.status.idle": "2021-11-27T12:08:49.275927Z",
     "shell.execute_reply": "2021-11-27T12:08:49.275221Z",
     "shell.execute_reply.started": "2021-11-27T12:01:20.790764Z"
    },
    "papermill": {
     "duration": 3.064561,
     "end_time": "2021-11-27T12:08:49.276093",
     "exception": false,
     "start_time": "2021-11-27T12:08:46.211532",
     "status": "completed"
    },
    "tags": []
   },
   "outputs": [],
   "source": [
    "train = pd.read_csv('../input/smai-project-data/train_data.csv').fillna('')\n",
    "val = pd.read_csv('../input/smai-project-data/val_data.csv').fillna('')\n",
    "test = pd.read_csv('../input/smai-project-data/test_data.csv').fillna('')"
   ]
  },
  {
   "cell_type": "code",
   "execution_count": 3,
   "id": "c258cc06",
   "metadata": {
    "execution": {
     "iopub.execute_input": "2021-11-27T12:08:49.302492Z",
     "iopub.status.busy": "2021-11-27T12:08:49.301619Z",
     "iopub.status.idle": "2021-11-27T12:08:49.315008Z",
     "shell.execute_reply": "2021-11-27T12:08:49.314578Z",
     "shell.execute_reply.started": "2021-11-27T12:01:23.944091Z"
    },
    "papermill": {
     "duration": 0.030158,
     "end_time": "2021-11-27T12:08:49.315120",
     "exception": false,
     "start_time": "2021-11-27T12:08:49.284962",
     "status": "completed"
    },
    "tags": []
   },
   "outputs": [
    {
     "data": {
      "text/html": [
       "<div>\n",
       "<style scoped>\n",
       "    .dataframe tbody tr th:only-of-type {\n",
       "        vertical-align: middle;\n",
       "    }\n",
       "\n",
       "    .dataframe tbody tr th {\n",
       "        vertical-align: top;\n",
       "    }\n",
       "\n",
       "    .dataframe thead th {\n",
       "        text-align: right;\n",
       "    }\n",
       "</style>\n",
       "<table border=\"1\" class=\"dataframe\">\n",
       "  <thead>\n",
       "    <tr style=\"text-align: right;\">\n",
       "      <th></th>\n",
       "      <th>id</th>\n",
       "      <th>qid1</th>\n",
       "      <th>qid2</th>\n",
       "      <th>question1</th>\n",
       "      <th>question2</th>\n",
       "      <th>is_duplicate</th>\n",
       "      <th>question1_preprocessed</th>\n",
       "      <th>question2_preprocessed</th>\n",
       "    </tr>\n",
       "  </thead>\n",
       "  <tbody>\n",
       "    <tr>\n",
       "      <th>0</th>\n",
       "      <td>8067</td>\n",
       "      <td>15738</td>\n",
       "      <td>15739</td>\n",
       "      <td>How do I play Pokémon GO in Korea?</td>\n",
       "      <td>How do I play Pokémon GO in China?</td>\n",
       "      <td>0</td>\n",
       "      <td>how do i play pok mon go in korea ?</td>\n",
       "      <td>how do i play pok mon go in china ?</td>\n",
       "    </tr>\n",
       "    <tr>\n",
       "      <th>1</th>\n",
       "      <td>368101</td>\n",
       "      <td>12736</td>\n",
       "      <td>104117</td>\n",
       "      <td>What are some of the best side dishes for crab...</td>\n",
       "      <td>What are some good side dishes for buffalo chi...</td>\n",
       "      <td>0</td>\n",
       "      <td>what are some of the best side dishes for crab...</td>\n",
       "      <td>what are some good side dishes for buffalo chi...</td>\n",
       "    </tr>\n",
       "    <tr>\n",
       "      <th>2</th>\n",
       "      <td>70497</td>\n",
       "      <td>121486</td>\n",
       "      <td>121487</td>\n",
       "      <td>Which is more advisable and better material fo...</td>\n",
       "      <td>What is the best server setup for buddypress?</td>\n",
       "      <td>0</td>\n",
       "      <td>which is more advisable and better material fo...</td>\n",
       "      <td>what is the best server setup for buddypress ?</td>\n",
       "    </tr>\n",
       "    <tr>\n",
       "      <th>3</th>\n",
       "      <td>226567</td>\n",
       "      <td>254474</td>\n",
       "      <td>258192</td>\n",
       "      <td>How do I improve logical programming skills?</td>\n",
       "      <td>How can I improve my logical skills for progra...</td>\n",
       "      <td>1</td>\n",
       "      <td>how do i improve logical programming skills ?</td>\n",
       "      <td>how can i improve my logical skills for progra...</td>\n",
       "    </tr>\n",
       "    <tr>\n",
       "      <th>4</th>\n",
       "      <td>73186</td>\n",
       "      <td>48103</td>\n",
       "      <td>3062</td>\n",
       "      <td>How close we are to see 3rd world war?</td>\n",
       "      <td>How close is a World War III?</td>\n",
       "      <td>1</td>\n",
       "      <td>how close we are to see 3rd world war ?</td>\n",
       "      <td>how close is a world war iii ?</td>\n",
       "    </tr>\n",
       "  </tbody>\n",
       "</table>\n",
       "</div>"
      ],
      "text/plain": [
       "       id    qid1    qid2                                          question1  \\\n",
       "0    8067   15738   15739                 How do I play Pokémon GO in Korea?   \n",
       "1  368101   12736  104117  What are some of the best side dishes for crab...   \n",
       "2   70497  121486  121487  Which is more advisable and better material fo...   \n",
       "3  226567  254474  258192       How do I improve logical programming skills?   \n",
       "4   73186   48103    3062             How close we are to see 3rd world war?   \n",
       "\n",
       "                                           question2  is_duplicate  \\\n",
       "0                 How do I play Pokémon GO in China?             0   \n",
       "1  What are some good side dishes for buffalo chi...             0   \n",
       "2      What is the best server setup for buddypress?             0   \n",
       "3  How can I improve my logical skills for progra...             1   \n",
       "4                      How close is a World War III?             1   \n",
       "\n",
       "                              question1_preprocessed  \\\n",
       "0                how do i play pok mon go in korea ?   \n",
       "1  what are some of the best side dishes for crab...   \n",
       "2  which is more advisable and better material fo...   \n",
       "3      how do i improve logical programming skills ?   \n",
       "4            how close we are to see 3rd world war ?   \n",
       "\n",
       "                              question2_preprocessed  \n",
       "0                how do i play pok mon go in china ?  \n",
       "1  what are some good side dishes for buffalo chi...  \n",
       "2     what is the best server setup for buddypress ?  \n",
       "3  how can i improve my logical skills for progra...  \n",
       "4                     how close is a world war iii ?  "
      ]
     },
     "execution_count": 3,
     "metadata": {},
     "output_type": "execute_result"
    }
   ],
   "source": [
    "train.head()"
   ]
  },
  {
   "cell_type": "code",
   "execution_count": 4,
   "id": "b6872129",
   "metadata": {
    "execution": {
     "iopub.execute_input": "2021-11-27T12:08:49.344434Z",
     "iopub.status.busy": "2021-11-27T12:08:49.342831Z",
     "iopub.status.idle": "2021-11-27T12:08:49.345021Z",
     "shell.execute_reply": "2021-11-27T12:08:49.345427Z",
     "shell.execute_reply.started": "2021-11-27T12:01:23.970144Z"
    },
    "papermill": {
     "duration": 0.019498,
     "end_time": "2021-11-27T12:08:49.345571",
     "exception": false,
     "start_time": "2021-11-27T12:08:49.326073",
     "status": "completed"
    },
    "tags": []
   },
   "outputs": [],
   "source": [
    "def buildVocabulary(reviews):\n",
    "    tokenizer = tf.keras.preprocessing.text.Tokenizer(lower=False, split=' ')\n",
    "    tokenizer.fit_on_texts(reviews)\n",
    "    return tokenizer\n",
    "\n",
    "def getSequences(reviews, tokenizer, seq_maxlen):\n",
    "    reviews_seq = tokenizer.texts_to_sequences(reviews)\n",
    "    return np.array(tf.keras.preprocessing.sequence.pad_sequences(reviews_seq, maxlen=seq_maxlen))\n",
    "\n",
    "def loadGloveWordEmbeddings():\n",
    "    embedding_vectors = {}\n",
    "    with open('../input/glove840b300dtxt/glove.840B.300d.txt') as f:\n",
    "        for line in tqdm(f):\n",
    "            values = line.split(' ')\n",
    "            word = values[0]\n",
    "            coefs = np.asarray(values[1:], dtype='float32')\n",
    "            embedding_vectors[word] = coefs\n",
    "    return embedding_vectors\n",
    "\n",
    "def getEmbeddingWeightMatrix(embedding_vectors, word2idx):    \n",
    "    embedding_matrix = np.zeros((len(word2idx)+1, 300))\n",
    "    for word, i in tqdm(word2idx.items()):\n",
    "        embedding_vector = embedding_vectors.get(word)\n",
    "        if embedding_vector is not None:\n",
    "            embedding_matrix[i] = embedding_vector\n",
    "    return embedding_matrix"
   ]
  },
  {
   "cell_type": "code",
   "execution_count": 5,
   "id": "8f7922fc",
   "metadata": {
    "execution": {
     "iopub.execute_input": "2021-11-27T12:08:49.448874Z",
     "iopub.status.busy": "2021-11-27T12:08:49.433955Z",
     "iopub.status.idle": "2021-11-27T12:09:20.791737Z",
     "shell.execute_reply": "2021-11-27T12:09:20.790848Z",
     "shell.execute_reply.started": "2021-11-27T12:01:23.981878Z"
    },
    "papermill": {
     "duration": 31.437607,
     "end_time": "2021-11-27T12:09:20.791872",
     "exception": false,
     "start_time": "2021-11-27T12:08:49.354265",
     "status": "completed"
    },
    "tags": []
   },
   "outputs": [
    {
     "name": "stdout",
     "output_type": "stream",
     "text": [
      "119558\n"
     ]
    }
   ],
   "source": [
    "tokenizer = buildVocabulary(train['question1'].tolist()+train['question2'].tolist()+val['question1'].tolist()+val['question2'].tolist()+test['question1'].tolist()+test['question2'].tolist())\n",
    "vocab_size = len(tokenizer.word_index) + 1\n",
    "print(vocab_size)\n",
    "\n",
    "x_train1 = getSequences(train['question1'], tokenizer, 128)\n",
    "x_train2 = getSequences(train['question2'], tokenizer, 128)\n",
    "y_train = tf.keras.utils.to_categorical(train['is_duplicate'])\n",
    "\n",
    "x_val1 = getSequences(val['question1'], tokenizer, 128)\n",
    "x_val2 = getSequences(val['question2'], tokenizer, 128)\n",
    "y_val = tf.keras.utils.to_categorical(val['is_duplicate'])\n",
    "\n",
    "x_test1 = getSequences(test['question1'], tokenizer, 128)\n",
    "x_test2 = getSequences(test['question2'], tokenizer, 128)\n",
    "y_test = tf.keras.utils.to_categorical(test['is_duplicate'])"
   ]
  },
  {
   "cell_type": "code",
   "execution_count": 6,
   "id": "9b150933",
   "metadata": {
    "execution": {
     "iopub.execute_input": "2021-11-27T12:09:20.814824Z",
     "iopub.status.busy": "2021-11-27T12:09:20.814296Z",
     "iopub.status.idle": "2021-11-27T12:13:35.316682Z",
     "shell.execute_reply": "2021-11-27T12:13:35.316186Z",
     "shell.execute_reply.started": "2021-11-27T12:01:55.400902Z"
    },
    "papermill": {
     "duration": 254.515388,
     "end_time": "2021-11-27T12:13:35.316831",
     "exception": false,
     "start_time": "2021-11-27T12:09:20.801443",
     "status": "completed"
    },
    "tags": []
   },
   "outputs": [
    {
     "name": "stderr",
     "output_type": "stream",
     "text": [
      "2196018it [04:14, 8643.10it/s]\n"
     ]
    },
    {
     "name": "stdout",
     "output_type": "stream",
     "text": [
      "2196017\n"
     ]
    },
    {
     "name": "stderr",
     "output_type": "stream",
     "text": [
      "100%|██████████| 119557/119557 [00:00<00:00, 293886.77it/s]"
     ]
    },
    {
     "name": "stdout",
     "output_type": "stream",
     "text": [
      "(119558, 300)\n"
     ]
    },
    {
     "name": "stderr",
     "output_type": "stream",
     "text": [
      "\n"
     ]
    }
   ],
   "source": [
    "embedding_vectors = loadGloveWordEmbeddings()\n",
    "print(len(embedding_vectors))\n",
    "\n",
    "embedding_weight_matrix = getEmbeddingWeightMatrix(embedding_vectors, tokenizer.word_index)\n",
    "print(embedding_weight_matrix.shape)"
   ]
  },
  {
   "cell_type": "code",
   "execution_count": 7,
   "id": "b7144e7b",
   "metadata": {
    "execution": {
     "iopub.execute_input": "2021-11-27T12:13:36.630783Z",
     "iopub.status.busy": "2021-11-27T12:13:36.630188Z",
     "iopub.status.idle": "2021-11-27T12:13:40.143507Z",
     "shell.execute_reply": "2021-11-27T12:13:40.143891Z",
     "shell.execute_reply.started": "2021-11-27T12:07:10.249289Z"
    },
    "papermill": {
     "duration": 4.189447,
     "end_time": "2021-11-27T12:13:40.144050",
     "exception": false,
     "start_time": "2021-11-27T12:13:35.954603",
     "status": "completed"
    },
    "tags": []
   },
   "outputs": [
    {
     "name": "stderr",
     "output_type": "stream",
     "text": [
      "2021-11-27 12:13:36.716551: I tensorflow/stream_executor/cuda/cuda_gpu_executor.cc:937] successful NUMA node read from SysFS had negative value (-1), but there must be at least one NUMA node, so returning NUMA node zero\n",
      "2021-11-27 12:13:36.823013: I tensorflow/stream_executor/cuda/cuda_gpu_executor.cc:937] successful NUMA node read from SysFS had negative value (-1), but there must be at least one NUMA node, so returning NUMA node zero\n",
      "2021-11-27 12:13:36.823835: I tensorflow/stream_executor/cuda/cuda_gpu_executor.cc:937] successful NUMA node read from SysFS had negative value (-1), but there must be at least one NUMA node, so returning NUMA node zero\n",
      "2021-11-27 12:13:36.825217: I tensorflow/core/platform/cpu_feature_guard.cc:142] This TensorFlow binary is optimized with oneAPI Deep Neural Network Library (oneDNN) to use the following CPU instructions in performance-critical operations:  AVX2 AVX512F FMA\n",
      "To enable them in other operations, rebuild TensorFlow with the appropriate compiler flags.\n",
      "2021-11-27 12:13:36.826348: I tensorflow/stream_executor/cuda/cuda_gpu_executor.cc:937] successful NUMA node read from SysFS had negative value (-1), but there must be at least one NUMA node, so returning NUMA node zero\n",
      "2021-11-27 12:13:36.827081: I tensorflow/stream_executor/cuda/cuda_gpu_executor.cc:937] successful NUMA node read from SysFS had negative value (-1), but there must be at least one NUMA node, so returning NUMA node zero\n",
      "2021-11-27 12:13:36.827952: I tensorflow/stream_executor/cuda/cuda_gpu_executor.cc:937] successful NUMA node read from SysFS had negative value (-1), but there must be at least one NUMA node, so returning NUMA node zero\n",
      "2021-11-27 12:13:38.774792: I tensorflow/stream_executor/cuda/cuda_gpu_executor.cc:937] successful NUMA node read from SysFS had negative value (-1), but there must be at least one NUMA node, so returning NUMA node zero\n",
      "2021-11-27 12:13:38.775619: I tensorflow/stream_executor/cuda/cuda_gpu_executor.cc:937] successful NUMA node read from SysFS had negative value (-1), but there must be at least one NUMA node, so returning NUMA node zero\n",
      "2021-11-27 12:13:38.776272: I tensorflow/stream_executor/cuda/cuda_gpu_executor.cc:937] successful NUMA node read from SysFS had negative value (-1), but there must be at least one NUMA node, so returning NUMA node zero\n",
      "2021-11-27 12:13:38.777755: I tensorflow/core/common_runtime/gpu/gpu_device.cc:1510] Created device /job:localhost/replica:0/task:0/device:GPU:0 with 15403 MB memory:  -> device: 0, name: Tesla P100-PCIE-16GB, pci bus id: 0000:00:04.0, compute capability: 6.0\n",
      "2021-11-27 12:13:39.349604: W tensorflow/core/framework/cpu_allocator_impl.cc:80] Allocation of 143469600 exceeds 10% of free system memory.\n",
      "2021-11-27 12:13:39.595249: W tensorflow/core/framework/cpu_allocator_impl.cc:80] Allocation of 143469600 exceeds 10% of free system memory.\n"
     ]
    }
   ],
   "source": [
    "inp1 = tf.keras.Input(shape=(x_train1.shape[1],))\n",
    "inp2 = tf.keras.Input(shape=(x_train2.shape[1],))\n",
    "\n",
    "inner1= tf.keras.layers.Embedding(input_dim=119558, output_dim=300, input_length=128, \n",
    "                                  weights=[embedding_weight_matrix], trainable=False)(inp1)\n",
    "inner2= tf.keras.layers.Embedding(input_dim=119558, output_dim=300, input_length=128,\n",
    "                                  weights=[embedding_weight_matrix], trainable=False)(inp2)\n",
    "\n",
    "inner = tf.keras.layers.concatenate([inner1+inner2, inner1-inner2, tf.math.multiply(inner1, inner2)], axis=-1)\n",
    "\n",
    "out, h, c = tf.keras.layers.LSTM(500, return_sequences=False, kernel_regularizer='l2', return_state=True)(inner)\n",
    "\n",
    "output = tf.keras.layers.Dense(2, kernel_regularizer='l2', activation='softmax')(c)\n",
    "\n",
    "model = tf.keras.Model(inputs = [inp1, inp2], outputs = output)"
   ]
  },
  {
   "cell_type": "code",
   "execution_count": 8,
   "id": "1a39d9bd",
   "metadata": {
    "execution": {
     "iopub.execute_input": "2021-11-27T12:13:41.420542Z",
     "iopub.status.busy": "2021-11-27T12:13:41.419904Z",
     "iopub.status.idle": "2021-11-27T12:13:41.434484Z",
     "shell.execute_reply": "2021-11-27T12:13:41.435260Z",
     "shell.execute_reply.started": "2021-11-27T12:07:11.143361Z"
    },
    "papermill": {
     "duration": 0.656982,
     "end_time": "2021-11-27T12:13:41.435416",
     "exception": false,
     "start_time": "2021-11-27T12:13:40.778434",
     "status": "completed"
    },
    "tags": []
   },
   "outputs": [
    {
     "name": "stdout",
     "output_type": "stream",
     "text": [
      "Model: \"model\"\n",
      "__________________________________________________________________________________________________\n",
      "Layer (type)                    Output Shape         Param #     Connected to                     \n",
      "==================================================================================================\n",
      "input_1 (InputLayer)            [(None, 128)]        0                                            \n",
      "__________________________________________________________________________________________________\n",
      "input_2 (InputLayer)            [(None, 128)]        0                                            \n",
      "__________________________________________________________________________________________________\n",
      "embedding (Embedding)           (None, 128, 300)     35867400    input_1[0][0]                    \n",
      "__________________________________________________________________________________________________\n",
      "embedding_1 (Embedding)         (None, 128, 300)     35867400    input_2[0][0]                    \n",
      "__________________________________________________________________________________________________\n",
      "tf.__operators__.add (TFOpLambd (None, 128, 300)     0           embedding[0][0]                  \n",
      "                                                                 embedding_1[0][0]                \n",
      "__________________________________________________________________________________________________\n",
      "tf.math.subtract (TFOpLambda)   (None, 128, 300)     0           embedding[0][0]                  \n",
      "                                                                 embedding_1[0][0]                \n",
      "__________________________________________________________________________________________________\n",
      "tf.math.multiply (TFOpLambda)   (None, 128, 300)     0           embedding[0][0]                  \n",
      "                                                                 embedding_1[0][0]                \n",
      "__________________________________________________________________________________________________\n",
      "concatenate (Concatenate)       (None, 128, 900)     0           tf.__operators__.add[0][0]       \n",
      "                                                                 tf.math.subtract[0][0]           \n",
      "                                                                 tf.math.multiply[0][0]           \n",
      "__________________________________________________________________________________________________\n",
      "lstm (LSTM)                     [(None, 500), (None, 2802000     concatenate[0][0]                \n",
      "__________________________________________________________________________________________________\n",
      "dense (Dense)                   (None, 2)            1002        lstm[0][2]                       \n",
      "==================================================================================================\n",
      "Total params: 74,537,802\n",
      "Trainable params: 2,803,002\n",
      "Non-trainable params: 71,734,800\n",
      "__________________________________________________________________________________________________\n"
     ]
    }
   ],
   "source": [
    "model.compile(optimizer = 'adam', loss = 'categorical_crossentropy', metrics=['accuracy'])\n",
    "model.summary()"
   ]
  },
  {
   "cell_type": "code",
   "execution_count": 9,
   "id": "43c2200e",
   "metadata": {
    "execution": {
     "iopub.execute_input": "2021-11-27T12:13:42.712422Z",
     "iopub.status.busy": "2021-11-27T12:13:42.711511Z",
     "iopub.status.idle": "2021-11-27T14:33:06.689407Z",
     "shell.execute_reply": "2021-11-27T14:33:06.689921Z",
     "shell.execute_reply.started": "2021-11-27T12:07:11.165098Z"
    },
    "papermill": {
     "duration": 8364.617749,
     "end_time": "2021-11-27T14:33:06.690106",
     "exception": false,
     "start_time": "2021-11-27T12:13:42.072357",
     "status": "completed"
    },
    "tags": []
   },
   "outputs": [
    {
     "name": "stderr",
     "output_type": "stream",
     "text": [
      "2021-11-27 12:13:42.710559: W tensorflow/core/framework/cpu_allocator_impl.cc:80] Allocation of 144897536 exceeds 10% of free system memory.\n",
      "2021-11-27 12:13:42.815588: W tensorflow/core/framework/cpu_allocator_impl.cc:80] Allocation of 144897536 exceeds 10% of free system memory.\n",
      "2021-11-27 12:13:43.006668: I tensorflow/compiler/mlir/mlir_graph_optimization_pass.cc:185] None of the MLIR Optimization Passes are enabled (registered 2)\n"
     ]
    },
    {
     "name": "stdout",
     "output_type": "stream",
     "text": [
      "Epoch 1/10\n"
     ]
    },
    {
     "name": "stderr",
     "output_type": "stream",
     "text": [
      "2021-11-27 12:13:45.654295: I tensorflow/stream_executor/cuda/cuda_dnn.cc:369] Loaded cuDNN version 8005\n"
     ]
    },
    {
     "name": "stdout",
     "output_type": "stream",
     "text": [
      "35374/35376 [============================>.] - ETA: 0s - loss: 0.6421 - accuracy: 0.7143"
     ]
    },
    {
     "name": "stderr",
     "output_type": "stream",
     "text": [
      "2021-11-27 12:25:22.725362: W tensorflow/core/framework/cpu_allocator_impl.cc:80] Allocation of 41399296 exceeds 10% of free system memory.\n"
     ]
    },
    {
     "name": "stdout",
     "output_type": "stream",
     "text": [
      "35376/35376 [==============================] - 830s 23ms/step - loss: 0.6421 - accuracy: 0.7143 - val_loss: 0.6191 - val_accuracy: 0.7260\n",
      "\n",
      "Epoch 00001: saving model to weights.best.1.hdf5\n",
      "Epoch 2/10\n",
      "35376/35376 [==============================] - 840s 24ms/step - loss: 0.6183 - accuracy: 0.7125 - val_loss: 0.5904 - val_accuracy: 0.7119\n",
      "\n",
      "Epoch 00002: saving model to weights.best.2.hdf5\n",
      "Epoch 3/10\n",
      "35376/35376 [==============================] - 828s 23ms/step - loss: 0.5846 - accuracy: 0.7197 - val_loss: 0.5707 - val_accuracy: 0.7235\n",
      "\n",
      "Epoch 00003: saving model to weights.best.3.hdf5\n",
      "Epoch 4/10\n",
      "35376/35376 [==============================] - 827s 23ms/step - loss: 0.5814 - accuracy: 0.7243 - val_loss: 0.5730 - val_accuracy: 0.7297\n",
      "\n",
      "Epoch 00004: saving model to weights.best.4.hdf5\n",
      "Epoch 5/10\n",
      "35376/35376 [==============================] - 828s 23ms/step - loss: 0.5974 - accuracy: 0.7207 - val_loss: 0.6026 - val_accuracy: 0.7197\n",
      "\n",
      "Epoch 00005: saving model to weights.best.5.hdf5\n",
      "Epoch 6/10\n",
      "35376/35376 [==============================] - 838s 24ms/step - loss: 0.5913 - accuracy: 0.7266 - val_loss: 0.5975 - val_accuracy: 0.7192\n",
      "\n",
      "Epoch 00006: saving model to weights.best.6.hdf5\n",
      "Epoch 7/10\n",
      "35376/35376 [==============================] - 828s 23ms/step - loss: 0.5959 - accuracy: 0.7270 - val_loss: 0.5819 - val_accuracy: 0.7279\n",
      "\n",
      "Epoch 00007: saving model to weights.best.7.hdf5\n",
      "Epoch 8/10\n",
      "35376/35376 [==============================] - 827s 23ms/step - loss: 0.5989 - accuracy: 0.7252 - val_loss: 0.5904 - val_accuracy: 0.7273\n",
      "\n",
      "Epoch 00008: saving model to weights.best.8.hdf5\n",
      "Epoch 9/10\n",
      "35376/35376 [==============================] - 828s 23ms/step - loss: 0.5923 - accuracy: 0.7294 - val_loss: 0.6884 - val_accuracy: 0.7288\n",
      "\n",
      "Epoch 00009: saving model to weights.best.9.hdf5\n",
      "Epoch 10/10\n",
      "35376/35376 [==============================] - 831s 23ms/step - loss: 0.5991 - accuracy: 0.7285 - val_loss: 0.6372 - val_accuracy: 0.6956\n",
      "\n",
      "Epoch 00010: saving model to weights.best.10.hdf5\n"
     ]
    }
   ],
   "source": [
    "checkpoint_filepath  = 'weights.best.{epoch:01d}.hdf5'\n",
    "model_checkpoint_callback = tf.keras.callbacks.ModelCheckpoint(filepath=checkpoint_filepath,\n",
    "                                                                verbose = 1, \n",
    "                                                                monitor = 'val_loss',\n",
    "                                                                save_best_only = False)\n",
    "\n",
    "history = model.fit((x_train1, x_train2), y_train,\n",
    "                    batch_size = 8,\n",
    "                    validation_data = ((x_val1, x_val2), y_val),\n",
    "                    validation_batch_size = 4,\n",
    "                    epochs=10,\n",
    "                    callbacks=[model_checkpoint_callback], \n",
    "                    verbose=1)"
   ]
  },
  {
   "cell_type": "code",
   "execution_count": 10,
   "id": "90721c7a",
   "metadata": {
    "execution": {
     "iopub.execute_input": "2021-11-27T14:34:12.676048Z",
     "iopub.status.busy": "2021-11-27T14:34:12.674721Z",
     "iopub.status.idle": "2021-11-27T14:35:34.639165Z",
     "shell.execute_reply": "2021-11-27T14:35:34.638694Z",
     "shell.execute_reply.started": "2021-11-26T06:44:15.964825Z"
    },
    "papermill": {
     "duration": 114.890893,
     "end_time": "2021-11-27T14:35:34.639291",
     "exception": false,
     "start_time": "2021-11-27T14:33:39.748398",
     "status": "completed"
    },
    "tags": []
   },
   "outputs": [
    {
     "name": "stdout",
     "output_type": "stream",
     "text": [
      "10108/10108 [==============================] - 72s 7ms/step - loss: 0.6350 - accuracy: 0.6990\n",
      "loss on test data is 0.6350025534629822\n",
      "accuracy on test data is 0.6990032196044922\n"
     ]
    }
   ],
   "source": [
    "loss, accuracy = model.evaluate((x_test1, x_test2), y_test, batch_size=4, verbose=1)\n",
    "\n",
    "print('loss on test data is', loss)\n",
    "print('accuracy on test data is', accuracy)"
   ]
  },
  {
   "cell_type": "code",
   "execution_count": 11,
   "id": "71997df8",
   "metadata": {
    "execution": {
     "iopub.execute_input": "2021-11-27T14:36:41.153038Z",
     "iopub.status.busy": "2021-11-27T14:36:41.152100Z",
     "iopub.status.idle": "2021-11-27T14:36:51.892992Z",
     "shell.execute_reply": "2021-11-27T14:36:51.892506Z",
     "shell.execute_reply.started": "2021-11-26T06:48:04.404082Z"
    },
    "papermill": {
     "duration": 44.008825,
     "end_time": "2021-11-27T14:36:51.893120",
     "exception": false,
     "start_time": "2021-11-27T14:36:07.884295",
     "status": "completed"
    },
    "tags": []
   },
   "outputs": [
    {
     "name": "stdout",
     "output_type": "stream",
     "text": [
      "f1_score on test dataset is 0.6387412795012617\n"
     ]
    }
   ],
   "source": [
    "pred = model.predict((x_test1, x_test2))\n",
    "\n",
    "print('f1_score on test dataset is', f1_score(np.argmax(pred, axis=1), np.argmax(y_test, axis=1)))"
   ]
  }
 ],
 "metadata": {
  "kernelspec": {
   "display_name": "Python 3 (ipykernel)",
   "language": "python",
   "name": "python3"
  },
  "language_info": {
   "codemirror_mode": {
    "name": "ipython",
    "version": 3
   },
   "file_extension": ".py",
   "mimetype": "text/x-python",
   "name": "python",
   "nbconvert_exporter": "python",
   "pygments_lexer": "ipython3",
   "version": "3.8.10"
  },
  "papermill": {
   "default_parameters": {},
   "duration": 8933.278059,
   "end_time": "2021-11-27T14:37:27.883631",
   "environment_variables": {},
   "exception": null,
   "input_path": "__notebook__.ipynb",
   "output_path": "__notebook__.ipynb",
   "parameters": {},
   "start_time": "2021-11-27T12:08:34.605572",
   "version": "2.3.3"
  }
 },
 "nbformat": 4,
 "nbformat_minor": 5
}
