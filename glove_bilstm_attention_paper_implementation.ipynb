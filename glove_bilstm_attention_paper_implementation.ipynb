{
 "cells": [
  {
   "cell_type": "code",
   "execution_count": 1,
   "id": "130b250d",
   "metadata": {
    "_cell_guid": "b1076dfc-b9ad-4769-8c92-a6c4dae69d19",
    "_uuid": "8f2839f25d086af736a60e9eeb907d3b93b6e0e5",
    "execution": {
     "iopub.execute_input": "2021-11-29T08:17:23.132829Z",
     "iopub.status.busy": "2021-11-29T08:17:23.131340Z",
     "iopub.status.idle": "2021-11-29T08:17:27.623014Z",
     "shell.execute_reply": "2021-11-29T08:17:27.622370Z",
     "shell.execute_reply.started": "2021-11-29T06:27:37.270097Z"
    },
    "papermill": {
     "duration": 4.516047,
     "end_time": "2021-11-29T08:17:27.623184",
     "exception": false,
     "start_time": "2021-11-29T08:17:23.107137",
     "status": "completed"
    },
    "tags": []
   },
   "outputs": [],
   "source": [
    "import pandas as pd\n",
    "import numpy as np\n",
    "from tqdm import tqdm\n",
    "import tensorflow as tf\n",
    "from sklearn.metrics import f1_score"
   ]
  },
  {
   "cell_type": "code",
   "execution_count": 2,
   "id": "07ba8c76",
   "metadata": {
    "execution": {
     "iopub.execute_input": "2021-11-29T08:17:27.659272Z",
     "iopub.status.busy": "2021-11-29T08:17:27.658630Z",
     "iopub.status.idle": "2021-11-29T08:17:30.762077Z",
     "shell.execute_reply": "2021-11-29T08:17:30.761579Z",
     "shell.execute_reply.started": "2021-11-29T06:27:43.025846Z"
    },
    "papermill": {
     "duration": 3.123031,
     "end_time": "2021-11-29T08:17:30.762213",
     "exception": false,
     "start_time": "2021-11-29T08:17:27.639182",
     "status": "completed"
    },
    "tags": []
   },
   "outputs": [],
   "source": [
    "train = pd.read_csv('../input/smai-project-data/train_data.csv').fillna('')\n",
    "val = pd.read_csv('../input/smai-project-data/val_data.csv').fillna('')\n",
    "test = pd.read_csv('../input/smai-project-data/test_data.csv').fillna('')"
   ]
  },
  {
   "cell_type": "code",
   "execution_count": 3,
   "id": "f642733d",
   "metadata": {
    "execution": {
     "iopub.execute_input": "2021-11-29T08:17:30.801119Z",
     "iopub.status.busy": "2021-11-29T08:17:30.800502Z",
     "iopub.status.idle": "2021-11-29T08:17:30.814075Z",
     "shell.execute_reply": "2021-11-29T08:17:30.814485Z",
     "shell.execute_reply.started": "2021-11-29T06:27:46.772111Z"
    },
    "papermill": {
     "duration": 0.03723,
     "end_time": "2021-11-29T08:17:30.814610",
     "exception": false,
     "start_time": "2021-11-29T08:17:30.777380",
     "status": "completed"
    },
    "tags": []
   },
   "outputs": [
    {
     "data": {
      "text/html": [
       "<div>\n",
       "<style scoped>\n",
       "    .dataframe tbody tr th:only-of-type {\n",
       "        vertical-align: middle;\n",
       "    }\n",
       "\n",
       "    .dataframe tbody tr th {\n",
       "        vertical-align: top;\n",
       "    }\n",
       "\n",
       "    .dataframe thead th {\n",
       "        text-align: right;\n",
       "    }\n",
       "</style>\n",
       "<table border=\"1\" class=\"dataframe\">\n",
       "  <thead>\n",
       "    <tr style=\"text-align: right;\">\n",
       "      <th></th>\n",
       "      <th>id</th>\n",
       "      <th>qid1</th>\n",
       "      <th>qid2</th>\n",
       "      <th>question1</th>\n",
       "      <th>question2</th>\n",
       "      <th>is_duplicate</th>\n",
       "      <th>question1_preprocessed</th>\n",
       "      <th>question2_preprocessed</th>\n",
       "    </tr>\n",
       "  </thead>\n",
       "  <tbody>\n",
       "    <tr>\n",
       "      <th>0</th>\n",
       "      <td>8067</td>\n",
       "      <td>15738</td>\n",
       "      <td>15739</td>\n",
       "      <td>How do I play Pokémon GO in Korea?</td>\n",
       "      <td>How do I play Pokémon GO in China?</td>\n",
       "      <td>0</td>\n",
       "      <td>how do i play pok mon go in korea ?</td>\n",
       "      <td>how do i play pok mon go in china ?</td>\n",
       "    </tr>\n",
       "    <tr>\n",
       "      <th>1</th>\n",
       "      <td>368101</td>\n",
       "      <td>12736</td>\n",
       "      <td>104117</td>\n",
       "      <td>What are some of the best side dishes for crab...</td>\n",
       "      <td>What are some good side dishes for buffalo chi...</td>\n",
       "      <td>0</td>\n",
       "      <td>what are some of the best side dishes for crab...</td>\n",
       "      <td>what are some good side dishes for buffalo chi...</td>\n",
       "    </tr>\n",
       "    <tr>\n",
       "      <th>2</th>\n",
       "      <td>70497</td>\n",
       "      <td>121486</td>\n",
       "      <td>121487</td>\n",
       "      <td>Which is more advisable and better material fo...</td>\n",
       "      <td>What is the best server setup for buddypress?</td>\n",
       "      <td>0</td>\n",
       "      <td>which is more advisable and better material fo...</td>\n",
       "      <td>what is the best server setup for buddypress ?</td>\n",
       "    </tr>\n",
       "    <tr>\n",
       "      <th>3</th>\n",
       "      <td>226567</td>\n",
       "      <td>254474</td>\n",
       "      <td>258192</td>\n",
       "      <td>How do I improve logical programming skills?</td>\n",
       "      <td>How can I improve my logical skills for progra...</td>\n",
       "      <td>1</td>\n",
       "      <td>how do i improve logical programming skills ?</td>\n",
       "      <td>how can i improve my logical skills for progra...</td>\n",
       "    </tr>\n",
       "    <tr>\n",
       "      <th>4</th>\n",
       "      <td>73186</td>\n",
       "      <td>48103</td>\n",
       "      <td>3062</td>\n",
       "      <td>How close we are to see 3rd world war?</td>\n",
       "      <td>How close is a World War III?</td>\n",
       "      <td>1</td>\n",
       "      <td>how close we are to see 3rd world war ?</td>\n",
       "      <td>how close is a world war iii ?</td>\n",
       "    </tr>\n",
       "  </tbody>\n",
       "</table>\n",
       "</div>"
      ],
      "text/plain": [
       "       id    qid1    qid2                                          question1  \\\n",
       "0    8067   15738   15739                 How do I play Pokémon GO in Korea?   \n",
       "1  368101   12736  104117  What are some of the best side dishes for crab...   \n",
       "2   70497  121486  121487  Which is more advisable and better material fo...   \n",
       "3  226567  254474  258192       How do I improve logical programming skills?   \n",
       "4   73186   48103    3062             How close we are to see 3rd world war?   \n",
       "\n",
       "                                           question2  is_duplicate  \\\n",
       "0                 How do I play Pokémon GO in China?             0   \n",
       "1  What are some good side dishes for buffalo chi...             0   \n",
       "2      What is the best server setup for buddypress?             0   \n",
       "3  How can I improve my logical skills for progra...             1   \n",
       "4                      How close is a World War III?             1   \n",
       "\n",
       "                              question1_preprocessed  \\\n",
       "0                how do i play pok mon go in korea ?   \n",
       "1  what are some of the best side dishes for crab...   \n",
       "2  which is more advisable and better material fo...   \n",
       "3      how do i improve logical programming skills ?   \n",
       "4            how close we are to see 3rd world war ?   \n",
       "\n",
       "                              question2_preprocessed  \n",
       "0                how do i play pok mon go in china ?  \n",
       "1  what are some good side dishes for buffalo chi...  \n",
       "2     what is the best server setup for buddypress ?  \n",
       "3  how can i improve my logical skills for progra...  \n",
       "4                     how close is a world war iii ?  "
      ]
     },
     "execution_count": 3,
     "metadata": {},
     "output_type": "execute_result"
    }
   ],
   "source": [
    "train.head()"
   ]
  },
  {
   "cell_type": "code",
   "execution_count": 4,
   "id": "e051ad09",
   "metadata": {
    "execution": {
     "iopub.execute_input": "2021-11-29T08:17:30.853996Z",
     "iopub.status.busy": "2021-11-29T08:17:30.853284Z",
     "iopub.status.idle": "2021-11-29T08:17:30.855942Z",
     "shell.execute_reply": "2021-11-29T08:17:30.855496Z",
     "shell.execute_reply.started": "2021-11-29T06:27:46.801019Z"
    },
    "papermill": {
     "duration": 0.025898,
     "end_time": "2021-11-29T08:17:30.856053",
     "exception": false,
     "start_time": "2021-11-29T08:17:30.830155",
     "status": "completed"
    },
    "tags": []
   },
   "outputs": [],
   "source": [
    "def buildVocabulary(reviews):\n",
    "    tokenizer = tf.keras.preprocessing.text.Tokenizer(lower=False, split=' ')\n",
    "    tokenizer.fit_on_texts(reviews)\n",
    "    return tokenizer\n",
    "\n",
    "def getSequences(reviews, tokenizer, seq_maxlen):\n",
    "    reviews_seq = tokenizer.texts_to_sequences(reviews)\n",
    "    return np.array(tf.keras.preprocessing.sequence.pad_sequences(reviews_seq, maxlen=seq_maxlen))\n",
    "\n",
    "def loadGloveWordEmbeddings():\n",
    "    embedding_vectors = {}\n",
    "    with open('../input/glove840b300dtxt/glove.840B.300d.txt') as f:\n",
    "        for line in tqdm(f):\n",
    "            values = line.split(' ')\n",
    "            word = values[0]\n",
    "            coefs = np.asarray(values[1:], dtype='float32')\n",
    "            embedding_vectors[word] = coefs\n",
    "    return embedding_vectors\n",
    "\n",
    "def getEmbeddingWeightMatrix(embedding_vectors, word2idx):    \n",
    "    embedding_matrix = np.zeros((len(word2idx)+1, 300))\n",
    "    for word, i in tqdm(word2idx.items()):\n",
    "        embedding_vector = embedding_vectors.get(word)\n",
    "        if embedding_vector is not None:\n",
    "            embedding_matrix[i] = embedding_vector\n",
    "    return embedding_matrix"
   ]
  },
  {
   "cell_type": "code",
   "execution_count": 5,
   "id": "72af5cc5",
   "metadata": {
    "execution": {
     "iopub.execute_input": "2021-11-29T08:17:30.917424Z",
     "iopub.status.busy": "2021-11-29T08:17:30.894990Z",
     "iopub.status.idle": "2021-11-29T08:18:02.406975Z",
     "shell.execute_reply": "2021-11-29T08:18:02.406464Z",
     "shell.execute_reply.started": "2021-11-29T06:27:46.813221Z"
    },
    "papermill": {
     "duration": 31.53586,
     "end_time": "2021-11-29T08:18:02.407120",
     "exception": false,
     "start_time": "2021-11-29T08:17:30.871260",
     "status": "completed"
    },
    "tags": []
   },
   "outputs": [
    {
     "name": "stdout",
     "output_type": "stream",
     "text": [
      "119558\n"
     ]
    }
   ],
   "source": [
    "tokenizer = buildVocabulary(train['question1'].tolist()+train['question2'].tolist()+val['question1'].tolist()+val['question2'].tolist()+test['question1'].tolist()+test['question2'].tolist())\n",
    "vocab_size = len(tokenizer.word_index) + 1\n",
    "print(vocab_size)\n",
    "\n",
    "x_train1 = getSequences(train['question1'], tokenizer, 128)\n",
    "x_train2 = getSequences(train['question2'], tokenizer, 128)\n",
    "y_train = tf.keras.utils.to_categorical(train['is_duplicate'])\n",
    "\n",
    "x_val1 = getSequences(val['question1'], tokenizer, 128)\n",
    "x_val2 = getSequences(val['question2'], tokenizer, 128)\n",
    "y_val = tf.keras.utils.to_categorical(val['is_duplicate'])\n",
    "\n",
    "x_test1 = getSequences(test['question1'], tokenizer, 128)\n",
    "x_test2 = getSequences(test['question2'], tokenizer, 128)\n",
    "y_test = tf.keras.utils.to_categorical(test['is_duplicate'])"
   ]
  },
  {
   "cell_type": "code",
   "execution_count": 6,
   "id": "91934710",
   "metadata": {
    "execution": {
     "iopub.execute_input": "2021-11-29T08:18:02.444427Z",
     "iopub.status.busy": "2021-11-29T08:18:02.443901Z",
     "iopub.status.idle": "2021-11-29T08:22:17.974553Z",
     "shell.execute_reply": "2021-11-29T08:22:17.975023Z",
     "shell.execute_reply.started": "2021-11-29T06:28:24.639367Z"
    },
    "papermill": {
     "duration": 255.551422,
     "end_time": "2021-11-29T08:22:17.975195",
     "exception": false,
     "start_time": "2021-11-29T08:18:02.423773",
     "status": "completed"
    },
    "tags": []
   },
   "outputs": [
    {
     "name": "stderr",
     "output_type": "stream",
     "text": [
      "2196018it [04:15, 8608.95it/s]\n"
     ]
    },
    {
     "name": "stdout",
     "output_type": "stream",
     "text": [
      "2196017\n"
     ]
    },
    {
     "name": "stderr",
     "output_type": "stream",
     "text": [
      "100%|██████████| 119557/119557 [00:00<00:00, 279976.06it/s]"
     ]
    },
    {
     "name": "stdout",
     "output_type": "stream",
     "text": [
      "(119558, 300)\n"
     ]
    },
    {
     "name": "stderr",
     "output_type": "stream",
     "text": [
      "\n"
     ]
    }
   ],
   "source": [
    "embedding_vectors = loadGloveWordEmbeddings()\n",
    "print(len(embedding_vectors))\n",
    "\n",
    "embedding_weight_matrix = getEmbeddingWeightMatrix(embedding_vectors, tokenizer.word_index)\n",
    "print(embedding_weight_matrix.shape)"
   ]
  },
  {
   "cell_type": "code",
   "execution_count": 7,
   "id": "992eb317",
   "metadata": {
    "execution": {
     "iopub.execute_input": "2021-11-29T08:22:19.294392Z",
     "iopub.status.busy": "2021-11-29T08:22:19.293547Z",
     "iopub.status.idle": "2021-11-29T08:22:19.295428Z",
     "shell.execute_reply": "2021-11-29T08:22:19.295837Z",
     "shell.execute_reply.started": "2021-11-29T06:33:24.655177Z"
    },
    "papermill": {
     "duration": 0.668749,
     "end_time": "2021-11-29T08:22:19.295988",
     "exception": false,
     "start_time": "2021-11-29T08:22:18.627239",
     "status": "completed"
    },
    "tags": []
   },
   "outputs": [],
   "source": [
    "MAX_SEQUENCE_LENGTH = 128\n",
    "WORD_EMBEDDING_DIM = 300\n",
    "SENT_EMBEDDING_DIM = 128\n",
    "DROPOUT = 0.1"
   ]
  },
  {
   "cell_type": "code",
   "execution_count": 8,
   "id": "291c1e50",
   "metadata": {
    "execution": {
     "iopub.execute_input": "2021-11-29T08:22:20.597827Z",
     "iopub.status.busy": "2021-11-29T08:22:20.597255Z",
     "iopub.status.idle": "2021-11-29T08:22:24.689501Z",
     "shell.execute_reply": "2021-11-29T08:22:24.688894Z",
     "shell.execute_reply.started": "2021-11-29T06:44:23.305751Z"
    },
    "papermill": {
     "duration": 4.752968,
     "end_time": "2021-11-29T08:22:24.689628",
     "exception": false,
     "start_time": "2021-11-29T08:22:19.936660",
     "status": "completed"
    },
    "tags": []
   },
   "outputs": [
    {
     "name": "stderr",
     "output_type": "stream",
     "text": [
      "2021-11-29 08:22:20.679949: I tensorflow/stream_executor/cuda/cuda_gpu_executor.cc:937] successful NUMA node read from SysFS had negative value (-1), but there must be at least one NUMA node, so returning NUMA node zero\n",
      "2021-11-29 08:22:20.817787: I tensorflow/stream_executor/cuda/cuda_gpu_executor.cc:937] successful NUMA node read from SysFS had negative value (-1), but there must be at least one NUMA node, so returning NUMA node zero\n",
      "2021-11-29 08:22:20.818551: I tensorflow/stream_executor/cuda/cuda_gpu_executor.cc:937] successful NUMA node read from SysFS had negative value (-1), but there must be at least one NUMA node, so returning NUMA node zero\n",
      "2021-11-29 08:22:20.819738: I tensorflow/core/platform/cpu_feature_guard.cc:142] This TensorFlow binary is optimized with oneAPI Deep Neural Network Library (oneDNN) to use the following CPU instructions in performance-critical operations:  AVX2 AVX512F FMA\n",
      "To enable them in other operations, rebuild TensorFlow with the appropriate compiler flags.\n",
      "2021-11-29 08:22:20.820896: I tensorflow/stream_executor/cuda/cuda_gpu_executor.cc:937] successful NUMA node read from SysFS had negative value (-1), but there must be at least one NUMA node, so returning NUMA node zero\n",
      "2021-11-29 08:22:20.821547: I tensorflow/stream_executor/cuda/cuda_gpu_executor.cc:937] successful NUMA node read from SysFS had negative value (-1), but there must be at least one NUMA node, so returning NUMA node zero\n",
      "2021-11-29 08:22:20.822191: I tensorflow/stream_executor/cuda/cuda_gpu_executor.cc:937] successful NUMA node read from SysFS had negative value (-1), but there must be at least one NUMA node, so returning NUMA node zero\n",
      "2021-11-29 08:22:22.552174: I tensorflow/stream_executor/cuda/cuda_gpu_executor.cc:937] successful NUMA node read from SysFS had negative value (-1), but there must be at least one NUMA node, so returning NUMA node zero\n",
      "2021-11-29 08:22:22.553547: I tensorflow/stream_executor/cuda/cuda_gpu_executor.cc:937] successful NUMA node read from SysFS had negative value (-1), but there must be at least one NUMA node, so returning NUMA node zero\n",
      "2021-11-29 08:22:22.554711: I tensorflow/stream_executor/cuda/cuda_gpu_executor.cc:937] successful NUMA node read from SysFS had negative value (-1), but there must be at least one NUMA node, so returning NUMA node zero\n",
      "2021-11-29 08:22:22.556638: I tensorflow/core/common_runtime/gpu/gpu_device.cc:1510] Created device /job:localhost/replica:0/task:0/device:GPU:0 with 15403 MB memory:  -> device: 0, name: Tesla P100-PCIE-16GB, pci bus id: 0000:00:04.0, compute capability: 6.0\n",
      "2021-11-29 08:22:23.284288: W tensorflow/core/framework/cpu_allocator_impl.cc:80] Allocation of 143469600 exceeds 10% of free system memory.\n",
      "2021-11-29 08:22:24.009182: W tensorflow/core/framework/cpu_allocator_impl.cc:80] Allocation of 143469600 exceeds 10% of free system memory.\n"
     ]
    }
   ],
   "source": [
    "question1 = tf.keras.Input(shape=(MAX_SEQUENCE_LENGTH,))\n",
    "question2 = tf.keras.Input(shape=(MAX_SEQUENCE_LENGTH,))\n",
    "\n",
    "q1 = tf.keras.layers.Embedding(119558, \n",
    "                 WORD_EMBEDDING_DIM, \n",
    "                 weights=[embedding_weight_matrix], \n",
    "                 input_length=MAX_SEQUENCE_LENGTH, \n",
    "                 trainable=False)(question1)\n",
    "q1, a1, b1, c1, d1 = tf.keras.layers.Bidirectional(tf.keras.layers.LSTM(SENT_EMBEDDING_DIM+2, return_sequences=True, return_state = True))(q1)\n",
    "\n",
    "# a,b,c,d,e = tf.keras.layers.Bidirectional(tf.keras.layers.LSTM(SENT_EMBEDDING_DIM+2, return_sequences=True, return_state = True), merge_mode=\"ave\")(q1)\n",
    "# print(a.shape, b.shape, c.shape, d.shape, e.shape)\n",
    "#q1 = tf.keras.layers.Bidirectional(tf.keras.layers.LSTM(SENT_EMBEDDING_DIM, return_sequences=True), merge_mode=\"sum\")(q1)\n",
    "\n",
    "q2 = tf.keras.layers.Embedding(119558, \n",
    "                 WORD_EMBEDDING_DIM, \n",
    "                 weights=[embedding_weight_matrix], \n",
    "                 input_length=MAX_SEQUENCE_LENGTH, \n",
    "                 trainable=False)(question2)\n",
    "q2, a2, b2, c3, d2 = tf.keras.layers.Bidirectional(tf.keras.layers.LSTM(SENT_EMBEDDING_DIM+2, return_sequences=True, return_state = True))(q2)\n",
    "#q2 = tf.keras.layers.Bidirectional(tf.keras.layers.LSTM(SENT_EMBEDDING_DIM, return_sequences=True), merge_mode=\"sum\")(q2)\n",
    "\n",
    "attention = tf.keras.layers.Dot(axes = (2, 2))([q1,q2])\n",
    "attention_u = tf.keras.layers.Softmax(axis = -1)(attention)\n",
    "attention_v = tf.keras.layers.Softmax(axis = 1)(attention)\n",
    "\n",
    "u_bar = tf.keras.layers.Dot(axes = (2, 1))([attention_u, q2])\n",
    "v_bar = tf.keras.layers.Dot(axes = (2, 1))([attention_v, q1])\n",
    "\n",
    "# print(u_bar.shape, v_bar.shape, q1.shape, q2.shape)\n",
    "u_bar = tf.keras.backend.mean(u_bar, axis=1)\n",
    "v_bar = tf.keras.backend.mean(v_bar, axis=1)\n",
    "\n",
    "q1 = tf.keras.backend.mean(q1, axis=1)\n",
    "q2 = tf.keras.backend.mean(q2, axis=1)\n",
    "\n",
    "# print(u_bar.shape, v_bar.shape, q1.shape, q2.shape)\n",
    "\n",
    "wu = tf.keras.layers.Dense(SENT_EMBEDDING_DIM)(u_bar)\n",
    "wv = tf.keras.layers.Dense(SENT_EMBEDDING_DIM)(v_bar)\n",
    "\n",
    "vu = tf.keras.layers.Dense(SENT_EMBEDDING_DIM)(q1)\n",
    "vv = tf.keras.layers.Dense(SENT_EMBEDDING_DIM)(q2)\n",
    "\n",
    "u_ = tf.keras.layers.Add()([wu, vu])\n",
    "v_ = tf.keras.layers.Add()([wv, vv])\n",
    "\n",
    "u_star = tf.keras.layers.Dense(SENT_EMBEDDING_DIM, activation = \"tanh\")(u_)\n",
    "v_star = tf.keras.layers.Dense(SENT_EMBEDDING_DIM, activation = \"tanh\")(v_)\n",
    "\n",
    "merged = tf.keras.layers.Concatenate()([u_star, v_star])\n",
    "merged = tf.keras.layers.Dense(200, activation='relu')(merged)\n",
    "merged = tf.keras.layers.Dropout(DROPOUT)(merged)\n",
    "\n",
    "is_duplicate = tf.keras.layers.Dense(2, activation='softmax')(merged)\n",
    "\n",
    "model = tf.keras.Model(inputs=[question1,question2], outputs=is_duplicate)\n",
    "model.compile(loss='categorical_crossentropy', optimizer='adam', metrics=['accuracy'])"
   ]
  },
  {
   "cell_type": "markdown",
   "id": "a505afd0",
   "metadata": {
    "papermill": {
     "duration": 0.643594,
     "end_time": "2021-11-29T08:22:25.976053",
     "exception": false,
     "start_time": "2021-11-29T08:22:25.332459",
     "status": "completed"
    },
    "tags": []
   },
   "source": [
    "Rough:\n",
    "\n",
    "merged = tf.keras.layers.Dense(200, activation='relu')(merged)\n",
    "merged = tf.keras.layers.Dropout(DROPOUT)(merged)\n",
    "merged = tf.keras.layers.BatchNormalization()(merged)\n",
    "merged = tf.keras.layers.Dense(200, activation='relu')(merged)\n",
    "merged = tf.keras.layers.Dropout(DROPOUT)(merged)\n",
    "merged = tf.keras.layers.BatchNormalization()(merged)\n",
    "merged = tf.keras.layers.Dense(200, activation='relu')(merged)\n",
    "merged = tf.keras.layers.Dropout(DROPOUT)(merged)\n",
    "merged = tf.keras.layers.BatchNormalization()(merged)"
   ]
  },
  {
   "cell_type": "code",
   "execution_count": 9,
   "id": "835e0f6b",
   "metadata": {
    "execution": {
     "iopub.execute_input": "2021-11-29T08:22:27.284816Z",
     "iopub.status.busy": "2021-11-29T08:22:27.281553Z",
     "iopub.status.idle": "2021-11-29T08:22:27.298823Z",
     "shell.execute_reply": "2021-11-29T08:22:27.298403Z",
     "shell.execute_reply.started": "2021-11-29T06:44:25.972971Z"
    },
    "papermill": {
     "duration": 0.680884,
     "end_time": "2021-11-29T08:22:27.298972",
     "exception": false,
     "start_time": "2021-11-29T08:22:26.618088",
     "status": "completed"
    },
    "tags": []
   },
   "outputs": [
    {
     "name": "stdout",
     "output_type": "stream",
     "text": [
      "Model: \"model\"\n",
      "__________________________________________________________________________________________________\n",
      "Layer (type)                    Output Shape         Param #     Connected to                     \n",
      "==================================================================================================\n",
      "input_1 (InputLayer)            [(None, 128)]        0                                            \n",
      "__________________________________________________________________________________________________\n",
      "input_2 (InputLayer)            [(None, 128)]        0                                            \n",
      "__________________________________________________________________________________________________\n",
      "embedding (Embedding)           (None, 128, 300)     35867400    input_1[0][0]                    \n",
      "__________________________________________________________________________________________________\n",
      "embedding_1 (Embedding)         (None, 128, 300)     35867400    input_2[0][0]                    \n",
      "__________________________________________________________________________________________________\n",
      "bidirectional (Bidirectional)   [(None, 128, 260), ( 448240      embedding[0][0]                  \n",
      "__________________________________________________________________________________________________\n",
      "bidirectional_1 (Bidirectional) [(None, 128, 260), ( 448240      embedding_1[0][0]                \n",
      "__________________________________________________________________________________________________\n",
      "dot (Dot)                       (None, 128, 128)     0           bidirectional[0][0]              \n",
      "                                                                 bidirectional_1[0][0]            \n",
      "__________________________________________________________________________________________________\n",
      "softmax (Softmax)               (None, 128, 128)     0           dot[0][0]                        \n",
      "__________________________________________________________________________________________________\n",
      "softmax_1 (Softmax)             (None, 128, 128)     0           dot[0][0]                        \n",
      "__________________________________________________________________________________________________\n",
      "dot_1 (Dot)                     (None, 128, 260)     0           softmax[0][0]                    \n",
      "                                                                 bidirectional_1[0][0]            \n",
      "__________________________________________________________________________________________________\n",
      "dot_2 (Dot)                     (None, 128, 260)     0           softmax_1[0][0]                  \n",
      "                                                                 bidirectional[0][0]              \n",
      "__________________________________________________________________________________________________\n",
      "tf.math.reduce_mean (TFOpLambda (None, 260)          0           dot_1[0][0]                      \n",
      "__________________________________________________________________________________________________\n",
      "tf.math.reduce_mean_2 (TFOpLamb (None, 260)          0           bidirectional[0][0]              \n",
      "__________________________________________________________________________________________________\n",
      "tf.math.reduce_mean_1 (TFOpLamb (None, 260)          0           dot_2[0][0]                      \n",
      "__________________________________________________________________________________________________\n",
      "tf.math.reduce_mean_3 (TFOpLamb (None, 260)          0           bidirectional_1[0][0]            \n",
      "__________________________________________________________________________________________________\n",
      "dense (Dense)                   (None, 128)          33408       tf.math.reduce_mean[0][0]        \n",
      "__________________________________________________________________________________________________\n",
      "dense_2 (Dense)                 (None, 128)          33408       tf.math.reduce_mean_2[0][0]      \n",
      "__________________________________________________________________________________________________\n",
      "dense_1 (Dense)                 (None, 128)          33408       tf.math.reduce_mean_1[0][0]      \n",
      "__________________________________________________________________________________________________\n",
      "dense_3 (Dense)                 (None, 128)          33408       tf.math.reduce_mean_3[0][0]      \n",
      "__________________________________________________________________________________________________\n",
      "add (Add)                       (None, 128)          0           dense[0][0]                      \n",
      "                                                                 dense_2[0][0]                    \n",
      "__________________________________________________________________________________________________\n",
      "add_1 (Add)                     (None, 128)          0           dense_1[0][0]                    \n",
      "                                                                 dense_3[0][0]                    \n",
      "__________________________________________________________________________________________________\n",
      "dense_4 (Dense)                 (None, 128)          16512       add[0][0]                        \n",
      "__________________________________________________________________________________________________\n",
      "dense_5 (Dense)                 (None, 128)          16512       add_1[0][0]                      \n",
      "__________________________________________________________________________________________________\n",
      "concatenate (Concatenate)       (None, 256)          0           dense_4[0][0]                    \n",
      "                                                                 dense_5[0][0]                    \n",
      "__________________________________________________________________________________________________\n",
      "dense_6 (Dense)                 (None, 200)          51400       concatenate[0][0]                \n",
      "__________________________________________________________________________________________________\n",
      "dropout (Dropout)               (None, 200)          0           dense_6[0][0]                    \n",
      "__________________________________________________________________________________________________\n",
      "dense_7 (Dense)                 (None, 2)            402         dropout[0][0]                    \n",
      "==================================================================================================\n",
      "Total params: 72,849,738\n",
      "Trainable params: 1,114,938\n",
      "Non-trainable params: 71,734,800\n",
      "__________________________________________________________________________________________________\n"
     ]
    }
   ],
   "source": [
    "model.summary()"
   ]
  },
  {
   "cell_type": "code",
   "execution_count": 10,
   "id": "f7181434",
   "metadata": {
    "execution": {
     "iopub.execute_input": "2021-11-29T08:22:28.601599Z",
     "iopub.status.busy": "2021-11-29T08:22:28.600698Z",
     "iopub.status.idle": "2021-11-29T11:46:56.409936Z",
     "shell.execute_reply": "2021-11-29T11:46:56.409303Z",
     "shell.execute_reply.started": "2021-11-28T10:35:51.595367Z"
    },
    "papermill": {
     "duration": 12268.471988,
     "end_time": "2021-11-29T11:46:56.410069",
     "exception": false,
     "start_time": "2021-11-29T08:22:27.938081",
     "status": "completed"
    },
    "tags": []
   },
   "outputs": [
    {
     "name": "stderr",
     "output_type": "stream",
     "text": [
      "2021-11-29 08:22:28.602329: W tensorflow/core/framework/cpu_allocator_impl.cc:80] Allocation of 144897536 exceeds 10% of free system memory.\n",
      "2021-11-29 08:22:28.706807: W tensorflow/core/framework/cpu_allocator_impl.cc:80] Allocation of 144897536 exceeds 10% of free system memory.\n",
      "2021-11-29 08:22:28.866819: I tensorflow/compiler/mlir/mlir_graph_optimization_pass.cc:185] None of the MLIR Optimization Passes are enabled (registered 2)\n"
     ]
    },
    {
     "name": "stdout",
     "output_type": "stream",
     "text": [
      "Epoch 1/10\n"
     ]
    },
    {
     "name": "stderr",
     "output_type": "stream",
     "text": [
      "2021-11-29 08:22:35.330654: I tensorflow/stream_executor/cuda/cuda_dnn.cc:369] Loaded cuDNN version 8005\n"
     ]
    },
    {
     "name": "stdout",
     "output_type": "stream",
     "text": [
      "35376/35376 [==============================] - ETA: 0s - loss: 0.5273 - accuracy: 0.7347"
     ]
    },
    {
     "name": "stderr",
     "output_type": "stream",
     "text": [
      "2021-11-29 08:39:40.836170: W tensorflow/core/framework/cpu_allocator_impl.cc:80] Allocation of 41399296 exceeds 10% of free system memory.\n"
     ]
    },
    {
     "name": "stdout",
     "output_type": "stream",
     "text": [
      "35376/35376 [==============================] - 1225s 34ms/step - loss: 0.5273 - accuracy: 0.7347 - val_loss: 0.4850 - val_accuracy: 0.7591\n",
      "\n",
      "Epoch 00001: val_loss improved from inf to 0.48496, saving model to weights.best.hdf5\n"
     ]
    },
    {
     "name": "stderr",
     "output_type": "stream",
     "text": [
      "/opt/conda/lib/python3.7/site-packages/keras/utils/generic_utils.py:497: CustomMaskWarning: Custom mask layers require a config and must override get_config. When loading, the custom mask layer must be passed to the custom_objects argument.\n",
      "  category=CustomMaskWarning)\n"
     ]
    },
    {
     "name": "stdout",
     "output_type": "stream",
     "text": [
      "Epoch 2/10\n",
      "35376/35376 [==============================] - 1215s 34ms/step - loss: 0.4558 - accuracy: 0.7810 - val_loss: 0.4704 - val_accuracy: 0.7792\n",
      "\n",
      "Epoch 00002: val_loss improved from 0.48496 to 0.47042, saving model to weights.best.hdf5\n",
      "Epoch 3/10\n",
      "35376/35376 [==============================] - 1220s 34ms/step - loss: 0.4027 - accuracy: 0.8129 - val_loss: 0.4603 - val_accuracy: 0.7865\n",
      "\n",
      "Epoch 00003: val_loss improved from 0.47042 to 0.46033, saving model to weights.best.hdf5\n",
      "Epoch 4/10\n",
      "35376/35376 [==============================] - 1218s 34ms/step - loss: 0.3532 - accuracy: 0.8389 - val_loss: 0.4534 - val_accuracy: 0.7907\n",
      "\n",
      "Epoch 00004: val_loss improved from 0.46033 to 0.45344, saving model to weights.best.hdf5\n",
      "Epoch 5/10\n",
      "35376/35376 [==============================] - 1219s 34ms/step - loss: 0.3101 - accuracy: 0.8618 - val_loss: 0.4785 - val_accuracy: 0.7932\n",
      "\n",
      "Epoch 00005: val_loss did not improve from 0.45344\n",
      "Epoch 6/10\n",
      "35376/35376 [==============================] - 1226s 35ms/step - loss: 0.2757 - accuracy: 0.8792 - val_loss: 0.5012 - val_accuracy: 0.7951\n",
      "\n",
      "Epoch 00006: val_loss did not improve from 0.45344\n",
      "Epoch 7/10\n",
      "35376/35376 [==============================] - 1226s 35ms/step - loss: 0.2498 - accuracy: 0.8925 - val_loss: 0.5352 - val_accuracy: 0.7912\n",
      "\n",
      "Epoch 00007: val_loss did not improve from 0.45344\n",
      "Epoch 8/10\n",
      "35376/35376 [==============================] - 1217s 34ms/step - loss: 0.2300 - accuracy: 0.9015 - val_loss: 0.5989 - val_accuracy: 0.7939\n",
      "\n",
      "Epoch 00008: val_loss did not improve from 0.45344\n",
      "Epoch 9/10\n",
      "35376/35376 [==============================] - 1220s 34ms/step - loss: 0.2153 - accuracy: 0.9088 - val_loss: 0.5803 - val_accuracy: 0.7824\n",
      "\n",
      "Epoch 00009: val_loss did not improve from 0.45344\n",
      "Epoch 10/10\n",
      "35376/35376 [==============================] - 1223s 35ms/step - loss: 0.2018 - accuracy: 0.9160 - val_loss: 0.7246 - val_accuracy: 0.7947\n",
      "\n",
      "Epoch 00010: val_loss did not improve from 0.45344\n"
     ]
    }
   ],
   "source": [
    "checkpoint_filepath  = 'weights.best.hdf5'\n",
    "model_checkpoint_callback = tf.keras.callbacks.ModelCheckpoint(filepath=checkpoint_filepath,\n",
    "                                                                verbose = 1, \n",
    "                                                                monitor = 'val_loss',\n",
    "                                                                save_best_only = True)\n",
    "history = model.fit((x_train1, x_train2), y_train,\n",
    "                    batch_size = 8,\n",
    "                    validation_data = ((x_val1, x_val2), y_val),\n",
    "                    validation_batch_size = 4,\n",
    "                    epochs=10,\n",
    "                    callbacks=[model_checkpoint_callback],\n",
    "                    verbose=1)"
   ]
  },
  {
   "cell_type": "code",
   "execution_count": 13,
   "id": "b34e5230",
   "metadata": {
    "execution": {
     "iopub.execute_input": "2021-11-29T11:51:52.841117Z",
     "iopub.status.busy": "2021-11-29T11:51:52.840101Z",
     "iopub.status.idle": "2021-11-29T11:53:41.137501Z",
     "shell.execute_reply": "2021-11-29T11:53:41.137064Z"
    },
    "papermill": {
     "duration": 157.55503,
     "end_time": "2021-11-29T11:53:41.137634",
     "exception": false,
     "start_time": "2021-11-29T11:51:03.582604",
     "status": "completed"
    },
    "tags": []
   },
   "outputs": [
    {
     "name": "stdout",
     "output_type": "stream",
     "text": [
      "10108/10108 [==============================] - 108s 11ms/step - loss: 0.6904 - accuracy: 0.7996\n",
      "loss on test data is 0.6904019713401794\n",
      "accuracy on test data is 0.7996240258216858\n"
     ]
    }
   ],
   "source": [
    "loss, accuracy = model.evaluate((x_test1, x_test2), y_test, batch_size=4, verbose=1)\n",
    "\n",
    "print('loss on test data is', loss)\n",
    "print('accuracy on test data is', accuracy)"
   ]
  },
  {
   "cell_type": "code",
   "execution_count": 14,
   "id": "b62292b2",
   "metadata": {
    "execution": {
     "iopub.execute_input": "2021-11-29T11:55:20.820579Z",
     "iopub.status.busy": "2021-11-29T11:55:20.819585Z",
     "iopub.status.idle": "2021-11-29T11:55:37.791023Z",
     "shell.execute_reply": "2021-11-29T11:55:37.790560Z"
    },
    "papermill": {
     "duration": 66.44401,
     "end_time": "2021-11-29T11:55:37.791156",
     "exception": false,
     "start_time": "2021-11-29T11:54:31.347146",
     "status": "completed"
    },
    "tags": []
   },
   "outputs": [
    {
     "name": "stdout",
     "output_type": "stream",
     "text": [
      "f1_score on test dataset is 0.7199308556611927\n"
     ]
    }
   ],
   "source": [
    "pred = model.predict((x_test1, x_test2))\n",
    "print('f1_score on test dataset is', f1_score(np.argmax(pred, axis=1), np.argmax(y_test, axis=1)))"
   ]
  },
  {
   "cell_type": "code",
   "execution_count": null,
   "id": "29968409",
   "metadata": {
    "papermill": {
     "duration": 50.001894,
     "end_time": "2021-11-29T12:08:55.008713",
     "exception": false,
     "start_time": "2021-11-29T12:08:05.006819",
     "status": "completed"
    },
    "tags": []
   },
   "outputs": [],
   "source": []
  }
 ],
 "metadata": {
  "kernelspec": {
   "display_name": "Python 3 (ipykernel)",
   "language": "python",
   "name": "python3"
  },
  "language_info": {
   "codemirror_mode": {
    "name": "ipython",
    "version": 3
   },
   "file_extension": ".py",
   "mimetype": "text/x-python",
   "name": "python",
   "nbconvert_exporter": "python",
   "pygments_lexer": "ipython3",
   "version": "3.8.10"
  },
  "papermill": {
   "default_parameters": {},
   "duration": 13953.194536,
   "end_time": "2021-11-29T12:09:48.614011",
   "environment_variables": {},
   "exception": null,
   "input_path": "__notebook__.ipynb",
   "output_path": "__notebook__.ipynb",
   "parameters": {},
   "start_time": "2021-11-29T08:17:15.419475",
   "version": "2.3.3"
  }
 },
 "nbformat": 4,
 "nbformat_minor": 5
}
