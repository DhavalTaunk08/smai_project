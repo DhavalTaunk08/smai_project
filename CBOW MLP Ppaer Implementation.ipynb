{
 "cells": [
  {
   "cell_type": "code",
   "execution_count": 1,
   "id": "8ca79fa1",
   "metadata": {
    "_cell_guid": "b1076dfc-b9ad-4769-8c92-a6c4dae69d19",
    "_uuid": "8f2839f25d086af736a60e9eeb907d3b93b6e0e5",
    "execution": {
     "iopub.execute_input": "2021-12-05T06:41:42.716152Z",
     "iopub.status.busy": "2021-12-05T06:41:42.714638Z",
     "iopub.status.idle": "2021-12-05T06:41:47.285389Z",
     "shell.execute_reply": "2021-12-05T06:41:47.284775Z",
     "shell.execute_reply.started": "2021-12-05T06:28:02.081372Z"
    },
    "papermill": {
     "duration": 4.588331,
     "end_time": "2021-12-05T06:41:47.285538",
     "exception": false,
     "start_time": "2021-12-05T06:41:42.697207",
     "status": "completed"
    },
    "tags": []
   },
   "outputs": [],
   "source": [
    "import pandas as pd\n",
    "import numpy as np\n",
    "from tqdm import tqdm\n",
    "import tensorflow as tf\n",
    "from gensim.models import KeyedVectors\n",
    "import gensim\n",
    "import re\n",
    "from sklearn.metrics import f1_score\n",
    "import matplotlib.pyplot as plt"
   ]
  },
  {
   "cell_type": "code",
   "execution_count": 2,
   "id": "57d8136d",
   "metadata": {
    "execution": {
     "iopub.execute_input": "2021-12-05T06:41:47.314041Z",
     "iopub.status.busy": "2021-12-05T06:41:47.313448Z",
     "iopub.status.idle": "2021-12-05T06:41:48.775380Z",
     "shell.execute_reply": "2021-12-05T06:41:48.774838Z",
     "shell.execute_reply.started": "2021-12-05T06:28:06.599367Z"
    },
    "papermill": {
     "duration": 1.478299,
     "end_time": "2021-12-05T06:41:48.775521",
     "exception": false,
     "start_time": "2021-12-05T06:41:47.297222",
     "status": "completed"
    },
    "tags": []
   },
   "outputs": [],
   "source": [
    "train = pd.read_csv('../input/quora-ques-pair/test_data.csv/test_data.csv').fillna('')\n",
    "val = pd.read_csv('../input/quora-ques-pair/val_data.csv/val_data.csv').fillna('')\n",
    "test = pd.read_csv('../input/quora-ques-pair/test_data.csv/test_data.csv').fillna('')"
   ]
  },
  {
   "cell_type": "code",
   "execution_count": 3,
   "id": "0fb8cffe",
   "metadata": {
    "execution": {
     "iopub.execute_input": "2021-12-05T06:41:48.800775Z",
     "iopub.status.busy": "2021-12-05T06:41:48.799943Z",
     "iopub.status.idle": "2021-12-05T06:41:48.804283Z",
     "shell.execute_reply": "2021-12-05T06:41:48.803802Z",
     "shell.execute_reply.started": "2021-12-05T06:28:07.887882Z"
    },
    "papermill": {
     "duration": 0.017602,
     "end_time": "2021-12-05T06:41:48.804397",
     "exception": false,
     "start_time": "2021-12-05T06:41:48.786795",
     "status": "completed"
    },
    "tags": []
   },
   "outputs": [],
   "source": [
    "word2vec_file = '../input/d/sandreds/googlenewsvectorsnegative300/GoogleNews-vectors-negative300.bin'"
   ]
  },
  {
   "cell_type": "code",
   "execution_count": 4,
   "id": "0a74cebd",
   "metadata": {
    "execution": {
     "iopub.execute_input": "2021-12-05T06:41:48.834263Z",
     "iopub.status.busy": "2021-12-05T06:41:48.833473Z",
     "iopub.status.idle": "2021-12-05T06:41:48.846019Z",
     "shell.execute_reply": "2021-12-05T06:41:48.846450Z",
     "shell.execute_reply.started": "2021-12-05T06:28:07.895005Z"
    },
    "papermill": {
     "duration": 0.031576,
     "end_time": "2021-12-05T06:41:48.846572",
     "exception": false,
     "start_time": "2021-12-05T06:41:48.814996",
     "status": "completed"
    },
    "tags": []
   },
   "outputs": [
    {
     "data": {
      "text/html": [
       "<div>\n",
       "<style scoped>\n",
       "    .dataframe tbody tr th:only-of-type {\n",
       "        vertical-align: middle;\n",
       "    }\n",
       "\n",
       "    .dataframe tbody tr th {\n",
       "        vertical-align: top;\n",
       "    }\n",
       "\n",
       "    .dataframe thead th {\n",
       "        text-align: right;\n",
       "    }\n",
       "</style>\n",
       "<table border=\"1\" class=\"dataframe\">\n",
       "  <thead>\n",
       "    <tr style=\"text-align: right;\">\n",
       "      <th></th>\n",
       "      <th>id</th>\n",
       "      <th>qid1</th>\n",
       "      <th>qid2</th>\n",
       "      <th>question1</th>\n",
       "      <th>question2</th>\n",
       "      <th>is_duplicate</th>\n",
       "      <th>question1_preprocessed</th>\n",
       "      <th>question2_preprocessed</th>\n",
       "    </tr>\n",
       "  </thead>\n",
       "  <tbody>\n",
       "    <tr>\n",
       "      <th>0</th>\n",
       "      <td>204673</td>\n",
       "      <td>93885</td>\n",
       "      <td>307635</td>\n",
       "      <td>If there is a God, where is He!</td>\n",
       "      <td>Why is god a \"He\"?</td>\n",
       "      <td>0</td>\n",
       "      <td>if there is a god , where is he !</td>\n",
       "      <td>why is god a `` he '' ?</td>\n",
       "    </tr>\n",
       "    <tr>\n",
       "      <th>1</th>\n",
       "      <td>17716</td>\n",
       "      <td>2093</td>\n",
       "      <td>15628</td>\n",
       "      <td>Do you believe that everything happens for a r...</td>\n",
       "      <td>Does everything happen for a reason?</td>\n",
       "      <td>1</td>\n",
       "      <td>do you believe that everything happens for a r...</td>\n",
       "      <td>does everything happen for a reason ?</td>\n",
       "    </tr>\n",
       "    <tr>\n",
       "      <th>2</th>\n",
       "      <td>291767</td>\n",
       "      <td>352623</td>\n",
       "      <td>413255</td>\n",
       "      <td>Will there always be web hosting that will sup...</td>\n",
       "      <td>Will there always be web hosting that supports...</td>\n",
       "      <td>1</td>\n",
       "      <td>will there always be web hosting that will sup...</td>\n",
       "      <td>will there always be web hosting that supports...</td>\n",
       "    </tr>\n",
       "    <tr>\n",
       "      <th>3</th>\n",
       "      <td>203758</td>\n",
       "      <td>59824</td>\n",
       "      <td>67971</td>\n",
       "      <td>What is the proof of Indian Army's surgical st...</td>\n",
       "      <td>Has India provided any proof of the surgical s...</td>\n",
       "      <td>1</td>\n",
       "      <td>what is the proof of indian army 's surgical s...</td>\n",
       "      <td>has india provided any proof of the surgical s...</td>\n",
       "    </tr>\n",
       "    <tr>\n",
       "      <th>4</th>\n",
       "      <td>41747</td>\n",
       "      <td>75326</td>\n",
       "      <td>75327</td>\n",
       "      <td>What do Indian Muslims think of Modi?</td>\n",
       "      <td>What do Indian Muslim think about PM Narendra ...</td>\n",
       "      <td>1</td>\n",
       "      <td>what do indian muslims think of modi ?</td>\n",
       "      <td>what do indian muslim think about pm narendra ...</td>\n",
       "    </tr>\n",
       "  </tbody>\n",
       "</table>\n",
       "</div>"
      ],
      "text/plain": [
       "       id    qid1    qid2                                          question1  \\\n",
       "0  204673   93885  307635                    If there is a God, where is He!   \n",
       "1   17716    2093   15628  Do you believe that everything happens for a r...   \n",
       "2  291767  352623  413255  Will there always be web hosting that will sup...   \n",
       "3  203758   59824   67971  What is the proof of Indian Army's surgical st...   \n",
       "4   41747   75326   75327              What do Indian Muslims think of Modi?   \n",
       "\n",
       "                                           question2  is_duplicate  \\\n",
       "0                                 Why is god a \"He\"?             0   \n",
       "1               Does everything happen for a reason?             1   \n",
       "2  Will there always be web hosting that supports...             1   \n",
       "3  Has India provided any proof of the surgical s...             1   \n",
       "4  What do Indian Muslim think about PM Narendra ...             1   \n",
       "\n",
       "                              question1_preprocessed  \\\n",
       "0                  if there is a god , where is he !   \n",
       "1  do you believe that everything happens for a r...   \n",
       "2  will there always be web hosting that will sup...   \n",
       "3  what is the proof of indian army 's surgical s...   \n",
       "4             what do indian muslims think of modi ?   \n",
       "\n",
       "                              question2_preprocessed  \n",
       "0                            why is god a `` he '' ?  \n",
       "1              does everything happen for a reason ?  \n",
       "2  will there always be web hosting that supports...  \n",
       "3  has india provided any proof of the surgical s...  \n",
       "4  what do indian muslim think about pm narendra ...  "
      ]
     },
     "execution_count": 4,
     "metadata": {},
     "output_type": "execute_result"
    }
   ],
   "source": [
    "train.head()"
   ]
  },
  {
   "cell_type": "code",
   "execution_count": 5,
   "id": "e183a4fe",
   "metadata": {
    "execution": {
     "iopub.execute_input": "2021-12-05T06:41:48.876516Z",
     "iopub.status.busy": "2021-12-05T06:41:48.875896Z",
     "iopub.status.idle": "2021-12-05T06:42:50.921199Z",
     "shell.execute_reply": "2021-12-05T06:42:50.920691Z",
     "shell.execute_reply.started": "2021-12-05T06:28:07.919112Z"
    },
    "papermill": {
     "duration": 62.06346,
     "end_time": "2021-12-05T06:42:50.921351",
     "exception": false,
     "start_time": "2021-12-05T06:41:48.857891",
     "status": "completed"
    },
    "tags": []
   },
   "outputs": [],
   "source": [
    "def buildVocabulary(reviews):\n",
    "    tokenizer = tf.keras.preprocessing.text.Tokenizer(lower=False, split=' ')\n",
    "    tokenizer.fit_on_texts(reviews)\n",
    "    return tokenizer\n",
    "\n",
    "def getSequences(reviews, tokenizer, seq_maxlen):\n",
    "    reviews_seq = tokenizer.texts_to_sequences(reviews)\n",
    "    return np.array(tf.keras.preprocessing.sequence.pad_sequences(reviews_seq, maxlen=seq_maxlen))\n",
    "\n",
    "word2vec_model = KeyedVectors.load_word2vec_format(word2vec_file, binary = True)\n",
    "\n",
    "def getEmbeddingWeightMatrix(word2idx):    \n",
    "    embedding_matrix = np.zeros((len(word2idx)+1, 300))\n",
    "    for word, i in tqdm(word2idx.items()):\n",
    "       \n",
    "        embedding_vector = word2vec_model[word] if word in word2vec_model else np.random.rand(1,300)\n",
    "        if embedding_vector is not None:\n",
    "            embedding_matrix[i] = embedding_vector\n",
    "    return embedding_matrix"
   ]
  },
  {
   "cell_type": "code",
   "execution_count": 6,
   "id": "40a3ebc0",
   "metadata": {
    "execution": {
     "iopub.execute_input": "2021-12-05T06:42:50.974813Z",
     "iopub.status.busy": "2021-12-05T06:42:50.963194Z",
     "iopub.status.idle": "2021-12-05T06:43:04.692817Z",
     "shell.execute_reply": "2021-12-05T06:43:04.691844Z",
     "shell.execute_reply.started": "2021-12-05T06:29:09.661554Z"
    },
    "papermill": {
     "duration": 13.76014,
     "end_time": "2021-12-05T06:43:04.692993",
     "exception": false,
     "start_time": "2021-12-05T06:42:50.932853",
     "status": "completed"
    },
    "tags": []
   },
   "outputs": [
    {
     "name": "stdout",
     "output_type": "stream",
     "text": [
      "67043\n"
     ]
    }
   ],
   "source": [
    "tokenizer = buildVocabulary(train['question1'].tolist()+train['question2'].tolist()+val['question1'].tolist()+val['question2'].tolist()+test['question1'].tolist()+test['question2'].tolist())\n",
    "vocab_size = len(tokenizer.word_index) + 1\n",
    "print(vocab_size)\n",
    "\n",
    "x_train1 = getSequences(train['question1'], tokenizer, 200)\n",
    "x_train2 = getSequences(train['question2'], tokenizer, 200)\n",
    "y_train = tf.keras.utils.to_categorical(train['is_duplicate'])\n",
    "\n",
    "x_val1 = getSequences(val['question1'], tokenizer, 200)\n",
    "x_val2 = getSequences(val['question2'], tokenizer, 200)\n",
    "y_val = tf.keras.utils.to_categorical(val['is_duplicate'])\n",
    "\n",
    "x_test1 = getSequences(test['question1'], tokenizer, 200)\n",
    "x_test2 = getSequences(test['question2'], tokenizer, 200)\n",
    "y_test = tf.keras.utils.to_categorical(test['is_duplicate'])"
   ]
  },
  {
   "cell_type": "code",
   "execution_count": 7,
   "id": "61abd026",
   "metadata": {
    "execution": {
     "iopub.execute_input": "2021-12-05T06:43:04.722083Z",
     "iopub.status.busy": "2021-12-05T06:43:04.721506Z",
     "iopub.status.idle": "2021-12-05T06:43:05.183883Z",
     "shell.execute_reply": "2021-12-05T06:43:05.182396Z",
     "shell.execute_reply.started": "2021-12-05T06:29:22.925663Z"
    },
    "papermill": {
     "duration": 0.478999,
     "end_time": "2021-12-05T06:43:05.184024",
     "exception": false,
     "start_time": "2021-12-05T06:43:04.705025",
     "status": "completed"
    },
    "tags": []
   },
   "outputs": [
    {
     "name": "stderr",
     "output_type": "stream",
     "text": [
      "100%|██████████| 67042/67042 [00:00<00:00, 148076.38it/s]"
     ]
    },
    {
     "name": "stdout",
     "output_type": "stream",
     "text": [
      "(67043, 300)\n"
     ]
    },
    {
     "name": "stderr",
     "output_type": "stream",
     "text": [
      "\n"
     ]
    }
   ],
   "source": [
    "#embedding_vectors = loadGloveWordEmbeddings()\n",
    "#print(len(embedding_vectors))\n",
    "\n",
    "embedding_weight_matrix = getEmbeddingWeightMatrix(tokenizer.word_index)\n",
    "print(embedding_weight_matrix.shape)"
   ]
  },
  {
   "cell_type": "code",
   "execution_count": 8,
   "id": "59b405dc",
   "metadata": {
    "execution": {
     "iopub.execute_input": "2021-12-05T06:43:05.221581Z",
     "iopub.status.busy": "2021-12-05T06:43:05.221015Z",
     "iopub.status.idle": "2021-12-05T06:43:07.840042Z",
     "shell.execute_reply": "2021-12-05T06:43:07.839136Z",
     "shell.execute_reply.started": "2021-12-05T06:29:23.399993Z"
    },
    "papermill": {
     "duration": 2.642422,
     "end_time": "2021-12-05T06:43:07.840177",
     "exception": false,
     "start_time": "2021-12-05T06:43:05.197755",
     "status": "completed"
    },
    "tags": []
   },
   "outputs": [
    {
     "name": "stderr",
     "output_type": "stream",
     "text": [
      "2021-12-05 06:43:05.301034: I tensorflow/stream_executor/cuda/cuda_gpu_executor.cc:937] successful NUMA node read from SysFS had negative value (-1), but there must be at least one NUMA node, so returning NUMA node zero\n",
      "2021-12-05 06:43:05.400333: I tensorflow/stream_executor/cuda/cuda_gpu_executor.cc:937] successful NUMA node read from SysFS had negative value (-1), but there must be at least one NUMA node, so returning NUMA node zero\n",
      "2021-12-05 06:43:05.401024: I tensorflow/stream_executor/cuda/cuda_gpu_executor.cc:937] successful NUMA node read from SysFS had negative value (-1), but there must be at least one NUMA node, so returning NUMA node zero\n",
      "2021-12-05 06:43:05.402338: I tensorflow/core/platform/cpu_feature_guard.cc:142] This TensorFlow binary is optimized with oneAPI Deep Neural Network Library (oneDNN) to use the following CPU instructions in performance-critical operations:  AVX2 AVX512F FMA\n",
      "To enable them in other operations, rebuild TensorFlow with the appropriate compiler flags.\n",
      "2021-12-05 06:43:05.403313: I tensorflow/stream_executor/cuda/cuda_gpu_executor.cc:937] successful NUMA node read from SysFS had negative value (-1), but there must be at least one NUMA node, so returning NUMA node zero\n",
      "2021-12-05 06:43:05.404059: I tensorflow/stream_executor/cuda/cuda_gpu_executor.cc:937] successful NUMA node read from SysFS had negative value (-1), but there must be at least one NUMA node, so returning NUMA node zero\n",
      "2021-12-05 06:43:05.404737: I tensorflow/stream_executor/cuda/cuda_gpu_executor.cc:937] successful NUMA node read from SysFS had negative value (-1), but there must be at least one NUMA node, so returning NUMA node zero\n",
      "2021-12-05 06:43:07.213294: I tensorflow/stream_executor/cuda/cuda_gpu_executor.cc:937] successful NUMA node read from SysFS had negative value (-1), but there must be at least one NUMA node, so returning NUMA node zero\n",
      "2021-12-05 06:43:07.214235: I tensorflow/stream_executor/cuda/cuda_gpu_executor.cc:937] successful NUMA node read from SysFS had negative value (-1), but there must be at least one NUMA node, so returning NUMA node zero\n",
      "2021-12-05 06:43:07.215011: I tensorflow/stream_executor/cuda/cuda_gpu_executor.cc:937] successful NUMA node read from SysFS had negative value (-1), but there must be at least one NUMA node, so returning NUMA node zero\n",
      "2021-12-05 06:43:07.215600: I tensorflow/core/common_runtime/gpu/gpu_device.cc:1510] Created device /job:localhost/replica:0/task:0/device:GPU:0 with 15403 MB memory:  -> device: 0, name: Tesla P100-PCIE-16GB, pci bus id: 0000:00:04.0, compute capability: 6.0\n"
     ]
    }
   ],
   "source": [
    "#he_initializer = tf.keras.initializers.HeUniform()\n",
    "inp1 = tf.keras.Input(shape=(x_train1.shape[1],))\n",
    "inp2 = tf.keras.Input(shape=(x_train2.shape[1],))\n",
    "\n",
    "inner1= tf.keras.layers.Embedding(input_dim=67043, output_dim=300, input_length=200, \n",
    "                                  weights=[embedding_weight_matrix], trainable=True)(inp1)\n",
    "inner2= tf.keras.layers.Embedding(input_dim=67043, output_dim=300, input_length=200,\n",
    "                                  weights=[embedding_weight_matrix], trainable=True)(inp2)\n",
    "\n",
    "\n",
    "#inner = tf.keras.layers.concatenate([inner1+inner2, inner1-inner2, tf.math.multiply(inner1, inner2)], axis=-1)\n",
    "\n",
    "inner1 = tf.keras.backend.sum(inner1, axis=1, keepdims=False)\n",
    "inner2 = tf.keras.backend.sum(inner2, axis=1, keepdims=False)\n",
    "inner = inner1+inner2\n",
    "inner = tf.keras.layers.Dense(200, activation = 'relu', kernel_regularizer = tf.keras.regularizers.l2(l2=0.01))(inner)\n",
    "inner = tf.keras.layers.Dropout(0.2)(inner)\n",
    "inner = tf.keras.layers.Dense(120, activation = 'relu', kernel_regularizer = tf.keras.regularizers.l2(l2=0.01))(inner)\n",
    "inner = tf.keras.layers.Dropout(0.2)(inner)\n",
    "inner = tf.keras.layers.Dense(60, activation = 'relu', kernel_regularizer = tf.keras.regularizers.l2(l2=0.01))(inner)\n",
    "inner = tf.keras.layers.Dropout(0.2)(inner)\n",
    "output = tf.keras.layers.Dense(2, activation='softmax')(inner)\n",
    "\n",
    "model = tf.keras.Model(inputs = [inp1, inp2], outputs = output)"
   ]
  },
  {
   "cell_type": "code",
   "execution_count": 9,
   "id": "7eab1687",
   "metadata": {
    "execution": {
     "iopub.execute_input": "2021-12-05T06:43:07.876275Z",
     "iopub.status.busy": "2021-12-05T06:43:07.875614Z",
     "iopub.status.idle": "2021-12-05T06:43:07.891008Z",
     "shell.execute_reply": "2021-12-05T06:43:07.890387Z",
     "shell.execute_reply.started": "2021-12-05T06:29:26.103961Z"
    },
    "papermill": {
     "duration": 0.036541,
     "end_time": "2021-12-05T06:43:07.891138",
     "exception": false,
     "start_time": "2021-12-05T06:43:07.854597",
     "status": "completed"
    },
    "tags": []
   },
   "outputs": [
    {
     "name": "stdout",
     "output_type": "stream",
     "text": [
      "Model: \"model\"\n",
      "__________________________________________________________________________________________________\n",
      "Layer (type)                    Output Shape         Param #     Connected to                     \n",
      "==================================================================================================\n",
      "input_1 (InputLayer)            [(None, 200)]        0                                            \n",
      "__________________________________________________________________________________________________\n",
      "input_2 (InputLayer)            [(None, 200)]        0                                            \n",
      "__________________________________________________________________________________________________\n",
      "embedding (Embedding)           (None, 200, 300)     20112900    input_1[0][0]                    \n",
      "__________________________________________________________________________________________________\n",
      "embedding_1 (Embedding)         (None, 200, 300)     20112900    input_2[0][0]                    \n",
      "__________________________________________________________________________________________________\n",
      "tf.math.reduce_sum (TFOpLambda) (None, 300)          0           embedding[0][0]                  \n",
      "__________________________________________________________________________________________________\n",
      "tf.math.reduce_sum_1 (TFOpLambd (None, 300)          0           embedding_1[0][0]                \n",
      "__________________________________________________________________________________________________\n",
      "tf.__operators__.add (TFOpLambd (None, 300)          0           tf.math.reduce_sum[0][0]         \n",
      "                                                                 tf.math.reduce_sum_1[0][0]       \n",
      "__________________________________________________________________________________________________\n",
      "dense (Dense)                   (None, 200)          60200       tf.__operators__.add[0][0]       \n",
      "__________________________________________________________________________________________________\n",
      "dropout (Dropout)               (None, 200)          0           dense[0][0]                      \n",
      "__________________________________________________________________________________________________\n",
      "dense_1 (Dense)                 (None, 120)          24120       dropout[0][0]                    \n",
      "__________________________________________________________________________________________________\n",
      "dropout_1 (Dropout)             (None, 120)          0           dense_1[0][0]                    \n",
      "__________________________________________________________________________________________________\n",
      "dense_2 (Dense)                 (None, 60)           7260        dropout_1[0][0]                  \n",
      "__________________________________________________________________________________________________\n",
      "dropout_2 (Dropout)             (None, 60)           0           dense_2[0][0]                    \n",
      "__________________________________________________________________________________________________\n",
      "dense_3 (Dense)                 (None, 2)            122         dropout_2[0][0]                  \n",
      "==================================================================================================\n",
      "Total params: 40,317,502\n",
      "Trainable params: 40,317,502\n",
      "Non-trainable params: 0\n",
      "__________________________________________________________________________________________________\n"
     ]
    }
   ],
   "source": [
    "model.compile(optimizer = \"adam\", loss = 'categorical_crossentropy', metrics=['accuracy'])\n",
    "model.summary()"
   ]
  },
  {
   "cell_type": "code",
   "execution_count": 10,
   "id": "0aae2f11",
   "metadata": {
    "execution": {
     "iopub.execute_input": "2021-12-05T06:43:07.925895Z",
     "iopub.status.busy": "2021-12-05T06:43:07.925115Z",
     "iopub.status.idle": "2021-12-05T06:44:04.257889Z",
     "shell.execute_reply": "2021-12-05T06:44:04.258447Z",
     "shell.execute_reply.started": "2021-12-05T06:29:26.126805Z"
    },
    "papermill": {
     "duration": 56.353085,
     "end_time": "2021-12-05T06:44:04.258638",
     "exception": false,
     "start_time": "2021-12-05T06:43:07.905553",
     "status": "completed"
    },
    "tags": []
   },
   "outputs": [
    {
     "name": "stderr",
     "output_type": "stream",
     "text": [
      "2021-12-05 06:43:08.036642: I tensorflow/compiler/mlir/mlir_graph_optimization_pass.cc:185] None of the MLIR Optimization Passes are enabled (registered 2)\n"
     ]
    },
    {
     "name": "stdout",
     "output_type": "stream",
     "text": [
      "Epoch 1/4\n",
      "632/632 [==============================] - 14s 20ms/step - loss: 1.5897 - accuracy: 0.6573 - val_loss: 0.6889 - val_accuracy: 0.6883\n",
      "Epoch 2/4\n",
      "632/632 [==============================] - 13s 20ms/step - loss: 0.5678 - accuracy: 0.7383 - val_loss: 0.5906 - val_accuracy: 0.7223\n",
      "Epoch 3/4\n",
      "632/632 [==============================] - 12s 19ms/step - loss: 0.4759 - accuracy: 0.7885 - val_loss: 0.5830 - val_accuracy: 0.7369\n",
      "Epoch 4/4\n",
      "632/632 [==============================] - 12s 19ms/step - loss: 0.4199 - accuracy: 0.8166 - val_loss: 0.6234 - val_accuracy: 0.7322\n"
     ]
    }
   ],
   "source": [
    "save_weights = tf.keras.callbacks.ModelCheckpoint('cbow_mlp.h5', monitor='val_loss', save_best_only=True)\n",
    "checkpoint_filepath = 'weights.best.{epoch:01d}.hdf5'\n",
    "#model_checkpoint_callback = tf.keras.callbacks.ModelCheckpoint(filepath=checkpoint_filepath,\n",
    "#verbose = 1,\n",
    "#monitor = 'val_loss',\n",
    "#save_best_only = False)\n",
    "history = model.fit((x_train1, x_train2), y_train,\n",
    "                    batch_size = 64,\n",
    "                    validation_data = ((x_val1, x_val2), y_val),\n",
    "                    validation_batch_size = 64,\n",
    "                    epochs=4, \n",
    "                    callbacks=[save_weights], \n",
    "                    verbose=1)"
   ]
  },
  {
   "cell_type": "code",
   "execution_count": 13,
   "id": "6195ba4e",
   "metadata": {
    "execution": {
     "iopub.execute_input": "2021-12-05T06:44:05.863472Z",
     "iopub.status.busy": "2021-12-05T06:44:05.862509Z",
     "iopub.status.idle": "2021-12-05T06:44:28.229271Z",
     "shell.execute_reply": "2021-12-05T06:44:28.229695Z",
     "shell.execute_reply.started": "2021-12-05T06:40:02.762209Z"
    },
    "papermill": {
     "duration": 22.559635,
     "end_time": "2021-12-05T06:44:28.229842",
     "exception": false,
     "start_time": "2021-12-05T06:44:05.670207",
     "status": "completed"
    },
    "tags": []
   },
   "outputs": [
    {
     "name": "stdout",
     "output_type": "stream",
     "text": [
      "10108/10108 [==============================] - 22s 2ms/step - loss: 0.3327 - accuracy: 0.8621\n",
      "loss on test data is 0.3327052593231201\n",
      "accuracy on test data is 0.8620792031288147\n"
     ]
    }
   ],
   "source": [
    "loss, accuracy = model.evaluate((x_test1, x_test2), y_test, batch_size=4, verbose=1)\n",
    "\n",
    "print('loss on test data is', loss)\n",
    "print('accuracy on test data is', accuracy)"
   ]
  },
  {
   "cell_type": "code",
   "execution_count": 14,
   "id": "3d4078c0",
   "metadata": {
    "execution": {
     "iopub.execute_input": "2021-12-05T06:44:28.830291Z",
     "iopub.status.busy": "2021-12-05T06:44:28.829339Z",
     "iopub.status.idle": "2021-12-05T06:44:31.520669Z",
     "shell.execute_reply": "2021-12-05T06:44:31.521533Z",
     "shell.execute_reply.started": "2021-12-05T06:40:27.475503Z"
    },
    "papermill": {
     "duration": 2.995351,
     "end_time": "2021-12-05T06:44:31.521775",
     "exception": false,
     "start_time": "2021-12-05T06:44:28.526424",
     "status": "completed"
    },
    "tags": []
   },
   "outputs": [
    {
     "name": "stdout",
     "output_type": "stream",
     "text": [
      "F1_score on test is 0.7974573192880495\n"
     ]
    }
   ],
   "source": [
    "pred = model.predict((x_test1, x_test2))\n",
    "print('F1_score on test is', f1_score(np.argmax(pred, axis=1), np.argmax(y_test, axis=1)))\n"
   ]
  },
  {
   "cell_type": "code",
   "execution_count": null,
   "id": "b54608e8",
   "metadata": {
    "papermill": {
     "duration": 0.488623,
     "end_time": "2021-12-05T06:44:32.446218",
     "exception": false,
     "start_time": "2021-12-05T06:44:31.957595",
     "status": "completed"
    },
    "tags": []
   },
   "outputs": [],
   "source": []
  }
 ],
 "metadata": {
  "kernelspec": {
   "display_name": "Python 3",
   "language": "python",
   "name": "python3"
  },
  "language_info": {
   "codemirror_mode": {
    "name": "ipython",
    "version": 3
   },
   "file_extension": ".py",
   "mimetype": "text/x-python",
   "name": "python",
   "nbconvert_exporter": "python",
   "pygments_lexer": "ipython3",
   "version": "3.8.8"
  },
  "papermill": {
   "default_parameters": {},
   "duration": 181.391801,
   "end_time": "2021-12-05T06:44:36.786152",
   "environment_variables": {},
   "exception": null,
   "input_path": "__notebook__.ipynb",
   "output_path": "__notebook__.ipynb",
   "parameters": {},
   "start_time": "2021-12-05T06:41:35.394351",
   "version": "2.3.3"
  }
 },
 "nbformat": 4,
 "nbformat_minor": 5
}
