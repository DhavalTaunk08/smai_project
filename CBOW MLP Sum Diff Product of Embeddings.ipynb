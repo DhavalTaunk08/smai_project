{
 "cells": [
  {
   "cell_type": "code",
   "execution_count": 1,
   "id": "0ffba8bb",
   "metadata": {
    "_cell_guid": "b1076dfc-b9ad-4769-8c92-a6c4dae69d19",
    "_uuid": "8f2839f25d086af736a60e9eeb907d3b93b6e0e5",
    "execution": {
     "iopub.execute_input": "2021-11-27T13:27:02.120873Z",
     "iopub.status.busy": "2021-11-27T13:27:02.120117Z",
     "iopub.status.idle": "2021-11-27T13:27:06.777897Z",
     "shell.execute_reply": "2021-11-27T13:27:06.777261Z",
     "shell.execute_reply.started": "2021-11-27T13:25:33.869721Z"
    },
    "papermill": {
     "duration": 4.681193,
     "end_time": "2021-11-27T13:27:06.778056",
     "exception": false,
     "start_time": "2021-11-27T13:27:02.096863",
     "status": "completed"
    },
    "tags": []
   },
   "outputs": [],
   "source": [
    "import pandas as pd\n",
    "import numpy as np\n",
    "from tqdm import tqdm\n",
    "import tensorflow as tf\n",
    "from gensim.models import KeyedVectors\n",
    "import gensim\n",
    "import re\n",
    "from sklearn.metrics import f1_score"
   ]
  },
  {
   "cell_type": "code",
   "execution_count": 2,
   "id": "2d9327ba",
   "metadata": {
    "execution": {
     "iopub.execute_input": "2021-11-27T13:27:06.803571Z",
     "iopub.status.busy": "2021-11-27T13:27:06.802996Z",
     "iopub.status.idle": "2021-11-27T13:27:07.887920Z",
     "shell.execute_reply": "2021-11-27T13:27:07.886982Z",
     "shell.execute_reply.started": "2021-11-27T13:10:42.402545Z"
    },
    "papermill": {
     "duration": 1.099041,
     "end_time": "2021-11-27T13:27:07.888060",
     "exception": false,
     "start_time": "2021-11-27T13:27:06.789019",
     "status": "completed"
    },
    "tags": []
   },
   "outputs": [],
   "source": [
    "train = pd.read_csv('../input/quora-ques-pair/test_data.csv/test_data.csv').fillna('')\n",
    "val = pd.read_csv('../input/quora-ques-pair/val_data.csv/val_data.csv').fillna('')\n",
    "test = pd.read_csv('../input/quora-ques-pair/test_data.csv/test_data.csv').fillna('')"
   ]
  },
  {
   "cell_type": "code",
   "execution_count": 3,
   "id": "c0bfef54",
   "metadata": {
    "execution": {
     "iopub.execute_input": "2021-11-27T13:27:07.912052Z",
     "iopub.status.busy": "2021-11-27T13:27:07.911329Z",
     "iopub.status.idle": "2021-11-27T13:27:07.914031Z",
     "shell.execute_reply": "2021-11-27T13:27:07.913405Z",
     "shell.execute_reply.started": "2021-11-27T13:10:43.715098Z"
    },
    "papermill": {
     "duration": 0.015828,
     "end_time": "2021-11-27T13:27:07.914162",
     "exception": false,
     "start_time": "2021-11-27T13:27:07.898334",
     "status": "completed"
    },
    "tags": []
   },
   "outputs": [],
   "source": [
    "word2vec_file = '../input/d/sandreds/googlenewsvectorsnegative300/GoogleNews-vectors-negative300.bin'"
   ]
  },
  {
   "cell_type": "code",
   "execution_count": 4,
   "id": "f318327c",
   "metadata": {
    "execution": {
     "iopub.execute_input": "2021-11-27T13:27:07.942268Z",
     "iopub.status.busy": "2021-11-27T13:27:07.941457Z",
     "iopub.status.idle": "2021-11-27T13:27:07.953929Z",
     "shell.execute_reply": "2021-11-27T13:27:07.954439Z",
     "shell.execute_reply.started": "2021-11-27T13:10:43.722268Z"
    },
    "papermill": {
     "duration": 0.030715,
     "end_time": "2021-11-27T13:27:07.954598",
     "exception": false,
     "start_time": "2021-11-27T13:27:07.923883",
     "status": "completed"
    },
    "tags": []
   },
   "outputs": [
    {
     "data": {
      "text/html": [
       "<div>\n",
       "<style scoped>\n",
       "    .dataframe tbody tr th:only-of-type {\n",
       "        vertical-align: middle;\n",
       "    }\n",
       "\n",
       "    .dataframe tbody tr th {\n",
       "        vertical-align: top;\n",
       "    }\n",
       "\n",
       "    .dataframe thead th {\n",
       "        text-align: right;\n",
       "    }\n",
       "</style>\n",
       "<table border=\"1\" class=\"dataframe\">\n",
       "  <thead>\n",
       "    <tr style=\"text-align: right;\">\n",
       "      <th></th>\n",
       "      <th>id</th>\n",
       "      <th>qid1</th>\n",
       "      <th>qid2</th>\n",
       "      <th>question1</th>\n",
       "      <th>question2</th>\n",
       "      <th>is_duplicate</th>\n",
       "      <th>question1_preprocessed</th>\n",
       "      <th>question2_preprocessed</th>\n",
       "    </tr>\n",
       "  </thead>\n",
       "  <tbody>\n",
       "    <tr>\n",
       "      <th>0</th>\n",
       "      <td>204673</td>\n",
       "      <td>93885</td>\n",
       "      <td>307635</td>\n",
       "      <td>If there is a God, where is He!</td>\n",
       "      <td>Why is god a \"He\"?</td>\n",
       "      <td>0</td>\n",
       "      <td>if there is a god , where is he !</td>\n",
       "      <td>why is god a `` he '' ?</td>\n",
       "    </tr>\n",
       "    <tr>\n",
       "      <th>1</th>\n",
       "      <td>17716</td>\n",
       "      <td>2093</td>\n",
       "      <td>15628</td>\n",
       "      <td>Do you believe that everything happens for a r...</td>\n",
       "      <td>Does everything happen for a reason?</td>\n",
       "      <td>1</td>\n",
       "      <td>do you believe that everything happens for a r...</td>\n",
       "      <td>does everything happen for a reason ?</td>\n",
       "    </tr>\n",
       "    <tr>\n",
       "      <th>2</th>\n",
       "      <td>291767</td>\n",
       "      <td>352623</td>\n",
       "      <td>413255</td>\n",
       "      <td>Will there always be web hosting that will sup...</td>\n",
       "      <td>Will there always be web hosting that supports...</td>\n",
       "      <td>1</td>\n",
       "      <td>will there always be web hosting that will sup...</td>\n",
       "      <td>will there always be web hosting that supports...</td>\n",
       "    </tr>\n",
       "    <tr>\n",
       "      <th>3</th>\n",
       "      <td>203758</td>\n",
       "      <td>59824</td>\n",
       "      <td>67971</td>\n",
       "      <td>What is the proof of Indian Army's surgical st...</td>\n",
       "      <td>Has India provided any proof of the surgical s...</td>\n",
       "      <td>1</td>\n",
       "      <td>what is the proof of indian army 's surgical s...</td>\n",
       "      <td>has india provided any proof of the surgical s...</td>\n",
       "    </tr>\n",
       "    <tr>\n",
       "      <th>4</th>\n",
       "      <td>41747</td>\n",
       "      <td>75326</td>\n",
       "      <td>75327</td>\n",
       "      <td>What do Indian Muslims think of Modi?</td>\n",
       "      <td>What do Indian Muslim think about PM Narendra ...</td>\n",
       "      <td>1</td>\n",
       "      <td>what do indian muslims think of modi ?</td>\n",
       "      <td>what do indian muslim think about pm narendra ...</td>\n",
       "    </tr>\n",
       "  </tbody>\n",
       "</table>\n",
       "</div>"
      ],
      "text/plain": [
       "       id    qid1    qid2                                          question1  \\\n",
       "0  204673   93885  307635                    If there is a God, where is He!   \n",
       "1   17716    2093   15628  Do you believe that everything happens for a r...   \n",
       "2  291767  352623  413255  Will there always be web hosting that will sup...   \n",
       "3  203758   59824   67971  What is the proof of Indian Army's surgical st...   \n",
       "4   41747   75326   75327              What do Indian Muslims think of Modi?   \n",
       "\n",
       "                                           question2  is_duplicate  \\\n",
       "0                                 Why is god a \"He\"?             0   \n",
       "1               Does everything happen for a reason?             1   \n",
       "2  Will there always be web hosting that supports...             1   \n",
       "3  Has India provided any proof of the surgical s...             1   \n",
       "4  What do Indian Muslim think about PM Narendra ...             1   \n",
       "\n",
       "                              question1_preprocessed  \\\n",
       "0                  if there is a god , where is he !   \n",
       "1  do you believe that everything happens for a r...   \n",
       "2  will there always be web hosting that will sup...   \n",
       "3  what is the proof of indian army 's surgical s...   \n",
       "4             what do indian muslims think of modi ?   \n",
       "\n",
       "                              question2_preprocessed  \n",
       "0                            why is god a `` he '' ?  \n",
       "1              does everything happen for a reason ?  \n",
       "2  will there always be web hosting that supports...  \n",
       "3  has india provided any proof of the surgical s...  \n",
       "4  what do indian muslim think about pm narendra ...  "
      ]
     },
     "execution_count": 4,
     "metadata": {},
     "output_type": "execute_result"
    }
   ],
   "source": [
    "train.head()"
   ]
  },
  {
   "cell_type": "code",
   "execution_count": 5,
   "id": "fdd3b917",
   "metadata": {
    "execution": {
     "iopub.execute_input": "2021-11-27T13:27:07.982238Z",
     "iopub.status.busy": "2021-11-27T13:27:07.981577Z",
     "iopub.status.idle": "2021-11-27T13:28:12.395623Z",
     "shell.execute_reply": "2021-11-27T13:28:12.396099Z",
     "shell.execute_reply.started": "2021-11-27T13:10:43.746605Z"
    },
    "papermill": {
     "duration": 64.431482,
     "end_time": "2021-11-27T13:28:12.396269",
     "exception": false,
     "start_time": "2021-11-27T13:27:07.964787",
     "status": "completed"
    },
    "tags": []
   },
   "outputs": [],
   "source": [
    "def buildVocabulary(reviews):\n",
    "    tokenizer = tf.keras.preprocessing.text.Tokenizer(lower=False, split=' ')\n",
    "    tokenizer.fit_on_texts(reviews)\n",
    "    return tokenizer\n",
    "\n",
    "def getSequences(reviews, tokenizer, seq_maxlen):\n",
    "    reviews_seq = tokenizer.texts_to_sequences(reviews)\n",
    "    return np.array(tf.keras.preprocessing.sequence.pad_sequences(reviews_seq, maxlen=seq_maxlen))\n",
    "\n",
    "word2vec_model = KeyedVectors.load_word2vec_format(word2vec_file, binary = True)\n",
    "\n",
    "def getEmbeddingWeightMatrix(word2idx):    \n",
    "    embedding_matrix = np.zeros((len(word2idx)+1, 300))\n",
    "    for word, i in tqdm(word2idx.items()):\n",
    "       \n",
    "        embedding_vector = word2vec_model[word] if word in word2vec_model else np.random.rand(1,300)\n",
    "        if embedding_vector is not None:\n",
    "            embedding_matrix[i] = embedding_vector\n",
    "    return embedding_matrix"
   ]
  },
  {
   "cell_type": "code",
   "execution_count": 6,
   "id": "47a83b4b",
   "metadata": {
    "execution": {
     "iopub.execute_input": "2021-11-27T13:28:12.451991Z",
     "iopub.status.busy": "2021-11-27T13:28:12.438857Z",
     "iopub.status.idle": "2021-11-27T13:28:26.338075Z",
     "shell.execute_reply": "2021-11-27T13:28:26.337092Z",
     "shell.execute_reply.started": "2021-11-27T13:11:45.518534Z"
    },
    "papermill": {
     "duration": 13.930379,
     "end_time": "2021-11-27T13:28:26.338242",
     "exception": false,
     "start_time": "2021-11-27T13:28:12.407863",
     "status": "completed"
    },
    "tags": []
   },
   "outputs": [
    {
     "name": "stdout",
     "output_type": "stream",
     "text": [
      "67043\n"
     ]
    }
   ],
   "source": [
    "tokenizer = buildVocabulary(train['question1'].tolist()+train['question2'].tolist()+val['question1'].tolist()+val['question2'].tolist()+test['question1'].tolist()+test['question2'].tolist())\n",
    "vocab_size = len(tokenizer.word_index) + 1\n",
    "print(vocab_size)\n",
    "\n",
    "x_train1 = getSequences(train['question1'], tokenizer, 200)\n",
    "x_train2 = getSequences(train['question2'], tokenizer, 200)\n",
    "y_train = tf.keras.utils.to_categorical(train['is_duplicate'])\n",
    "\n",
    "x_val1 = getSequences(val['question1'], tokenizer, 200)\n",
    "x_val2 = getSequences(val['question2'], tokenizer, 200)\n",
    "y_val = tf.keras.utils.to_categorical(val['is_duplicate'])\n",
    "\n",
    "x_test1 = getSequences(test['question1'], tokenizer, 200)\n",
    "x_test2 = getSequences(test['question2'], tokenizer, 200)\n",
    "y_test = tf.keras.utils.to_categorical(test['is_duplicate'])"
   ]
  },
  {
   "cell_type": "code",
   "execution_count": 7,
   "id": "064a2f92",
   "metadata": {
    "execution": {
     "iopub.execute_input": "2021-11-27T13:28:26.364903Z",
     "iopub.status.busy": "2021-11-27T13:28:26.364312Z",
     "iopub.status.idle": "2021-11-27T13:28:26.845268Z",
     "shell.execute_reply": "2021-11-27T13:28:26.843711Z",
     "shell.execute_reply.started": "2021-11-27T13:12:14.356043Z"
    },
    "papermill": {
     "duration": 0.496339,
     "end_time": "2021-11-27T13:28:26.845392",
     "exception": false,
     "start_time": "2021-11-27T13:28:26.349053",
     "status": "completed"
    },
    "tags": []
   },
   "outputs": [
    {
     "name": "stderr",
     "output_type": "stream",
     "text": [
      "100%|██████████| 67042/67042 [00:00<00:00, 142685.61it/s]"
     ]
    },
    {
     "name": "stdout",
     "output_type": "stream",
     "text": [
      "(67043, 300)\n"
     ]
    },
    {
     "name": "stderr",
     "output_type": "stream",
     "text": [
      "\n"
     ]
    }
   ],
   "source": [
    "#embedding_vectors = loadGloveWordEmbeddings()\n",
    "#print(len(embedding_vectors))\n",
    "\n",
    "embedding_weight_matrix = getEmbeddingWeightMatrix(tokenizer.word_index)\n",
    "print(embedding_weight_matrix.shape)"
   ]
  },
  {
   "cell_type": "code",
   "execution_count": 8,
   "id": "13dd3e2c",
   "metadata": {
    "execution": {
     "iopub.execute_input": "2021-11-27T13:28:26.881262Z",
     "iopub.status.busy": "2021-11-27T13:28:26.880656Z",
     "iopub.status.idle": "2021-11-27T13:28:29.585007Z",
     "shell.execute_reply": "2021-11-27T13:28:29.585470Z",
     "shell.execute_reply.started": "2021-11-27T13:21:50.654150Z"
    },
    "papermill": {
     "duration": 2.727389,
     "end_time": "2021-11-27T13:28:29.585638",
     "exception": false,
     "start_time": "2021-11-27T13:28:26.858249",
     "status": "completed"
    },
    "tags": []
   },
   "outputs": [
    {
     "name": "stderr",
     "output_type": "stream",
     "text": [
      "2021-11-27 13:28:26.961758: I tensorflow/stream_executor/cuda/cuda_gpu_executor.cc:937] successful NUMA node read from SysFS had negative value (-1), but there must be at least one NUMA node, so returning NUMA node zero\n",
      "2021-11-27 13:28:27.082051: I tensorflow/stream_executor/cuda/cuda_gpu_executor.cc:937] successful NUMA node read from SysFS had negative value (-1), but there must be at least one NUMA node, so returning NUMA node zero\n",
      "2021-11-27 13:28:27.082785: I tensorflow/stream_executor/cuda/cuda_gpu_executor.cc:937] successful NUMA node read from SysFS had negative value (-1), but there must be at least one NUMA node, so returning NUMA node zero\n",
      "2021-11-27 13:28:27.084455: I tensorflow/core/platform/cpu_feature_guard.cc:142] This TensorFlow binary is optimized with oneAPI Deep Neural Network Library (oneDNN) to use the following CPU instructions in performance-critical operations:  AVX2 AVX512F FMA\n",
      "To enable them in other operations, rebuild TensorFlow with the appropriate compiler flags.\n",
      "2021-11-27 13:28:27.085735: I tensorflow/stream_executor/cuda/cuda_gpu_executor.cc:937] successful NUMA node read from SysFS had negative value (-1), but there must be at least one NUMA node, so returning NUMA node zero\n",
      "2021-11-27 13:28:27.086434: I tensorflow/stream_executor/cuda/cuda_gpu_executor.cc:937] successful NUMA node read from SysFS had negative value (-1), but there must be at least one NUMA node, so returning NUMA node zero\n",
      "2021-11-27 13:28:27.087162: I tensorflow/stream_executor/cuda/cuda_gpu_executor.cc:937] successful NUMA node read from SysFS had negative value (-1), but there must be at least one NUMA node, so returning NUMA node zero\n",
      "2021-11-27 13:28:28.950796: I tensorflow/stream_executor/cuda/cuda_gpu_executor.cc:937] successful NUMA node read from SysFS had negative value (-1), but there must be at least one NUMA node, so returning NUMA node zero\n",
      "2021-11-27 13:28:28.951646: I tensorflow/stream_executor/cuda/cuda_gpu_executor.cc:937] successful NUMA node read from SysFS had negative value (-1), but there must be at least one NUMA node, so returning NUMA node zero\n",
      "2021-11-27 13:28:28.952433: I tensorflow/stream_executor/cuda/cuda_gpu_executor.cc:937] successful NUMA node read from SysFS had negative value (-1), but there must be at least one NUMA node, so returning NUMA node zero\n",
      "2021-11-27 13:28:28.953120: I tensorflow/core/common_runtime/gpu/gpu_device.cc:1510] Created device /job:localhost/replica:0/task:0/device:GPU:0 with 15403 MB memory:  -> device: 0, name: Tesla P100-PCIE-16GB, pci bus id: 0000:00:04.0, compute capability: 6.0\n"
     ]
    }
   ],
   "source": [
    "inp1 = tf.keras.Input(shape=(x_train1.shape[1],))\n",
    "inp2 = tf.keras.Input(shape=(x_train2.shape[1],))\n",
    "\n",
    "inner1= tf.keras.layers.Embedding(input_dim=67043, output_dim=300, input_length=200, \n",
    "                                  weights=[embedding_weight_matrix], trainable=True)(inp1)\n",
    "inner2= tf.keras.layers.Embedding(input_dim=67043, output_dim=300, input_length=200,\n",
    "                                  weights=[embedding_weight_matrix], trainable=True)(inp2)\n",
    " \n",
    "inner = tf.keras.layers.concatenate([inner1+inner2, inner1-inner2, tf.math.multiply(inner1, inner2)], axis=-1)\n",
    "\n",
    "inner = tf.keras.backend.sum(inner, axis=1, keepdims=False)\n",
    "#tf.keras.regularizers.l2(l2=0.01)\n",
    "inner = tf.keras.layers.Dense(300, activation = 'relu', kernel_regularizer = tf.keras.regularizers.l2(l2=0.01))(inner)\n",
    "inner = tf.keras.layers.Dropout(0.1)(inner)\n",
    "inner = tf.keras.layers.Dense(200, activation = 'relu', kernel_regularizer = tf.keras.regularizers.l2(l2=0.01))(inner)\n",
    "inner = tf.keras.layers.Dropout(0.1)(inner)\n",
    "inner = tf.keras.layers.Dense(100, activation = 'relu', kernel_regularizer = tf.keras.regularizers.l2(l2=0.01))(inner)\n",
    "inner = tf.keras.layers.Dropout(0.1)(inner)\n",
    "output = tf.keras.layers.Dense(2, activation='softmax')(inner)\n",
    "\n",
    "model = tf.keras.Model(inputs = [inp1, inp2], outputs = output)"
   ]
  },
  {
   "cell_type": "code",
   "execution_count": 9,
   "id": "2a0fb964",
   "metadata": {
    "execution": {
     "iopub.execute_input": "2021-11-27T13:28:29.619321Z",
     "iopub.status.busy": "2021-11-27T13:28:29.618811Z",
     "iopub.status.idle": "2021-11-27T13:28:29.634853Z",
     "shell.execute_reply": "2021-11-27T13:28:29.635434Z",
     "shell.execute_reply.started": "2021-11-27T13:21:51.909270Z"
    },
    "papermill": {
     "duration": 0.036653,
     "end_time": "2021-11-27T13:28:29.635595",
     "exception": false,
     "start_time": "2021-11-27T13:28:29.598942",
     "status": "completed"
    },
    "tags": []
   },
   "outputs": [
    {
     "name": "stdout",
     "output_type": "stream",
     "text": [
      "Model: \"model\"\n",
      "__________________________________________________________________________________________________\n",
      "Layer (type)                    Output Shape         Param #     Connected to                     \n",
      "==================================================================================================\n",
      "input_1 (InputLayer)            [(None, 200)]        0                                            \n",
      "__________________________________________________________________________________________________\n",
      "input_2 (InputLayer)            [(None, 200)]        0                                            \n",
      "__________________________________________________________________________________________________\n",
      "embedding (Embedding)           (None, 200, 300)     20112900    input_1[0][0]                    \n",
      "__________________________________________________________________________________________________\n",
      "embedding_1 (Embedding)         (None, 200, 300)     20112900    input_2[0][0]                    \n",
      "__________________________________________________________________________________________________\n",
      "tf.__operators__.add (TFOpLambd (None, 200, 300)     0           embedding[0][0]                  \n",
      "                                                                 embedding_1[0][0]                \n",
      "__________________________________________________________________________________________________\n",
      "tf.math.subtract (TFOpLambda)   (None, 200, 300)     0           embedding[0][0]                  \n",
      "                                                                 embedding_1[0][0]                \n",
      "__________________________________________________________________________________________________\n",
      "tf.math.multiply (TFOpLambda)   (None, 200, 300)     0           embedding[0][0]                  \n",
      "                                                                 embedding_1[0][0]                \n",
      "__________________________________________________________________________________________________\n",
      "concatenate (Concatenate)       (None, 200, 900)     0           tf.__operators__.add[0][0]       \n",
      "                                                                 tf.math.subtract[0][0]           \n",
      "                                                                 tf.math.multiply[0][0]           \n",
      "__________________________________________________________________________________________________\n",
      "tf.math.reduce_sum (TFOpLambda) (None, 900)          0           concatenate[0][0]                \n",
      "__________________________________________________________________________________________________\n",
      "dense (Dense)                   (None, 300)          270300      tf.math.reduce_sum[0][0]         \n",
      "__________________________________________________________________________________________________\n",
      "dropout (Dropout)               (None, 300)          0           dense[0][0]                      \n",
      "__________________________________________________________________________________________________\n",
      "dense_1 (Dense)                 (None, 200)          60200       dropout[0][0]                    \n",
      "__________________________________________________________________________________________________\n",
      "dropout_1 (Dropout)             (None, 200)          0           dense_1[0][0]                    \n",
      "__________________________________________________________________________________________________\n",
      "dense_2 (Dense)                 (None, 100)          20100       dropout_1[0][0]                  \n",
      "__________________________________________________________________________________________________\n",
      "dropout_2 (Dropout)             (None, 100)          0           dense_2[0][0]                    \n",
      "__________________________________________________________________________________________________\n",
      "dense_3 (Dense)                 (None, 2)            202         dropout_2[0][0]                  \n",
      "==================================================================================================\n",
      "Total params: 40,576,602\n",
      "Trainable params: 40,576,602\n",
      "Non-trainable params: 0\n",
      "__________________________________________________________________________________________________\n"
     ]
    }
   ],
   "source": [
    "model.compile(optimizer = \"adam\", loss = 'categorical_crossentropy', metrics=['accuracy'])\n",
    "model.summary()"
   ]
  },
  {
   "cell_type": "code",
   "execution_count": 10,
   "id": "2769fd24",
   "metadata": {
    "execution": {
     "iopub.execute_input": "2021-11-27T13:28:29.669190Z",
     "iopub.status.busy": "2021-11-27T13:28:29.668319Z",
     "iopub.status.idle": "2021-11-27T13:29:27.302188Z",
     "shell.execute_reply": "2021-11-27T13:29:27.301703Z",
     "shell.execute_reply.started": "2021-11-27T13:21:52.934089Z"
    },
    "papermill": {
     "duration": 57.652535,
     "end_time": "2021-11-27T13:29:27.302336",
     "exception": false,
     "start_time": "2021-11-27T13:28:29.649801",
     "status": "completed"
    },
    "tags": []
   },
   "outputs": [
    {
     "name": "stderr",
     "output_type": "stream",
     "text": [
      "2021-11-27 13:28:29.784743: I tensorflow/compiler/mlir/mlir_graph_optimization_pass.cc:185] None of the MLIR Optimization Passes are enabled (registered 2)\n"
     ]
    },
    {
     "name": "stdout",
     "output_type": "stream",
     "text": [
      "Epoch 1/3\n",
      "632/632 [==============================] - 18s 26ms/step - loss: 1.5922 - accuracy: 0.6810 - val_loss: 0.6328 - val_accuracy: 0.7140\n",
      "Epoch 2/3\n",
      "632/632 [==============================] - 16s 25ms/step - loss: 0.5415 - accuracy: 0.7529 - val_loss: 0.5487 - val_accuracy: 0.7364\n",
      "Epoch 3/3\n",
      "632/632 [==============================] - 21s 33ms/step - loss: 0.4592 - accuracy: 0.7990 - val_loss: 0.5759 - val_accuracy: 0.7274\n"
     ]
    }
   ],
   "source": [
    "save_weights = tf.keras.callbacks.ModelCheckpoint('cbow_mlp.h5', monitor='val_loss', save_best_only=True)\n",
    "checkpoint_filepath = 'weights.best.{epoch:01d}.hdf5'\n",
    "#model_checkpoint_callback = tf.keras.callbacks.ModelCheckpoint(filepath=checkpoint_filepath,\n",
    "#verbose = 1,\n",
    "#monitor = 'val_loss',\n",
    "#save_best_only = False)\n",
    "history = model.fit((x_train1, x_train2), y_train,\n",
    "                    batch_size = 64,\n",
    "                    validation_data = ((x_val1, x_val2), y_val),\n",
    "                    validation_batch_size = 32,\n",
    "                    epochs=3, \n",
    "                    callbacks=[save_weights], \n",
    "                    verbose=1)"
   ]
  },
  {
   "cell_type": "code",
   "execution_count": 11,
   "id": "ab5c9bea",
   "metadata": {
    "execution": {
     "iopub.execute_input": "2021-11-27T13:29:27.609229Z",
     "iopub.status.busy": "2021-11-27T13:29:27.608248Z",
     "iopub.status.idle": "2021-11-27T13:29:51.444179Z",
     "shell.execute_reply": "2021-11-27T13:29:51.445132Z",
     "shell.execute_reply.started": "2021-11-27T13:23:37.976281Z"
    },
    "papermill": {
     "duration": 23.995934,
     "end_time": "2021-11-27T13:29:51.445323",
     "exception": false,
     "start_time": "2021-11-27T13:29:27.449389",
     "status": "completed"
    },
    "tags": []
   },
   "outputs": [
    {
     "name": "stdout",
     "output_type": "stream",
     "text": [
      "10108/10108 [==============================] - 24s 2ms/step - loss: 0.3645 - accuracy: 0.8614\n",
      "loss on test data is 0.36454567313194275\n",
      "accuracy on test data is 0.8613866567611694\n"
     ]
    }
   ],
   "source": [
    "loss, accuracy = model.evaluate((x_test1, x_test2), y_test, batch_size=4, verbose=1)\n",
    "\n",
    "print('loss on test data is', loss)\n",
    "print('accuracy on test data is', accuracy)"
   ]
  },
  {
   "cell_type": "code",
   "execution_count": 12,
   "id": "072e0c3f",
   "metadata": {
    "execution": {
     "iopub.execute_input": "2021-11-27T13:29:52.033949Z",
     "iopub.status.busy": "2021-11-27T13:29:52.033003Z",
     "iopub.status.idle": "2021-11-27T13:29:54.764953Z",
     "shell.execute_reply": "2021-11-27T13:29:54.765365Z",
     "shell.execute_reply.started": "2021-11-27T13:25:52.168723Z"
    },
    "papermill": {
     "duration": 3.037087,
     "end_time": "2021-11-27T13:29:54.765519",
     "exception": false,
     "start_time": "2021-11-27T13:29:51.728432",
     "status": "completed"
    },
    "tags": []
   },
   "outputs": [
    {
     "name": "stdout",
     "output_type": "stream",
     "text": [
      "F1_score on test is 0.8275480059084195\n"
     ]
    }
   ],
   "source": [
    "pred = model.predict((x_test1, x_test2))\n",
    "print('F1_score on test is', f1_score(np.argmax(pred, axis=1), np.argmax(y_test, axis=1)))\n"
   ]
  },
  {
   "cell_type": "code",
   "execution_count": null,
   "id": "0b1a3522",
   "metadata": {
    "papermill": {
     "duration": 0.264673,
     "end_time": "2021-11-27T13:29:55.301567",
     "exception": false,
     "start_time": "2021-11-27T13:29:55.036894",
     "status": "completed"
    },
    "tags": []
   },
   "outputs": [],
   "source": []
  }
 ],
 "metadata": {
  "kernelspec": {
   "display_name": "Python 3",
   "language": "python",
   "name": "python3"
  },
  "language_info": {
   "codemirror_mode": {
    "name": "ipython",
    "version": 3
   },
   "file_extension": ".py",
   "mimetype": "text/x-python",
   "name": "python",
   "nbconvert_exporter": "python",
   "pygments_lexer": "ipython3",
   "version": "3.7.10"
  },
  "papermill": {
   "default_parameters": {},
   "duration": 184.393918,
   "end_time": "2021-11-27T13:29:59.169536",
   "environment_variables": {},
   "exception": null,
   "input_path": "__notebook__.ipynb",
   "output_path": "__notebook__.ipynb",
   "parameters": {},
   "start_time": "2021-11-27T13:26:54.775618",
   "version": "2.3.3"
  }
 },
 "nbformat": 4,
 "nbformat_minor": 5
}
