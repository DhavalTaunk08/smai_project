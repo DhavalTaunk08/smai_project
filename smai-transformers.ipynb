{
 "cells": [
  {
   "cell_type": "code",
   "execution_count": 1,
   "id": "0e2800c7",
   "metadata": {
    "_uuid": "e7b5f5ab6f8f300c8900321a91b9340376c986f2",
    "execution": {
     "iopub.execute_input": "2021-11-29T13:07:21.494263Z",
     "iopub.status.busy": "2021-11-29T13:07:21.492737Z",
     "iopub.status.idle": "2021-11-29T13:07:29.658217Z",
     "shell.execute_reply": "2021-11-29T13:07:29.657573Z",
     "shell.execute_reply.started": "2021-11-29T13:02:38.501896Z"
    },
    "id": "979OUro5Eac3",
    "papermill": {
     "duration": 8.194962,
     "end_time": "2021-11-29T13:07:29.658385",
     "exception": false,
     "start_time": "2021-11-29T13:07:21.463423",
     "status": "completed"
    },
    "tags": []
   },
   "outputs": [],
   "source": [
    "# Importing the libraries needed\n",
    "import pandas as pd\n",
    "import numpy as np\n",
    "from sklearn.model_selection import train_test_split\n",
    "import torch\n",
    "import seaborn as sns\n",
    "import transformers\n",
    "import json\n",
    "from sklearn.model_selection import train_test_split\n",
    "from tqdm import tqdm\n",
    "from torch.utils.data import Dataset, DataLoader\n",
    "from transformers import *\n",
    "import logging\n",
    "logging.basicConfig(level=logging.ERROR)"
   ]
  },
  {
   "cell_type": "code",
   "execution_count": 2,
   "id": "2372eeb0",
   "metadata": {
    "execution": {
     "iopub.execute_input": "2021-11-29T13:07:29.750314Z",
     "iopub.status.busy": "2021-11-29T13:07:29.749416Z",
     "iopub.status.idle": "2021-11-29T13:07:29.752644Z",
     "shell.execute_reply": "2021-11-29T13:07:29.751912Z",
     "shell.execute_reply.started": "2021-11-29T13:02:58.186810Z"
    },
    "id": "sb1Q5N6LGK7z",
    "papermill": {
     "duration": 0.069124,
     "end_time": "2021-11-29T13:07:29.752758",
     "exception": false,
     "start_time": "2021-11-29T13:07:29.683634",
     "status": "completed"
    },
    "tags": []
   },
   "outputs": [],
   "source": [
    "# Setting up the device for GPU usage\n",
    "\n",
    "from torch import cuda\n",
    "device = 'cuda' if cuda.is_available() else 'cpu'"
   ]
  },
  {
   "cell_type": "code",
   "execution_count": 3,
   "id": "fd9ab7c8",
   "metadata": {
    "_cell_guid": "79c7e3d0-c299-4dcb-8224-4455121ee9b0",
    "_uuid": "d629ff2d2480ee46fbb7e2d37f6b5fab8052498a",
    "execution": {
     "iopub.execute_input": "2021-11-29T13:07:29.805992Z",
     "iopub.status.busy": "2021-11-29T13:07:29.805353Z",
     "iopub.status.idle": "2021-11-29T13:07:32.306990Z",
     "shell.execute_reply": "2021-11-29T13:07:32.306504Z",
     "shell.execute_reply.started": "2021-11-29T13:02:58.887417Z"
    },
    "id": "J3FzcAlgEac8",
    "papermill": {
     "duration": 2.530129,
     "end_time": "2021-11-29T13:07:32.307153",
     "exception": false,
     "start_time": "2021-11-29T13:07:29.777024",
     "status": "completed"
    },
    "tags": []
   },
   "outputs": [],
   "source": [
    "train = pd.read_csv('../input/smai-project-data/train_data.csv')\n",
    "val = pd.read_csv('../input/smai-project-data/val_data.csv')\n"
   ]
  },
  {
   "cell_type": "code",
   "execution_count": 4,
   "id": "6ea87120",
   "metadata": {
    "execution": {
     "iopub.execute_input": "2021-11-29T13:07:32.407992Z",
     "iopub.status.busy": "2021-11-29T13:07:32.407063Z",
     "iopub.status.idle": "2021-11-29T13:07:32.648541Z",
     "shell.execute_reply": "2021-11-29T13:07:32.648967Z",
     "shell.execute_reply.started": "2021-11-29T13:03:01.477150Z"
    },
    "papermill": {
     "duration": 0.316027,
     "end_time": "2021-11-29T13:07:32.649156",
     "exception": false,
     "start_time": "2021-11-29T13:07:32.333129",
     "status": "completed"
    },
    "tags": []
   },
   "outputs": [],
   "source": [
    "train['merged'] = train['question1'] + \" \" + train['question2']\n",
    "val['merged'] = val['question1'] + \" \" + val['question2']\n"
   ]
  },
  {
   "cell_type": "code",
   "execution_count": 5,
   "id": "2fbfad71",
   "metadata": {
    "execution": {
     "iopub.execute_input": "2021-11-29T13:07:32.711128Z",
     "iopub.status.busy": "2021-11-29T13:07:32.709959Z",
     "iopub.status.idle": "2021-11-29T13:07:32.713553Z",
     "shell.execute_reply": "2021-11-29T13:07:32.713948Z",
     "shell.execute_reply.started": "2021-11-29T13:03:01.802154Z"
    },
    "id": "TFIoIjucGjJw",
    "outputId": "2e687d53-7b28-4396-e3d9-780a25a67df6",
    "papermill": {
     "duration": 0.035526,
     "end_time": "2021-11-29T13:07:32.714093",
     "exception": false,
     "start_time": "2021-11-29T13:07:32.678567",
     "status": "completed"
    },
    "tags": []
   },
   "outputs": [
    {
     "data": {
      "text/plain": [
       "((283003, 9), (80858, 9))"
      ]
     },
     "execution_count": 5,
     "metadata": {},
     "output_type": "execute_result"
    }
   ],
   "source": [
    "train.shape, val.shape"
   ]
  },
  {
   "cell_type": "code",
   "execution_count": 6,
   "id": "665b9cce",
   "metadata": {
    "_uuid": "c8dee062192ea016c0d306d3441ae2c573e2183c",
    "execution": {
     "iopub.execute_input": "2021-11-29T13:07:32.769341Z",
     "iopub.status.busy": "2021-11-29T13:07:32.768518Z",
     "iopub.status.idle": "2021-11-29T13:07:32.780905Z",
     "shell.execute_reply": "2021-11-29T13:07:32.781352Z",
     "shell.execute_reply.started": "2021-11-29T13:03:01.816305Z"
    },
    "id": "aTsOsl4MEadB",
    "outputId": "02eb2ea8-a3dc-4a04-abb5-280c744f12e3",
    "papermill": {
     "duration": 0.042056,
     "end_time": "2021-11-29T13:07:32.781479",
     "exception": false,
     "start_time": "2021-11-29T13:07:32.739423",
     "status": "completed"
    },
    "tags": []
   },
   "outputs": [
    {
     "data": {
      "text/html": [
       "<div>\n",
       "<style scoped>\n",
       "    .dataframe tbody tr th:only-of-type {\n",
       "        vertical-align: middle;\n",
       "    }\n",
       "\n",
       "    .dataframe tbody tr th {\n",
       "        vertical-align: top;\n",
       "    }\n",
       "\n",
       "    .dataframe thead th {\n",
       "        text-align: right;\n",
       "    }\n",
       "</style>\n",
       "<table border=\"1\" class=\"dataframe\">\n",
       "  <thead>\n",
       "    <tr style=\"text-align: right;\">\n",
       "      <th></th>\n",
       "      <th>id</th>\n",
       "      <th>qid1</th>\n",
       "      <th>qid2</th>\n",
       "      <th>question1</th>\n",
       "      <th>question2</th>\n",
       "      <th>is_duplicate</th>\n",
       "      <th>question1_preprocessed</th>\n",
       "      <th>question2_preprocessed</th>\n",
       "      <th>merged</th>\n",
       "    </tr>\n",
       "  </thead>\n",
       "  <tbody>\n",
       "    <tr>\n",
       "      <th>0</th>\n",
       "      <td>8067</td>\n",
       "      <td>15738</td>\n",
       "      <td>15739</td>\n",
       "      <td>How do I play Pokémon GO in Korea?</td>\n",
       "      <td>How do I play Pokémon GO in China?</td>\n",
       "      <td>0</td>\n",
       "      <td>how do i play pok mon go in korea ?</td>\n",
       "      <td>how do i play pok mon go in china ?</td>\n",
       "      <td>How do I play Pokémon GO in Korea? How do I pl...</td>\n",
       "    </tr>\n",
       "    <tr>\n",
       "      <th>1</th>\n",
       "      <td>368101</td>\n",
       "      <td>12736</td>\n",
       "      <td>104117</td>\n",
       "      <td>What are some of the best side dishes for crab...</td>\n",
       "      <td>What are some good side dishes for buffalo chi...</td>\n",
       "      <td>0</td>\n",
       "      <td>what are some of the best side dishes for crab...</td>\n",
       "      <td>what are some good side dishes for buffalo chi...</td>\n",
       "      <td>What are some of the best side dishes for crab...</td>\n",
       "    </tr>\n",
       "    <tr>\n",
       "      <th>2</th>\n",
       "      <td>70497</td>\n",
       "      <td>121486</td>\n",
       "      <td>121487</td>\n",
       "      <td>Which is more advisable and better material fo...</td>\n",
       "      <td>What is the best server setup for buddypress?</td>\n",
       "      <td>0</td>\n",
       "      <td>which is more advisable and better material fo...</td>\n",
       "      <td>what is the best server setup for buddypress ?</td>\n",
       "      <td>Which is more advisable and better material fo...</td>\n",
       "    </tr>\n",
       "    <tr>\n",
       "      <th>3</th>\n",
       "      <td>226567</td>\n",
       "      <td>254474</td>\n",
       "      <td>258192</td>\n",
       "      <td>How do I improve logical programming skills?</td>\n",
       "      <td>How can I improve my logical skills for progra...</td>\n",
       "      <td>1</td>\n",
       "      <td>how do i improve logical programming skills ?</td>\n",
       "      <td>how can i improve my logical skills for progra...</td>\n",
       "      <td>How do I improve logical programming skills? H...</td>\n",
       "    </tr>\n",
       "    <tr>\n",
       "      <th>4</th>\n",
       "      <td>73186</td>\n",
       "      <td>48103</td>\n",
       "      <td>3062</td>\n",
       "      <td>How close we are to see 3rd world war?</td>\n",
       "      <td>How close is a World War III?</td>\n",
       "      <td>1</td>\n",
       "      <td>how close we are to see 3rd world war ?</td>\n",
       "      <td>how close is a world war iii ?</td>\n",
       "      <td>How close we are to see 3rd world war? How clo...</td>\n",
       "    </tr>\n",
       "  </tbody>\n",
       "</table>\n",
       "</div>"
      ],
      "text/plain": [
       "       id    qid1    qid2                                          question1  \\\n",
       "0    8067   15738   15739                 How do I play Pokémon GO in Korea?   \n",
       "1  368101   12736  104117  What are some of the best side dishes for crab...   \n",
       "2   70497  121486  121487  Which is more advisable and better material fo...   \n",
       "3  226567  254474  258192       How do I improve logical programming skills?   \n",
       "4   73186   48103    3062             How close we are to see 3rd world war?   \n",
       "\n",
       "                                           question2  is_duplicate  \\\n",
       "0                 How do I play Pokémon GO in China?             0   \n",
       "1  What are some good side dishes for buffalo chi...             0   \n",
       "2      What is the best server setup for buddypress?             0   \n",
       "3  How can I improve my logical skills for progra...             1   \n",
       "4                      How close is a World War III?             1   \n",
       "\n",
       "                              question1_preprocessed  \\\n",
       "0                how do i play pok mon go in korea ?   \n",
       "1  what are some of the best side dishes for crab...   \n",
       "2  which is more advisable and better material fo...   \n",
       "3      how do i improve logical programming skills ?   \n",
       "4            how close we are to see 3rd world war ?   \n",
       "\n",
       "                              question2_preprocessed  \\\n",
       "0                how do i play pok mon go in china ?   \n",
       "1  what are some good side dishes for buffalo chi...   \n",
       "2     what is the best server setup for buddypress ?   \n",
       "3  how can i improve my logical skills for progra...   \n",
       "4                     how close is a world war iii ?   \n",
       "\n",
       "                                              merged  \n",
       "0  How do I play Pokémon GO in Korea? How do I pl...  \n",
       "1  What are some of the best side dishes for crab...  \n",
       "2  Which is more advisable and better material fo...  \n",
       "3  How do I improve logical programming skills? H...  \n",
       "4  How close we are to see 3rd world war? How clo...  "
      ]
     },
     "execution_count": 6,
     "metadata": {},
     "output_type": "execute_result"
    }
   ],
   "source": [
    "train.head()"
   ]
  },
  {
   "cell_type": "code",
   "execution_count": 7,
   "id": "260f6146",
   "metadata": {
    "execution": {
     "iopub.execute_input": "2021-11-29T13:07:32.842629Z",
     "iopub.status.busy": "2021-11-29T13:07:32.841955Z",
     "iopub.status.idle": "2021-11-29T13:07:32.845310Z",
     "shell.execute_reply": "2021-11-29T13:07:32.845715Z",
     "shell.execute_reply.started": "2021-11-29T13:03:01.845106Z"
    },
    "papermill": {
     "duration": 0.039492,
     "end_time": "2021-11-29T13:07:32.845844",
     "exception": false,
     "start_time": "2021-11-29T13:07:32.806352",
     "status": "completed"
    },
    "tags": []
   },
   "outputs": [
    {
     "data": {
      "text/html": [
       "<div>\n",
       "<style scoped>\n",
       "    .dataframe tbody tr th:only-of-type {\n",
       "        vertical-align: middle;\n",
       "    }\n",
       "\n",
       "    .dataframe tbody tr th {\n",
       "        vertical-align: top;\n",
       "    }\n",
       "\n",
       "    .dataframe thead th {\n",
       "        text-align: right;\n",
       "    }\n",
       "</style>\n",
       "<table border=\"1\" class=\"dataframe\">\n",
       "  <thead>\n",
       "    <tr style=\"text-align: right;\">\n",
       "      <th></th>\n",
       "      <th>id</th>\n",
       "      <th>qid1</th>\n",
       "      <th>qid2</th>\n",
       "      <th>question1</th>\n",
       "      <th>question2</th>\n",
       "      <th>is_duplicate</th>\n",
       "      <th>question1_preprocessed</th>\n",
       "      <th>question2_preprocessed</th>\n",
       "      <th>merged</th>\n",
       "    </tr>\n",
       "  </thead>\n",
       "  <tbody>\n",
       "    <tr>\n",
       "      <th>0</th>\n",
       "      <td>81995</td>\n",
       "      <td>139138</td>\n",
       "      <td>139139</td>\n",
       "      <td>When were emojis created? How did they become ...</td>\n",
       "      <td>Who created the emojis and when where they cre...</td>\n",
       "      <td>1</td>\n",
       "      <td>when were emojis created ? how did they become...</td>\n",
       "      <td>who created the emojis and when where they cre...</td>\n",
       "      <td>When were emojis created? How did they become ...</td>\n",
       "    </tr>\n",
       "    <tr>\n",
       "      <th>1</th>\n",
       "      <td>289624</td>\n",
       "      <td>233615</td>\n",
       "      <td>68923</td>\n",
       "      <td>How much time did you take to learn guitar?</td>\n",
       "      <td>How much time it will take for the beginners t...</td>\n",
       "      <td>1</td>\n",
       "      <td>how much time did you take to learn guitar ?</td>\n",
       "      <td>how much time it will take for the beginners t...</td>\n",
       "      <td>How much time did you take to learn guitar? Ho...</td>\n",
       "    </tr>\n",
       "    <tr>\n",
       "      <th>2</th>\n",
       "      <td>66887</td>\n",
       "      <td>62546</td>\n",
       "      <td>115846</td>\n",
       "      <td>How long does it take to learn how to develop ...</td>\n",
       "      <td>How much time does it take to learn and do And...</td>\n",
       "      <td>0</td>\n",
       "      <td>how long does it take to learn how to develop ...</td>\n",
       "      <td>how much time does it take to learn and do and...</td>\n",
       "      <td>How long does it take to learn how to develop ...</td>\n",
       "    </tr>\n",
       "    <tr>\n",
       "      <th>3</th>\n",
       "      <td>236648</td>\n",
       "      <td>347622</td>\n",
       "      <td>347623</td>\n",
       "      <td>What is the kinetic energy of a 150kg object t...</td>\n",
       "      <td>Is kinetic energy gained when it is moving at ...</td>\n",
       "      <td>0</td>\n",
       "      <td>what is the kinetic energy of a 150kg object t...</td>\n",
       "      <td>is kinetic energy gained when it is moving at ...</td>\n",
       "      <td>What is the kinetic energy of a 150kg object t...</td>\n",
       "    </tr>\n",
       "    <tr>\n",
       "      <th>4</th>\n",
       "      <td>289076</td>\n",
       "      <td>410137</td>\n",
       "      <td>410138</td>\n",
       "      <td>What causes this reproducible optical illusion?</td>\n",
       "      <td>What causes an optical illusion?</td>\n",
       "      <td>0</td>\n",
       "      <td>what causes this reproducible optical illusion ?</td>\n",
       "      <td>what causes an optical illusion ?</td>\n",
       "      <td>What causes this reproducible optical illusion...</td>\n",
       "    </tr>\n",
       "  </tbody>\n",
       "</table>\n",
       "</div>"
      ],
      "text/plain": [
       "       id    qid1    qid2                                          question1  \\\n",
       "0   81995  139138  139139  When were emojis created? How did they become ...   \n",
       "1  289624  233615   68923        How much time did you take to learn guitar?   \n",
       "2   66887   62546  115846  How long does it take to learn how to develop ...   \n",
       "3  236648  347622  347623  What is the kinetic energy of a 150kg object t...   \n",
       "4  289076  410137  410138    What causes this reproducible optical illusion?   \n",
       "\n",
       "                                           question2  is_duplicate  \\\n",
       "0  Who created the emojis and when where they cre...             1   \n",
       "1  How much time it will take for the beginners t...             1   \n",
       "2  How much time does it take to learn and do And...             0   \n",
       "3  Is kinetic energy gained when it is moving at ...             0   \n",
       "4                   What causes an optical illusion?             0   \n",
       "\n",
       "                              question1_preprocessed  \\\n",
       "0  when were emojis created ? how did they become...   \n",
       "1       how much time did you take to learn guitar ?   \n",
       "2  how long does it take to learn how to develop ...   \n",
       "3  what is the kinetic energy of a 150kg object t...   \n",
       "4   what causes this reproducible optical illusion ?   \n",
       "\n",
       "                              question2_preprocessed  \\\n",
       "0  who created the emojis and when where they cre...   \n",
       "1  how much time it will take for the beginners t...   \n",
       "2  how much time does it take to learn and do and...   \n",
       "3  is kinetic energy gained when it is moving at ...   \n",
       "4                  what causes an optical illusion ?   \n",
       "\n",
       "                                              merged  \n",
       "0  When were emojis created? How did they become ...  \n",
       "1  How much time did you take to learn guitar? Ho...  \n",
       "2  How long does it take to learn how to develop ...  \n",
       "3  What is the kinetic energy of a 150kg object t...  \n",
       "4  What causes this reproducible optical illusion...  "
      ]
     },
     "execution_count": 7,
     "metadata": {},
     "output_type": "execute_result"
    }
   ],
   "source": [
    "val.head()"
   ]
  },
  {
   "cell_type": "code",
   "execution_count": 8,
   "id": "fa66e12a",
   "metadata": {
    "execution": {
     "iopub.execute_input": "2021-11-29T13:07:32.901796Z",
     "iopub.status.busy": "2021-11-29T13:07:32.901069Z",
     "iopub.status.idle": "2021-11-29T13:07:32.907858Z",
     "shell.execute_reply": "2021-11-29T13:07:32.907453Z",
     "shell.execute_reply.started": "2021-11-29T13:03:01.864877Z"
    },
    "id": "lGcvxwWXIbfq",
    "outputId": "b2c408ca-170f-4bf2-d07c-7f722a4cbea9",
    "papermill": {
     "duration": 0.036785,
     "end_time": "2021-11-29T13:07:32.907962",
     "exception": false,
     "start_time": "2021-11-29T13:07:32.871177",
     "status": "completed"
    },
    "tags": []
   },
   "outputs": [
    {
     "data": {
      "text/plain": [
       "(array([0, 1]), array([1, 0]))"
      ]
     },
     "execution_count": 8,
     "metadata": {},
     "output_type": "execute_result"
    }
   ],
   "source": [
    "train['is_duplicate'].unique(), val['is_duplicate'].unique()"
   ]
  },
  {
   "cell_type": "code",
   "execution_count": 9,
   "id": "393b69bb",
   "metadata": {
    "_uuid": "4cc9d80f5b9969346c8f5ff24e3ce8de25dfc93d",
    "execution": {
     "iopub.execute_input": "2021-11-29T13:07:33.044993Z",
     "iopub.status.busy": "2021-11-29T13:07:33.024658Z",
     "iopub.status.idle": "2021-11-29T13:07:33.087117Z",
     "shell.execute_reply": "2021-11-29T13:07:33.086665Z",
     "shell.execute_reply.started": "2021-11-29T13:03:02.178344Z"
    },
    "id": "y43HcyWgEadG",
    "outputId": "e77408eb-073f-466f-fe1c-be2533b61323",
    "papermill": {
     "duration": 0.152215,
     "end_time": "2021-11-29T13:07:33.087244",
     "exception": false,
     "start_time": "2021-11-29T13:07:32.935029",
     "status": "completed"
    },
    "tags": []
   },
   "outputs": [
    {
     "data": {
      "text/html": [
       "<div>\n",
       "<style scoped>\n",
       "    .dataframe tbody tr th:only-of-type {\n",
       "        vertical-align: middle;\n",
       "    }\n",
       "\n",
       "    .dataframe tbody tr th {\n",
       "        vertical-align: top;\n",
       "    }\n",
       "\n",
       "    .dataframe thead th {\n",
       "        text-align: right;\n",
       "    }\n",
       "</style>\n",
       "<table border=\"1\" class=\"dataframe\">\n",
       "  <thead>\n",
       "    <tr style=\"text-align: right;\">\n",
       "      <th></th>\n",
       "      <th>id</th>\n",
       "      <th>qid1</th>\n",
       "      <th>qid2</th>\n",
       "      <th>is_duplicate</th>\n",
       "    </tr>\n",
       "  </thead>\n",
       "  <tbody>\n",
       "    <tr>\n",
       "      <th>count</th>\n",
       "      <td>283003.000000</td>\n",
       "      <td>283003.000000</td>\n",
       "      <td>283003.000000</td>\n",
       "      <td>283003.000000</td>\n",
       "    </tr>\n",
       "    <tr>\n",
       "      <th>mean</th>\n",
       "      <td>202192.331979</td>\n",
       "      <td>217054.933467</td>\n",
       "      <td>220872.439928</td>\n",
       "      <td>0.369667</td>\n",
       "    </tr>\n",
       "    <tr>\n",
       "      <th>std</th>\n",
       "      <td>116731.031422</td>\n",
       "      <td>157731.997689</td>\n",
       "      <td>160025.552542</td>\n",
       "      <td>0.482715</td>\n",
       "    </tr>\n",
       "    <tr>\n",
       "      <th>min</th>\n",
       "      <td>0.000000</td>\n",
       "      <td>1.000000</td>\n",
       "      <td>2.000000</td>\n",
       "      <td>0.000000</td>\n",
       "    </tr>\n",
       "    <tr>\n",
       "      <th>25%</th>\n",
       "      <td>101051.500000</td>\n",
       "      <td>74268.000000</td>\n",
       "      <td>74497.000000</td>\n",
       "      <td>0.000000</td>\n",
       "    </tr>\n",
       "    <tr>\n",
       "      <th>50%</th>\n",
       "      <td>202121.000000</td>\n",
       "      <td>191808.000000</td>\n",
       "      <td>196616.000000</td>\n",
       "      <td>0.000000</td>\n",
       "    </tr>\n",
       "    <tr>\n",
       "      <th>75%</th>\n",
       "      <td>303346.500000</td>\n",
       "      <td>346170.000000</td>\n",
       "      <td>354658.000000</td>\n",
       "      <td>1.000000</td>\n",
       "    </tr>\n",
       "    <tr>\n",
       "      <th>max</th>\n",
       "      <td>404289.000000</td>\n",
       "      <td>537932.000000</td>\n",
       "      <td>537933.000000</td>\n",
       "      <td>1.000000</td>\n",
       "    </tr>\n",
       "  </tbody>\n",
       "</table>\n",
       "</div>"
      ],
      "text/plain": [
       "                  id           qid1           qid2   is_duplicate\n",
       "count  283003.000000  283003.000000  283003.000000  283003.000000\n",
       "mean   202192.331979  217054.933467  220872.439928       0.369667\n",
       "std    116731.031422  157731.997689  160025.552542       0.482715\n",
       "min         0.000000       1.000000       2.000000       0.000000\n",
       "25%    101051.500000   74268.000000   74497.000000       0.000000\n",
       "50%    202121.000000  191808.000000  196616.000000       0.000000\n",
       "75%    303346.500000  346170.000000  354658.000000       1.000000\n",
       "max    404289.000000  537932.000000  537933.000000       1.000000"
      ]
     },
     "execution_count": 9,
     "metadata": {},
     "output_type": "execute_result"
    }
   ],
   "source": [
    "train.describe()"
   ]
  },
  {
   "cell_type": "code",
   "execution_count": 10,
   "id": "1a4843ca",
   "metadata": {
    "execution": {
     "iopub.execute_input": "2021-11-29T13:07:33.144958Z",
     "iopub.status.busy": "2021-11-29T13:07:33.144469Z",
     "iopub.status.idle": "2021-11-29T13:07:33.180818Z",
     "shell.execute_reply": "2021-11-29T13:07:33.181275Z",
     "shell.execute_reply.started": "2021-11-29T13:03:02.577090Z"
    },
    "papermill": {
     "duration": 0.067007,
     "end_time": "2021-11-29T13:07:33.181434",
     "exception": false,
     "start_time": "2021-11-29T13:07:33.114427",
     "status": "completed"
    },
    "tags": []
   },
   "outputs": [
    {
     "data": {
      "text/html": [
       "<div>\n",
       "<style scoped>\n",
       "    .dataframe tbody tr th:only-of-type {\n",
       "        vertical-align: middle;\n",
       "    }\n",
       "\n",
       "    .dataframe tbody tr th {\n",
       "        vertical-align: top;\n",
       "    }\n",
       "\n",
       "    .dataframe thead th {\n",
       "        text-align: right;\n",
       "    }\n",
       "</style>\n",
       "<table border=\"1\" class=\"dataframe\">\n",
       "  <thead>\n",
       "    <tr style=\"text-align: right;\">\n",
       "      <th></th>\n",
       "      <th>id</th>\n",
       "      <th>qid1</th>\n",
       "      <th>qid2</th>\n",
       "      <th>is_duplicate</th>\n",
       "    </tr>\n",
       "  </thead>\n",
       "  <tbody>\n",
       "    <tr>\n",
       "      <th>count</th>\n",
       "      <td>80858.000000</td>\n",
       "      <td>80858.000000</td>\n",
       "      <td>80858.000000</td>\n",
       "      <td>80858.000000</td>\n",
       "    </tr>\n",
       "    <tr>\n",
       "      <th>mean</th>\n",
       "      <td>202180.180131</td>\n",
       "      <td>218050.184744</td>\n",
       "      <td>221341.987831</td>\n",
       "      <td>0.366272</td>\n",
       "    </tr>\n",
       "    <tr>\n",
       "      <th>std</th>\n",
       "      <td>116628.431722</td>\n",
       "      <td>157931.573085</td>\n",
       "      <td>159683.076997</td>\n",
       "      <td>0.481788</td>\n",
       "    </tr>\n",
       "    <tr>\n",
       "      <th>min</th>\n",
       "      <td>3.000000</td>\n",
       "      <td>4.000000</td>\n",
       "      <td>8.000000</td>\n",
       "      <td>0.000000</td>\n",
       "    </tr>\n",
       "    <tr>\n",
       "      <th>25%</th>\n",
       "      <td>101138.000000</td>\n",
       "      <td>75069.750000</td>\n",
       "      <td>75543.250000</td>\n",
       "      <td>0.000000</td>\n",
       "    </tr>\n",
       "    <tr>\n",
       "      <th>50%</th>\n",
       "      <td>202441.000000</td>\n",
       "      <td>193820.500000</td>\n",
       "      <td>198467.500000</td>\n",
       "      <td>0.000000</td>\n",
       "    </tr>\n",
       "    <tr>\n",
       "      <th>75%</th>\n",
       "      <td>303186.750000</td>\n",
       "      <td>348423.500000</td>\n",
       "      <td>355237.750000</td>\n",
       "      <td>1.000000</td>\n",
       "    </tr>\n",
       "    <tr>\n",
       "      <th>max</th>\n",
       "      <td>404283.000000</td>\n",
       "      <td>537924.000000</td>\n",
       "      <td>537925.000000</td>\n",
       "      <td>1.000000</td>\n",
       "    </tr>\n",
       "  </tbody>\n",
       "</table>\n",
       "</div>"
      ],
      "text/plain": [
       "                  id           qid1           qid2  is_duplicate\n",
       "count   80858.000000   80858.000000   80858.000000  80858.000000\n",
       "mean   202180.180131  218050.184744  221341.987831      0.366272\n",
       "std    116628.431722  157931.573085  159683.076997      0.481788\n",
       "min         3.000000       4.000000       8.000000      0.000000\n",
       "25%    101138.000000   75069.750000   75543.250000      0.000000\n",
       "50%    202441.000000  193820.500000  198467.500000      0.000000\n",
       "75%    303186.750000  348423.500000  355237.750000      1.000000\n",
       "max    404283.000000  537924.000000  537925.000000      1.000000"
      ]
     },
     "execution_count": 10,
     "metadata": {},
     "output_type": "execute_result"
    }
   ],
   "source": [
    "val.describe()"
   ]
  },
  {
   "cell_type": "code",
   "execution_count": 11,
   "id": "bd627373",
   "metadata": {
    "_uuid": "01da38cc4626a85b73fbb526d9a8d128d1fd9338",
    "execution": {
     "iopub.execute_input": "2021-11-29T13:07:33.246186Z",
     "iopub.status.busy": "2021-11-29T13:07:33.245365Z",
     "iopub.status.idle": "2021-11-29T13:07:33.247124Z",
     "shell.execute_reply": "2021-11-29T13:07:33.247619Z",
     "shell.execute_reply.started": "2021-11-29T13:03:03.319544Z"
    },
    "id": "baSmeDdIEadM",
    "papermill": {
     "duration": 0.038392,
     "end_time": "2021-11-29T13:07:33.247752",
     "exception": false,
     "start_time": "2021-11-29T13:07:33.209360",
     "status": "completed"
    },
    "tags": []
   },
   "outputs": [],
   "source": [
    "new_df = train[['merged', 'is_duplicate']]"
   ]
  },
  {
   "cell_type": "code",
   "execution_count": 12,
   "id": "9ffbc80e",
   "metadata": {
    "execution": {
     "iopub.execute_input": "2021-11-29T13:07:33.305415Z",
     "iopub.status.busy": "2021-11-29T13:07:33.304622Z",
     "iopub.status.idle": "2021-11-29T13:07:37.871711Z",
     "shell.execute_reply": "2021-11-29T13:07:37.871243Z",
     "shell.execute_reply.started": "2021-11-29T13:03:03.339625Z"
    },
    "id": "nvXxpfNCGER2",
    "outputId": "2211c3ff-6662-46cc-a020-97de81184ada",
    "papermill": {
     "duration": 4.597408,
     "end_time": "2021-11-29T13:07:37.871851",
     "exception": false,
     "start_time": "2021-11-29T13:07:33.274443",
     "status": "completed"
    },
    "tags": []
   },
   "outputs": [
    {
     "data": {
      "application/vnd.jupyter.widget-view+json": {
       "model_id": "bbdb0ab9aa7a4232a86b3a3f2d3acbc3",
       "version_major": 2,
       "version_minor": 0
      },
      "text/plain": [
       "Downloading:   0%|          | 0.00/232k [00:00<?, ?B/s]"
      ]
     },
     "metadata": {},
     "output_type": "display_data"
    },
    {
     "data": {
      "application/vnd.jupyter.widget-view+json": {
       "model_id": "7d59305251d5448ea2613c6161cd51f8",
       "version_major": 2,
       "version_minor": 0
      },
      "text/plain": [
       "Downloading:   0%|          | 0.00/28.0 [00:00<?, ?B/s]"
      ]
     },
     "metadata": {},
     "output_type": "display_data"
    },
    {
     "data": {
      "application/vnd.jupyter.widget-view+json": {
       "model_id": "3306de1c59bd4977bc1af4e3e687f335",
       "version_major": 2,
       "version_minor": 0
      },
      "text/plain": [
       "Downloading:   0%|          | 0.00/466k [00:00<?, ?B/s]"
      ]
     },
     "metadata": {},
     "output_type": "display_data"
    }
   ],
   "source": [
    "# Defining some key variables that will be used later on in the training\n",
    "MAX_LEN = 512\n",
    "TRAIN_BATCH_SIZE = 8\n",
    "VALID_BATCH_SIZE = 4\n",
    "LEARNING_RATE = 1e-05\n",
    "tokenizer = BertTokenizer.from_pretrained('bert-base-uncased', truncation=True, do_lower_case=True)"
   ]
  },
  {
   "cell_type": "code",
   "execution_count": 13,
   "id": "f295695e",
   "metadata": {
    "execution": {
     "iopub.execute_input": "2021-11-29T13:07:37.937999Z",
     "iopub.status.busy": "2021-11-29T13:07:37.937331Z",
     "iopub.status.idle": "2021-11-29T13:07:37.939798Z",
     "shell.execute_reply": "2021-11-29T13:07:37.940248Z",
     "shell.execute_reply.started": "2021-11-29T13:03:07.714650Z"
    },
    "id": "3vWRDemOGxJD",
    "papermill": {
     "duration": 0.03946,
     "end_time": "2021-11-29T13:07:37.940388",
     "exception": false,
     "start_time": "2021-11-29T13:07:37.900928",
     "status": "completed"
    },
    "tags": []
   },
   "outputs": [],
   "source": [
    "class CitationData(Dataset):\n",
    "    def __init__(self, dataframe, tokenizer, max_len):\n",
    "        self.tokenizer = tokenizer\n",
    "        self.text = dataframe.merged\n",
    "        self.targets = dataframe.is_duplicate\n",
    "        self.max_len = max_len\n",
    "\n",
    "    def __len__(self):\n",
    "        return len(self.text)\n",
    "\n",
    "    def __getitem__(self, index):\n",
    "        text = str(self.text[index])\n",
    "        text = \" \".join(text.split())\n",
    "\n",
    "        inputs = self.tokenizer.encode_plus(\n",
    "            text,\n",
    "            None,\n",
    "            add_special_tokens=True,\n",
    "            max_length=self.max_len,\n",
    "            pad_to_max_length=True,\n",
    "            return_token_type_ids=True\n",
    "        )\n",
    "        ids = inputs['input_ids']\n",
    "        mask = inputs['attention_mask']\n",
    "        token_type_ids = inputs[\"token_type_ids\"]\n",
    "\n",
    "\n",
    "        return {\n",
    "            'ids': torch.tensor(ids, dtype=torch.long),\n",
    "            'mask': torch.tensor(mask, dtype=torch.long),\n",
    "            'token_type_ids': torch.tensor(token_type_ids, dtype=torch.long),\n",
    "            'targets': torch.tensor(self.targets[index], dtype=torch.float)\n",
    "        }"
   ]
  },
  {
   "cell_type": "code",
   "execution_count": 14,
   "id": "18f6a020",
   "metadata": {
    "execution": {
     "iopub.execute_input": "2021-11-29T13:07:38.001661Z",
     "iopub.status.busy": "2021-11-29T13:07:38.000805Z",
     "iopub.status.idle": "2021-11-29T13:07:38.005721Z",
     "shell.execute_reply": "2021-11-29T13:07:38.006210Z",
     "shell.execute_reply.started": "2021-11-29T13:03:07.728987Z"
    },
    "id": "7Gpe9D1QHoCd",
    "outputId": "f06ec0af-a64c-4d08-eb53-d69bed506f36",
    "papermill": {
     "duration": 0.037861,
     "end_time": "2021-11-29T13:07:38.006348",
     "exception": false,
     "start_time": "2021-11-29T13:07:37.968487",
     "status": "completed"
    },
    "tags": []
   },
   "outputs": [
    {
     "name": "stdout",
     "output_type": "stream",
     "text": [
      "Train Dataset: (283003, 9)\n",
      "Validation Dataset: (80858, 9)\n"
     ]
    }
   ],
   "source": [
    "# train_data, test_data = train_test_split(new_df, test_size=0.15)\n",
    "# train_data = train_data.reset_index(drop=True)\n",
    "# test_data = test_data.reset_index(drop=True)\n",
    "\n",
    "\n",
    "# print(\"FULL Dataset: {}\".format(new_df.shape))\n",
    "print(\"Train Dataset: {}\".format(train.shape))\n",
    "print(\"Validation Dataset: {}\".format(val.shape))\n",
    "\n",
    "training_set = CitationData(train, tokenizer, MAX_LEN)\n",
    "testing_set = CitationData(val, tokenizer, MAX_LEN)"
   ]
  },
  {
   "cell_type": "code",
   "execution_count": 15,
   "id": "ef2c9899",
   "metadata": {
    "_uuid": "9fc198d13d7f33dc70588c3f22bc7b7c4f4ebb45",
    "execution": {
     "iopub.execute_input": "2021-11-29T13:07:38.068003Z",
     "iopub.status.busy": "2021-11-29T13:07:38.067242Z",
     "iopub.status.idle": "2021-11-29T13:07:38.069181Z",
     "shell.execute_reply": "2021-11-29T13:07:38.069614Z",
     "shell.execute_reply.started": "2021-11-29T13:03:07.758504Z"
    },
    "id": "c1tInLk2Eadt",
    "papermill": {
     "duration": 0.035233,
     "end_time": "2021-11-29T13:07:38.069730",
     "exception": false,
     "start_time": "2021-11-29T13:07:38.034497",
     "status": "completed"
    },
    "tags": []
   },
   "outputs": [],
   "source": [
    "train_params = {'batch_size': TRAIN_BATCH_SIZE,\n",
    "                'shuffle': True,\n",
    "                'num_workers': 0\n",
    "                }\n",
    "\n",
    "test_params = {'batch_size': VALID_BATCH_SIZE,\n",
    "                'shuffle': True,\n",
    "                'num_workers': 0\n",
    "                }\n",
    "\n",
    "training_loader = DataLoader(training_set, **train_params)\n",
    "testing_loader = DataLoader(testing_set, **test_params)"
   ]
  },
  {
   "cell_type": "code",
   "execution_count": 16,
   "id": "dc07b7a6",
   "metadata": {
    "_uuid": "cb8f194ee79d76356be0002b0e18f947e1412d66",
    "execution": {
     "iopub.execute_input": "2021-11-29T13:07:38.132912Z",
     "iopub.status.busy": "2021-11-29T13:07:38.132148Z",
     "iopub.status.idle": "2021-11-29T13:07:38.134564Z",
     "shell.execute_reply": "2021-11-29T13:07:38.134138Z",
     "shell.execute_reply.started": "2021-11-29T13:03:07.769151Z"
    },
    "id": "HMqQTafXEaei",
    "papermill": {
     "duration": 0.036999,
     "end_time": "2021-11-29T13:07:38.134664",
     "exception": false,
     "start_time": "2021-11-29T13:07:38.097665",
     "status": "completed"
    },
    "tags": []
   },
   "outputs": [],
   "source": [
    "class BertClass(torch.nn.Module):\n",
    "    def __init__(self):\n",
    "        super(BertClass, self).__init__()\n",
    "        self.l1 = BertModel.from_pretrained(\"bert-base-uncased\")\n",
    "        self.pre_classifier = torch.nn.Linear(768, 768)\n",
    "        self.dropout = torch.nn.Dropout(0.1)\n",
    "        self.classifier = torch.nn.Linear(768, 2)\n",
    "        self.relu = torch.nn.ReLU()\n",
    "\n",
    "    def forward(self, input_ids, attention_mask, token_type_ids):\n",
    "        output_1 = self.l1(input_ids=input_ids, attention_mask=attention_mask, token_type_ids=token_type_ids)\n",
    "        hidden_state = output_1[0]\n",
    "        pooler = hidden_state[:, 0]\n",
    "        pooler = self.pre_classifier(pooler)\n",
    "        pooler = self.relu(pooler)\n",
    "        pooler = self.dropout(pooler)\n",
    "        output = self.classifier(pooler)\n",
    "        return output"
   ]
  },
  {
   "cell_type": "code",
   "execution_count": 17,
   "id": "830781c3",
   "metadata": {
    "execution": {
     "iopub.execute_input": "2021-11-29T13:07:38.194620Z",
     "iopub.status.busy": "2021-11-29T13:07:38.193857Z",
     "iopub.status.idle": "2021-11-29T13:08:26.056536Z",
     "shell.execute_reply": "2021-11-29T13:08:26.056939Z",
     "shell.execute_reply.started": "2021-11-29T13:03:27.489092Z"
    },
    "id": "sZ55mIPZIkp_",
    "outputId": "d6698940-c73b-42dc-bb2e-85d12a964c3b",
    "papermill": {
     "duration": 47.894337,
     "end_time": "2021-11-29T13:08:26.057143",
     "exception": false,
     "start_time": "2021-11-29T13:07:38.162806",
     "status": "completed"
    },
    "scrolled": true,
    "tags": []
   },
   "outputs": [
    {
     "data": {
      "application/vnd.jupyter.widget-view+json": {
       "model_id": "5dd89a5c66a3409a9c3e6b5d0db57bab",
       "version_major": 2,
       "version_minor": 0
      },
      "text/plain": [
       "Downloading:   0%|          | 0.00/570 [00:00<?, ?B/s]"
      ]
     },
     "metadata": {},
     "output_type": "display_data"
    },
    {
     "data": {
      "application/vnd.jupyter.widget-view+json": {
       "model_id": "1e15028b48b74cfb9e0ea2b28257c94e",
       "version_major": 2,
       "version_minor": 0
      },
      "text/plain": [
       "Downloading:   0%|          | 0.00/440M [00:00<?, ?B/s]"
      ]
     },
     "metadata": {},
     "output_type": "display_data"
    },
    {
     "data": {
      "text/plain": [
       "BertClass(\n",
       "  (l1): BertModel(\n",
       "    (embeddings): BertEmbeddings(\n",
       "      (word_embeddings): Embedding(30522, 768, padding_idx=0)\n",
       "      (position_embeddings): Embedding(512, 768)\n",
       "      (token_type_embeddings): Embedding(2, 768)\n",
       "      (LayerNorm): LayerNorm((768,), eps=1e-12, elementwise_affine=True)\n",
       "      (dropout): Dropout(p=0.1, inplace=False)\n",
       "    )\n",
       "    (encoder): BertEncoder(\n",
       "      (layer): ModuleList(\n",
       "        (0): BertLayer(\n",
       "          (attention): BertAttention(\n",
       "            (self): BertSelfAttention(\n",
       "              (query): Linear(in_features=768, out_features=768, bias=True)\n",
       "              (key): Linear(in_features=768, out_features=768, bias=True)\n",
       "              (value): Linear(in_features=768, out_features=768, bias=True)\n",
       "              (dropout): Dropout(p=0.1, inplace=False)\n",
       "            )\n",
       "            (output): BertSelfOutput(\n",
       "              (dense): Linear(in_features=768, out_features=768, bias=True)\n",
       "              (LayerNorm): LayerNorm((768,), eps=1e-12, elementwise_affine=True)\n",
       "              (dropout): Dropout(p=0.1, inplace=False)\n",
       "            )\n",
       "          )\n",
       "          (intermediate): BertIntermediate(\n",
       "            (dense): Linear(in_features=768, out_features=3072, bias=True)\n",
       "          )\n",
       "          (output): BertOutput(\n",
       "            (dense): Linear(in_features=3072, out_features=768, bias=True)\n",
       "            (LayerNorm): LayerNorm((768,), eps=1e-12, elementwise_affine=True)\n",
       "            (dropout): Dropout(p=0.1, inplace=False)\n",
       "          )\n",
       "        )\n",
       "        (1): BertLayer(\n",
       "          (attention): BertAttention(\n",
       "            (self): BertSelfAttention(\n",
       "              (query): Linear(in_features=768, out_features=768, bias=True)\n",
       "              (key): Linear(in_features=768, out_features=768, bias=True)\n",
       "              (value): Linear(in_features=768, out_features=768, bias=True)\n",
       "              (dropout): Dropout(p=0.1, inplace=False)\n",
       "            )\n",
       "            (output): BertSelfOutput(\n",
       "              (dense): Linear(in_features=768, out_features=768, bias=True)\n",
       "              (LayerNorm): LayerNorm((768,), eps=1e-12, elementwise_affine=True)\n",
       "              (dropout): Dropout(p=0.1, inplace=False)\n",
       "            )\n",
       "          )\n",
       "          (intermediate): BertIntermediate(\n",
       "            (dense): Linear(in_features=768, out_features=3072, bias=True)\n",
       "          )\n",
       "          (output): BertOutput(\n",
       "            (dense): Linear(in_features=3072, out_features=768, bias=True)\n",
       "            (LayerNorm): LayerNorm((768,), eps=1e-12, elementwise_affine=True)\n",
       "            (dropout): Dropout(p=0.1, inplace=False)\n",
       "          )\n",
       "        )\n",
       "        (2): BertLayer(\n",
       "          (attention): BertAttention(\n",
       "            (self): BertSelfAttention(\n",
       "              (query): Linear(in_features=768, out_features=768, bias=True)\n",
       "              (key): Linear(in_features=768, out_features=768, bias=True)\n",
       "              (value): Linear(in_features=768, out_features=768, bias=True)\n",
       "              (dropout): Dropout(p=0.1, inplace=False)\n",
       "            )\n",
       "            (output): BertSelfOutput(\n",
       "              (dense): Linear(in_features=768, out_features=768, bias=True)\n",
       "              (LayerNorm): LayerNorm((768,), eps=1e-12, elementwise_affine=True)\n",
       "              (dropout): Dropout(p=0.1, inplace=False)\n",
       "            )\n",
       "          )\n",
       "          (intermediate): BertIntermediate(\n",
       "            (dense): Linear(in_features=768, out_features=3072, bias=True)\n",
       "          )\n",
       "          (output): BertOutput(\n",
       "            (dense): Linear(in_features=3072, out_features=768, bias=True)\n",
       "            (LayerNorm): LayerNorm((768,), eps=1e-12, elementwise_affine=True)\n",
       "            (dropout): Dropout(p=0.1, inplace=False)\n",
       "          )\n",
       "        )\n",
       "        (3): BertLayer(\n",
       "          (attention): BertAttention(\n",
       "            (self): BertSelfAttention(\n",
       "              (query): Linear(in_features=768, out_features=768, bias=True)\n",
       "              (key): Linear(in_features=768, out_features=768, bias=True)\n",
       "              (value): Linear(in_features=768, out_features=768, bias=True)\n",
       "              (dropout): Dropout(p=0.1, inplace=False)\n",
       "            )\n",
       "            (output): BertSelfOutput(\n",
       "              (dense): Linear(in_features=768, out_features=768, bias=True)\n",
       "              (LayerNorm): LayerNorm((768,), eps=1e-12, elementwise_affine=True)\n",
       "              (dropout): Dropout(p=0.1, inplace=False)\n",
       "            )\n",
       "          )\n",
       "          (intermediate): BertIntermediate(\n",
       "            (dense): Linear(in_features=768, out_features=3072, bias=True)\n",
       "          )\n",
       "          (output): BertOutput(\n",
       "            (dense): Linear(in_features=3072, out_features=768, bias=True)\n",
       "            (LayerNorm): LayerNorm((768,), eps=1e-12, elementwise_affine=True)\n",
       "            (dropout): Dropout(p=0.1, inplace=False)\n",
       "          )\n",
       "        )\n",
       "        (4): BertLayer(\n",
       "          (attention): BertAttention(\n",
       "            (self): BertSelfAttention(\n",
       "              (query): Linear(in_features=768, out_features=768, bias=True)\n",
       "              (key): Linear(in_features=768, out_features=768, bias=True)\n",
       "              (value): Linear(in_features=768, out_features=768, bias=True)\n",
       "              (dropout): Dropout(p=0.1, inplace=False)\n",
       "            )\n",
       "            (output): BertSelfOutput(\n",
       "              (dense): Linear(in_features=768, out_features=768, bias=True)\n",
       "              (LayerNorm): LayerNorm((768,), eps=1e-12, elementwise_affine=True)\n",
       "              (dropout): Dropout(p=0.1, inplace=False)\n",
       "            )\n",
       "          )\n",
       "          (intermediate): BertIntermediate(\n",
       "            (dense): Linear(in_features=768, out_features=3072, bias=True)\n",
       "          )\n",
       "          (output): BertOutput(\n",
       "            (dense): Linear(in_features=3072, out_features=768, bias=True)\n",
       "            (LayerNorm): LayerNorm((768,), eps=1e-12, elementwise_affine=True)\n",
       "            (dropout): Dropout(p=0.1, inplace=False)\n",
       "          )\n",
       "        )\n",
       "        (5): BertLayer(\n",
       "          (attention): BertAttention(\n",
       "            (self): BertSelfAttention(\n",
       "              (query): Linear(in_features=768, out_features=768, bias=True)\n",
       "              (key): Linear(in_features=768, out_features=768, bias=True)\n",
       "              (value): Linear(in_features=768, out_features=768, bias=True)\n",
       "              (dropout): Dropout(p=0.1, inplace=False)\n",
       "            )\n",
       "            (output): BertSelfOutput(\n",
       "              (dense): Linear(in_features=768, out_features=768, bias=True)\n",
       "              (LayerNorm): LayerNorm((768,), eps=1e-12, elementwise_affine=True)\n",
       "              (dropout): Dropout(p=0.1, inplace=False)\n",
       "            )\n",
       "          )\n",
       "          (intermediate): BertIntermediate(\n",
       "            (dense): Linear(in_features=768, out_features=3072, bias=True)\n",
       "          )\n",
       "          (output): BertOutput(\n",
       "            (dense): Linear(in_features=3072, out_features=768, bias=True)\n",
       "            (LayerNorm): LayerNorm((768,), eps=1e-12, elementwise_affine=True)\n",
       "            (dropout): Dropout(p=0.1, inplace=False)\n",
       "          )\n",
       "        )\n",
       "        (6): BertLayer(\n",
       "          (attention): BertAttention(\n",
       "            (self): BertSelfAttention(\n",
       "              (query): Linear(in_features=768, out_features=768, bias=True)\n",
       "              (key): Linear(in_features=768, out_features=768, bias=True)\n",
       "              (value): Linear(in_features=768, out_features=768, bias=True)\n",
       "              (dropout): Dropout(p=0.1, inplace=False)\n",
       "            )\n",
       "            (output): BertSelfOutput(\n",
       "              (dense): Linear(in_features=768, out_features=768, bias=True)\n",
       "              (LayerNorm): LayerNorm((768,), eps=1e-12, elementwise_affine=True)\n",
       "              (dropout): Dropout(p=0.1, inplace=False)\n",
       "            )\n",
       "          )\n",
       "          (intermediate): BertIntermediate(\n",
       "            (dense): Linear(in_features=768, out_features=3072, bias=True)\n",
       "          )\n",
       "          (output): BertOutput(\n",
       "            (dense): Linear(in_features=3072, out_features=768, bias=True)\n",
       "            (LayerNorm): LayerNorm((768,), eps=1e-12, elementwise_affine=True)\n",
       "            (dropout): Dropout(p=0.1, inplace=False)\n",
       "          )\n",
       "        )\n",
       "        (7): BertLayer(\n",
       "          (attention): BertAttention(\n",
       "            (self): BertSelfAttention(\n",
       "              (query): Linear(in_features=768, out_features=768, bias=True)\n",
       "              (key): Linear(in_features=768, out_features=768, bias=True)\n",
       "              (value): Linear(in_features=768, out_features=768, bias=True)\n",
       "              (dropout): Dropout(p=0.1, inplace=False)\n",
       "            )\n",
       "            (output): BertSelfOutput(\n",
       "              (dense): Linear(in_features=768, out_features=768, bias=True)\n",
       "              (LayerNorm): LayerNorm((768,), eps=1e-12, elementwise_affine=True)\n",
       "              (dropout): Dropout(p=0.1, inplace=False)\n",
       "            )\n",
       "          )\n",
       "          (intermediate): BertIntermediate(\n",
       "            (dense): Linear(in_features=768, out_features=3072, bias=True)\n",
       "          )\n",
       "          (output): BertOutput(\n",
       "            (dense): Linear(in_features=3072, out_features=768, bias=True)\n",
       "            (LayerNorm): LayerNorm((768,), eps=1e-12, elementwise_affine=True)\n",
       "            (dropout): Dropout(p=0.1, inplace=False)\n",
       "          )\n",
       "        )\n",
       "        (8): BertLayer(\n",
       "          (attention): BertAttention(\n",
       "            (self): BertSelfAttention(\n",
       "              (query): Linear(in_features=768, out_features=768, bias=True)\n",
       "              (key): Linear(in_features=768, out_features=768, bias=True)\n",
       "              (value): Linear(in_features=768, out_features=768, bias=True)\n",
       "              (dropout): Dropout(p=0.1, inplace=False)\n",
       "            )\n",
       "            (output): BertSelfOutput(\n",
       "              (dense): Linear(in_features=768, out_features=768, bias=True)\n",
       "              (LayerNorm): LayerNorm((768,), eps=1e-12, elementwise_affine=True)\n",
       "              (dropout): Dropout(p=0.1, inplace=False)\n",
       "            )\n",
       "          )\n",
       "          (intermediate): BertIntermediate(\n",
       "            (dense): Linear(in_features=768, out_features=3072, bias=True)\n",
       "          )\n",
       "          (output): BertOutput(\n",
       "            (dense): Linear(in_features=3072, out_features=768, bias=True)\n",
       "            (LayerNorm): LayerNorm((768,), eps=1e-12, elementwise_affine=True)\n",
       "            (dropout): Dropout(p=0.1, inplace=False)\n",
       "          )\n",
       "        )\n",
       "        (9): BertLayer(\n",
       "          (attention): BertAttention(\n",
       "            (self): BertSelfAttention(\n",
       "              (query): Linear(in_features=768, out_features=768, bias=True)\n",
       "              (key): Linear(in_features=768, out_features=768, bias=True)\n",
       "              (value): Linear(in_features=768, out_features=768, bias=True)\n",
       "              (dropout): Dropout(p=0.1, inplace=False)\n",
       "            )\n",
       "            (output): BertSelfOutput(\n",
       "              (dense): Linear(in_features=768, out_features=768, bias=True)\n",
       "              (LayerNorm): LayerNorm((768,), eps=1e-12, elementwise_affine=True)\n",
       "              (dropout): Dropout(p=0.1, inplace=False)\n",
       "            )\n",
       "          )\n",
       "          (intermediate): BertIntermediate(\n",
       "            (dense): Linear(in_features=768, out_features=3072, bias=True)\n",
       "          )\n",
       "          (output): BertOutput(\n",
       "            (dense): Linear(in_features=3072, out_features=768, bias=True)\n",
       "            (LayerNorm): LayerNorm((768,), eps=1e-12, elementwise_affine=True)\n",
       "            (dropout): Dropout(p=0.1, inplace=False)\n",
       "          )\n",
       "        )\n",
       "        (10): BertLayer(\n",
       "          (attention): BertAttention(\n",
       "            (self): BertSelfAttention(\n",
       "              (query): Linear(in_features=768, out_features=768, bias=True)\n",
       "              (key): Linear(in_features=768, out_features=768, bias=True)\n",
       "              (value): Linear(in_features=768, out_features=768, bias=True)\n",
       "              (dropout): Dropout(p=0.1, inplace=False)\n",
       "            )\n",
       "            (output): BertSelfOutput(\n",
       "              (dense): Linear(in_features=768, out_features=768, bias=True)\n",
       "              (LayerNorm): LayerNorm((768,), eps=1e-12, elementwise_affine=True)\n",
       "              (dropout): Dropout(p=0.1, inplace=False)\n",
       "            )\n",
       "          )\n",
       "          (intermediate): BertIntermediate(\n",
       "            (dense): Linear(in_features=768, out_features=3072, bias=True)\n",
       "          )\n",
       "          (output): BertOutput(\n",
       "            (dense): Linear(in_features=3072, out_features=768, bias=True)\n",
       "            (LayerNorm): LayerNorm((768,), eps=1e-12, elementwise_affine=True)\n",
       "            (dropout): Dropout(p=0.1, inplace=False)\n",
       "          )\n",
       "        )\n",
       "        (11): BertLayer(\n",
       "          (attention): BertAttention(\n",
       "            (self): BertSelfAttention(\n",
       "              (query): Linear(in_features=768, out_features=768, bias=True)\n",
       "              (key): Linear(in_features=768, out_features=768, bias=True)\n",
       "              (value): Linear(in_features=768, out_features=768, bias=True)\n",
       "              (dropout): Dropout(p=0.1, inplace=False)\n",
       "            )\n",
       "            (output): BertSelfOutput(\n",
       "              (dense): Linear(in_features=768, out_features=768, bias=True)\n",
       "              (LayerNorm): LayerNorm((768,), eps=1e-12, elementwise_affine=True)\n",
       "              (dropout): Dropout(p=0.1, inplace=False)\n",
       "            )\n",
       "          )\n",
       "          (intermediate): BertIntermediate(\n",
       "            (dense): Linear(in_features=768, out_features=3072, bias=True)\n",
       "          )\n",
       "          (output): BertOutput(\n",
       "            (dense): Linear(in_features=3072, out_features=768, bias=True)\n",
       "            (LayerNorm): LayerNorm((768,), eps=1e-12, elementwise_affine=True)\n",
       "            (dropout): Dropout(p=0.1, inplace=False)\n",
       "          )\n",
       "        )\n",
       "      )\n",
       "    )\n",
       "    (pooler): BertPooler(\n",
       "      (dense): Linear(in_features=768, out_features=768, bias=True)\n",
       "      (activation): Tanh()\n",
       "    )\n",
       "  )\n",
       "  (pre_classifier): Linear(in_features=768, out_features=768, bias=True)\n",
       "  (dropout): Dropout(p=0.1, inplace=False)\n",
       "  (classifier): Linear(in_features=768, out_features=2, bias=True)\n",
       "  (relu): ReLU()\n",
       ")"
      ]
     },
     "execution_count": 17,
     "metadata": {},
     "output_type": "execute_result"
    }
   ],
   "source": [
    "model = BertClass()\n",
    "model.to(device)"
   ]
  },
  {
   "cell_type": "code",
   "execution_count": 18,
   "id": "979c5556",
   "metadata": {
    "execution": {
     "iopub.execute_input": "2021-11-29T13:08:26.122232Z",
     "iopub.status.busy": "2021-11-29T13:08:26.121680Z",
     "iopub.status.idle": "2021-11-29T13:08:31.457937Z",
     "shell.execute_reply": "2021-11-29T13:08:31.458428Z",
     "shell.execute_reply.started": "2021-11-29T13:04:49.913977Z"
    },
    "papermill": {
     "duration": 5.370751,
     "end_time": "2021-11-29T13:08:31.458605",
     "exception": false,
     "start_time": "2021-11-29T13:08:26.087854",
     "status": "completed"
    },
    "tags": []
   },
   "outputs": [],
   "source": [
    "model = torch.load('../input/smai-transformers-model/pytorch_bert.bin')"
   ]
  },
  {
   "cell_type": "code",
   "execution_count": 19,
   "id": "bd533e72",
   "metadata": {
    "execution": {
     "iopub.execute_input": "2021-11-29T13:08:31.574897Z",
     "iopub.status.busy": "2021-11-29T13:08:31.574120Z",
     "iopub.status.idle": "2021-11-29T13:08:31.577044Z",
     "shell.execute_reply": "2021-11-29T13:08:31.577652Z",
     "shell.execute_reply.started": "2021-11-29T13:05:00.579174Z"
    },
    "id": "XYZ7YuJ5InOS",
    "papermill": {
     "duration": 0.061624,
     "end_time": "2021-11-29T13:08:31.577843",
     "exception": false,
     "start_time": "2021-11-29T13:08:31.516219",
     "status": "completed"
    },
    "tags": []
   },
   "outputs": [],
   "source": [
    "# Creating the loss function and optimizer\n",
    "loss_function = torch.nn.CrossEntropyLoss()\n",
    "optimizer = torch.optim.Adam(params =  model.parameters(), lr=LEARNING_RATE)"
   ]
  },
  {
   "cell_type": "code",
   "execution_count": 20,
   "id": "63c9726a",
   "metadata": {
    "execution": {
     "iopub.execute_input": "2021-11-29T13:08:31.680217Z",
     "iopub.status.busy": "2021-11-29T13:08:31.679374Z",
     "iopub.status.idle": "2021-11-29T13:08:31.681569Z",
     "shell.execute_reply": "2021-11-29T13:08:31.680920Z",
     "shell.execute_reply.started": "2021-11-29T13:05:01.171482Z"
    },
    "id": "yPhA2V3iIpzN",
    "papermill": {
     "duration": 0.056264,
     "end_time": "2021-11-29T13:08:31.681721",
     "exception": false,
     "start_time": "2021-11-29T13:08:31.625457",
     "status": "completed"
    },
    "tags": []
   },
   "outputs": [],
   "source": [
    "def calcuate_accuracy(preds, targets):\n",
    "    n_correct = (preds==targets).sum().item()\n",
    "    return n_correct"
   ]
  },
  {
   "cell_type": "code",
   "execution_count": 21,
   "id": "8542996d",
   "metadata": {
    "execution": {
     "iopub.execute_input": "2021-11-29T13:08:31.788321Z",
     "iopub.status.busy": "2021-11-29T13:08:31.787537Z",
     "iopub.status.idle": "2021-11-29T13:08:31.792984Z",
     "shell.execute_reply": "2021-11-29T13:08:31.793921Z",
     "shell.execute_reply.started": "2021-11-29T13:05:01.856303Z"
    },
    "id": "mhqvtY2SIup7",
    "papermill": {
     "duration": 0.06456,
     "end_time": "2021-11-29T13:08:31.794101",
     "exception": false,
     "start_time": "2021-11-29T13:08:31.729541",
     "status": "completed"
    },
    "tags": []
   },
   "outputs": [],
   "source": [
    "def train(epoch, training_loader):\n",
    "    tr_loss = 0\n",
    "    n_correct = 0\n",
    "    nb_tr_steps = 0\n",
    "    nb_tr_examples = 0\n",
    "    model.train()\n",
    "    for _,data in tqdm(enumerate(training_loader, 0)):\n",
    "        ids = data['ids'].to(device, dtype = torch.long)\n",
    "        mask = data['mask'].to(device, dtype = torch.long)\n",
    "        token_type_ids = data['token_type_ids'].to(device, dtype = torch.long)\n",
    "        targets = data['targets'].to(device, dtype = torch.long)\n",
    "\n",
    "        outputs = model(ids, mask, token_type_ids)\n",
    "        loss = loss_function(outputs, targets)\n",
    "        tr_loss += loss.item()\n",
    "        big_val, big_idx = torch.max(outputs.data, dim=1)\n",
    "        n_correct += calcuate_accuracy(big_idx, targets)\n",
    "\n",
    "        nb_tr_steps += 1\n",
    "        nb_tr_examples+=targets.size(0)\n",
    "        \n",
    "        if _%500==0:\n",
    "            loss_step = tr_loss/nb_tr_steps\n",
    "            accu_step = (n_correct*100)/nb_tr_examples \n",
    "            print(f\"Training Loss per 500 steps: {loss_step}\")\n",
    "            print(f\"Training Accuracy per 500 steps: {accu_step}\")\n",
    "\n",
    "        optimizer.zero_grad()\n",
    "        loss.backward()\n",
    "        # # When using GPU\n",
    "        optimizer.step()\n",
    "\n",
    "    print(f'The Total Accuracy for Epoch {epoch}: {(n_correct*100)/nb_tr_examples}')\n",
    "    epoch_loss = tr_loss/nb_tr_steps\n",
    "    epoch_accu = (n_correct*100)/nb_tr_examples\n",
    "    print(f\"Training Loss Epoch: {epoch_loss}\")\n",
    "    print(f\"Training Accuracy Epoch: {epoch_accu}\")\n",
    "\n",
    "    return "
   ]
  },
  {
   "cell_type": "code",
   "execution_count": 22,
   "id": "d9ee7e75",
   "metadata": {
    "execution": {
     "iopub.execute_input": "2021-11-29T13:08:31.955912Z",
     "iopub.status.busy": "2021-11-29T13:08:31.955197Z",
     "iopub.status.idle": "2021-11-29T17:38:58.340187Z",
     "shell.execute_reply": "2021-11-29T17:38:58.298384Z",
     "shell.execute_reply.started": "2021-11-29T13:05:02.227429Z"
    },
    "id": "Afn7xaunJHnI",
    "outputId": "8c79bca0-e9e8-44da-819d-9485a692a149",
    "papermill": {
     "duration": 16226.498415,
     "end_time": "2021-11-29T17:38:58.340387",
     "exception": false,
     "start_time": "2021-11-29T13:08:31.841972",
     "status": "completed"
    },
    "tags": []
   },
   "outputs": [
    {
     "name": "stderr",
     "output_type": "stream",
     "text": [
      "0it [00:00, ?it/s]Truncation was not explicitly activated but `max_length` is provided a specific value, please use `truncation=True` to explicitly truncate examples to max length. Defaulting to 'longest_first' truncation strategy. If you encode pairs of sequences (GLUE-style) with the tokenizer you can select this strategy more precisely by providing a specific strategy to `truncation`.\n",
      "/opt/conda/lib/python3.7/site-packages/transformers/tokenization_utils_base.py:2079: FutureWarning: The `pad_to_max_length` argument is deprecated and will be removed in a future version, use `padding=True` or `padding='longest'` to pad to the longest sequence in the batch, or use `padding='max_length'` to pad to a max length. In this case, you can give a specific length with `max_length` (e.g. `max_length=45`) or leave max_length to None to pad to the maximal input size of the model (e.g. 512 for Bert).\n",
      "  FutureWarning,\n"
     ]
    },
    {
     "name": "stdout",
     "output_type": "stream",
     "text": [
      "Training Loss per 500 steps: 0.10669399797916412\n",
      "Training Accuracy per 500 steps: 100.0\n"
     ]
    },
    {
     "name": "stderr",
     "output_type": "stream",
     "text": [
      "500it [03:48,  2.21it/s]"
     ]
    },
    {
     "name": "stdout",
     "output_type": "stream",
     "text": [
      "Training Loss per 500 steps: 0.2138806384567082\n",
      "Training Accuracy per 500 steps: 90.7435129740519\n"
     ]
    },
    {
     "name": "stderr",
     "output_type": "stream",
     "text": [
      "1000it [07:36,  2.20it/s]"
     ]
    },
    {
     "name": "stdout",
     "output_type": "stream",
     "text": [
      "Training Loss per 500 steps: 0.20612926865959508\n",
      "Training Accuracy per 500 steps: 91.15884115884116\n"
     ]
    },
    {
     "name": "stderr",
     "output_type": "stream",
     "text": [
      "1500it [11:24,  2.19it/s]"
     ]
    },
    {
     "name": "stdout",
     "output_type": "stream",
     "text": [
      "Training Loss per 500 steps: 0.21079475811274995\n",
      "Training Accuracy per 500 steps: 91.1975349766822\n"
     ]
    },
    {
     "name": "stderr",
     "output_type": "stream",
     "text": [
      "2000it [15:12,  2.19it/s]"
     ]
    },
    {
     "name": "stdout",
     "output_type": "stream",
     "text": [
      "Training Loss per 500 steps: 0.21112901068180623\n",
      "Training Accuracy per 500 steps: 91.16691654172914\n"
     ]
    },
    {
     "name": "stderr",
     "output_type": "stream",
     "text": [
      "2500it [19:01,  2.19it/s]"
     ]
    },
    {
     "name": "stdout",
     "output_type": "stream",
     "text": [
      "Training Loss per 500 steps: 0.2095717782005634\n",
      "Training Accuracy per 500 steps: 91.27848860455818\n"
     ]
    },
    {
     "name": "stderr",
     "output_type": "stream",
     "text": [
      "3000it [22:49,  2.20it/s]"
     ]
    },
    {
     "name": "stdout",
     "output_type": "stream",
     "text": [
      "Training Loss per 500 steps: 0.20987160926803752\n",
      "Training Accuracy per 500 steps: 91.30706431189603\n"
     ]
    },
    {
     "name": "stderr",
     "output_type": "stream",
     "text": [
      "3500it [26:37,  2.21it/s]"
     ]
    },
    {
     "name": "stdout",
     "output_type": "stream",
     "text": [
      "Training Loss per 500 steps: 0.2090726416859357\n",
      "Training Accuracy per 500 steps: 91.36675235646958\n"
     ]
    },
    {
     "name": "stderr",
     "output_type": "stream",
     "text": [
      "4000it [30:26,  2.19it/s]"
     ]
    },
    {
     "name": "stdout",
     "output_type": "stream",
     "text": [
      "Training Loss per 500 steps: 0.2099885510541026\n",
      "Training Accuracy per 500 steps: 91.28655336165959\n"
     ]
    },
    {
     "name": "stderr",
     "output_type": "stream",
     "text": [
      "4500it [34:15,  2.21it/s]"
     ]
    },
    {
     "name": "stdout",
     "output_type": "stream",
     "text": [
      "Training Loss per 500 steps: 0.20988168975188223\n",
      "Training Accuracy per 500 steps: 91.31304154632303\n"
     ]
    },
    {
     "name": "stderr",
     "output_type": "stream",
     "text": [
      "5000it [38:03,  2.19it/s]"
     ]
    },
    {
     "name": "stdout",
     "output_type": "stream",
     "text": [
      "Training Loss per 500 steps: 0.2094663741188379\n",
      "Training Accuracy per 500 steps: 91.32673465306938\n"
     ]
    },
    {
     "name": "stderr",
     "output_type": "stream",
     "text": [
      "5500it [41:53,  2.19it/s]"
     ]
    },
    {
     "name": "stdout",
     "output_type": "stream",
     "text": [
      "Training Loss per 500 steps: 0.20904572074060457\n",
      "Training Accuracy per 500 steps: 91.34702781312488\n"
     ]
    },
    {
     "name": "stderr",
     "output_type": "stream",
     "text": [
      "6000it [45:41,  2.19it/s]"
     ]
    },
    {
     "name": "stdout",
     "output_type": "stream",
     "text": [
      "Training Loss per 500 steps: 0.20862015515470117\n",
      "Training Accuracy per 500 steps: 91.38893517747042\n"
     ]
    },
    {
     "name": "stderr",
     "output_type": "stream",
     "text": [
      "6500it [49:30,  2.18it/s]"
     ]
    },
    {
     "name": "stdout",
     "output_type": "stream",
     "text": [
      "Training Loss per 500 steps: 0.2097169401766293\n",
      "Training Accuracy per 500 steps: 91.34556222119674\n"
     ]
    },
    {
     "name": "stderr",
     "output_type": "stream",
     "text": [
      "7000it [53:19,  2.20it/s]"
     ]
    },
    {
     "name": "stdout",
     "output_type": "stream",
     "text": [
      "Training Loss per 500 steps: 0.2095202169827604\n",
      "Training Accuracy per 500 steps: 91.37444650764176\n"
     ]
    },
    {
     "name": "stderr",
     "output_type": "stream",
     "text": [
      "7500it [57:08,  2.21it/s]"
     ]
    },
    {
     "name": "stdout",
     "output_type": "stream",
     "text": [
      "Training Loss per 500 steps: 0.20911685214928122\n",
      "Training Accuracy per 500 steps: 91.38114918010932\n"
     ]
    },
    {
     "name": "stderr",
     "output_type": "stream",
     "text": [
      "8000it [1:00:57,  2.20it/s]"
     ]
    },
    {
     "name": "stdout",
     "output_type": "stream",
     "text": [
      "Training Loss per 500 steps: 0.20880661313455925\n",
      "Training Accuracy per 500 steps: 91.42450943632046\n"
     ]
    },
    {
     "name": "stderr",
     "output_type": "stream",
     "text": [
      "8500it [1:04:46,  2.17it/s]"
     ]
    },
    {
     "name": "stdout",
     "output_type": "stream",
     "text": [
      "Training Loss per 500 steps: 0.20942846214153585\n",
      "Training Accuracy per 500 steps: 91.40542289142454\n"
     ]
    },
    {
     "name": "stderr",
     "output_type": "stream",
     "text": [
      "9000it [1:08:35,  2.19it/s]"
     ]
    },
    {
     "name": "stdout",
     "output_type": "stream",
     "text": [
      "Training Loss per 500 steps: 0.20968630131255664\n",
      "Training Accuracy per 500 steps: 91.4037329185646\n"
     ]
    },
    {
     "name": "stderr",
     "output_type": "stream",
     "text": [
      "9500it [1:12:24,  2.17it/s]"
     ]
    },
    {
     "name": "stdout",
     "output_type": "stream",
     "text": [
      "Training Loss per 500 steps: 0.20998020375577123\n",
      "Training Accuracy per 500 steps: 91.37196084622671\n"
     ]
    },
    {
     "name": "stderr",
     "output_type": "stream",
     "text": [
      "10000it [1:16:13,  2.15it/s]"
     ]
    },
    {
     "name": "stdout",
     "output_type": "stream",
     "text": [
      "Training Loss per 500 steps: 0.2098003729179066\n",
      "Training Accuracy per 500 steps: 91.38211178882112\n"
     ]
    },
    {
     "name": "stderr",
     "output_type": "stream",
     "text": [
      "10500it [1:20:02,  2.20it/s]"
     ]
    },
    {
     "name": "stdout",
     "output_type": "stream",
     "text": [
      "Training Loss per 500 steps: 0.21005395278037287\n",
      "Training Accuracy per 500 steps: 91.36034663365393\n"
     ]
    },
    {
     "name": "stderr",
     "output_type": "stream",
     "text": [
      "11000it [1:23:52,  2.19it/s]"
     ]
    },
    {
     "name": "stdout",
     "output_type": "stream",
     "text": [
      "Training Loss per 500 steps: 0.2101711785868214\n",
      "Training Accuracy per 500 steps: 91.34965003181529\n"
     ]
    },
    {
     "name": "stderr",
     "output_type": "stream",
     "text": [
      "11500it [1:27:41,  2.20it/s]"
     ]
    },
    {
     "name": "stdout",
     "output_type": "stream",
     "text": [
      "Training Loss per 500 steps: 0.209724743501263\n",
      "Training Accuracy per 500 steps: 91.37140248674028\n"
     ]
    },
    {
     "name": "stderr",
     "output_type": "stream",
     "text": [
      "12000it [1:31:31,  2.20it/s]"
     ]
    },
    {
     "name": "stdout",
     "output_type": "stream",
     "text": [
      "Training Loss per 500 steps: 0.2097267963540714\n",
      "Training Accuracy per 500 steps: 91.37363553037247\n"
     ]
    },
    {
     "name": "stderr",
     "output_type": "stream",
     "text": [
      "12500it [1:35:21,  2.20it/s]"
     ]
    },
    {
     "name": "stdout",
     "output_type": "stream",
     "text": [
      "Training Loss per 500 steps: 0.209525374819822\n",
      "Training Accuracy per 500 steps: 91.38368930485561\n"
     ]
    },
    {
     "name": "stderr",
     "output_type": "stream",
     "text": [
      "13000it [1:39:10,  2.19it/s]"
     ]
    },
    {
     "name": "stdout",
     "output_type": "stream",
     "text": [
      "Training Loss per 500 steps: 0.20957929986224444\n",
      "Training Accuracy per 500 steps: 91.37566341050689\n"
     ]
    },
    {
     "name": "stderr",
     "output_type": "stream",
     "text": [
      "13500it [1:42:59,  2.19it/s]"
     ]
    },
    {
     "name": "stdout",
     "output_type": "stream",
     "text": [
      "Training Loss per 500 steps: 0.20948862192387765\n",
      "Training Accuracy per 500 steps: 91.38304570031849\n"
     ]
    },
    {
     "name": "stderr",
     "output_type": "stream",
     "text": [
      "14000it [1:46:49,  2.18it/s]"
     ]
    },
    {
     "name": "stdout",
     "output_type": "stream",
     "text": [
      "Training Loss per 500 steps: 0.20944497288565442\n",
      "Training Accuracy per 500 steps: 91.37472323405471\n"
     ]
    },
    {
     "name": "stderr",
     "output_type": "stream",
     "text": [
      "14500it [1:50:38,  2.19it/s]"
     ]
    },
    {
     "name": "stdout",
     "output_type": "stream",
     "text": [
      "Training Loss per 500 steps: 0.20965499010553332\n",
      "Training Accuracy per 500 steps: 91.36783670091718\n"
     ]
    },
    {
     "name": "stderr",
     "output_type": "stream",
     "text": [
      "15000it [1:54:28,  2.19it/s]"
     ]
    },
    {
     "name": "stdout",
     "output_type": "stream",
     "text": [
      "Training Loss per 500 steps: 0.2098587673063916\n",
      "Training Accuracy per 500 steps: 91.35724285047664\n"
     ]
    },
    {
     "name": "stderr",
     "output_type": "stream",
     "text": [
      "15500it [1:58:17,  2.20it/s]"
     ]
    },
    {
     "name": "stdout",
     "output_type": "stream",
     "text": [
      "Training Loss per 500 steps: 0.209897418333285\n",
      "Training Accuracy per 500 steps: 91.34975162892717\n"
     ]
    },
    {
     "name": "stderr",
     "output_type": "stream",
     "text": [
      "16000it [2:02:06,  2.08it/s]"
     ]
    },
    {
     "name": "stdout",
     "output_type": "stream",
     "text": [
      "Training Loss per 500 steps: 0.20990831298658033\n",
      "Training Accuracy per 500 steps: 91.34350978063871\n"
     ]
    },
    {
     "name": "stderr",
     "output_type": "stream",
     "text": [
      "16500it [2:05:56,  2.18it/s]"
     ]
    },
    {
     "name": "stdout",
     "output_type": "stream",
     "text": [
      "Training Loss per 500 steps: 0.20944280907769064\n",
      "Training Accuracy per 500 steps: 91.3785528149809\n"
     ]
    },
    {
     "name": "stderr",
     "output_type": "stream",
     "text": [
      "17000it [2:09:45,  2.20it/s]"
     ]
    },
    {
     "name": "stdout",
     "output_type": "stream",
     "text": [
      "Training Loss per 500 steps: 0.20952115929583848\n",
      "Training Accuracy per 500 steps: 91.3637433092171\n"
     ]
    },
    {
     "name": "stderr",
     "output_type": "stream",
     "text": [
      "17500it [2:13:34,  2.21it/s]"
     ]
    },
    {
     "name": "stdout",
     "output_type": "stream",
     "text": [
      "Training Loss per 500 steps: 0.20976182615091069\n",
      "Training Accuracy per 500 steps: 91.34120907376722\n"
     ]
    },
    {
     "name": "stderr",
     "output_type": "stream",
     "text": [
      "18000it [2:17:23,  2.20it/s]"
     ]
    },
    {
     "name": "stdout",
     "output_type": "stream",
     "text": [
      "Training Loss per 500 steps: 0.20970479193322802\n",
      "Training Accuracy per 500 steps: 91.34631409366146\n"
     ]
    },
    {
     "name": "stderr",
     "output_type": "stream",
     "text": [
      "18500it [2:21:12,  2.19it/s]"
     ]
    },
    {
     "name": "stdout",
     "output_type": "stream",
     "text": [
      "Training Loss per 500 steps: 0.20987331009117038\n",
      "Training Accuracy per 500 steps: 91.33154964596508\n"
     ]
    },
    {
     "name": "stderr",
     "output_type": "stream",
     "text": [
      "19000it [2:25:01,  2.18it/s]"
     ]
    },
    {
     "name": "stdout",
     "output_type": "stream",
     "text": [
      "Training Loss per 500 steps: 0.21002231665819876\n",
      "Training Accuracy per 500 steps: 91.32085153412979\n"
     ]
    },
    {
     "name": "stderr",
     "output_type": "stream",
     "text": [
      "19500it [2:28:50,  2.20it/s]"
     ]
    },
    {
     "name": "stdout",
     "output_type": "stream",
     "text": [
      "Training Loss per 500 steps: 0.20989025598308972\n",
      "Training Accuracy per 500 steps: 91.31582995743808\n"
     ]
    },
    {
     "name": "stderr",
     "output_type": "stream",
     "text": [
      "20000it [2:32:39,  2.15it/s]"
     ]
    },
    {
     "name": "stdout",
     "output_type": "stream",
     "text": [
      "Training Loss per 500 steps: 0.21003102635870913\n",
      "Training Accuracy per 500 steps: 91.31668416579171\n"
     ]
    },
    {
     "name": "stderr",
     "output_type": "stream",
     "text": [
      "20500it [2:36:28,  2.21it/s]"
     ]
    },
    {
     "name": "stdout",
     "output_type": "stream",
     "text": [
      "Training Loss per 500 steps: 0.21013037108117782\n",
      "Training Accuracy per 500 steps: 91.3181064338325\n"
     ]
    },
    {
     "name": "stderr",
     "output_type": "stream",
     "text": [
      "21000it [2:40:17,  2.19it/s]"
     ]
    },
    {
     "name": "stdout",
     "output_type": "stream",
     "text": [
      "Training Loss per 500 steps: 0.21012060915856354\n",
      "Training Accuracy per 500 steps: 91.31231846102567\n"
     ]
    },
    {
     "name": "stderr",
     "output_type": "stream",
     "text": [
      "21500it [2:44:06,  2.20it/s]"
     ]
    },
    {
     "name": "stdout",
     "output_type": "stream",
     "text": [
      "Training Loss per 500 steps: 0.2101696596848431\n",
      "Training Accuracy per 500 steps: 91.3108692618948\n"
     ]
    },
    {
     "name": "stderr",
     "output_type": "stream",
     "text": [
      "22000it [2:47:56,  2.18it/s]"
     ]
    },
    {
     "name": "stdout",
     "output_type": "stream",
     "text": [
      "Training Loss per 500 steps: 0.21021251747313752\n",
      "Training Accuracy per 500 steps: 91.30494068451434\n"
     ]
    },
    {
     "name": "stderr",
     "output_type": "stream",
     "text": [
      "22500it [2:51:45,  2.21it/s]"
     ]
    },
    {
     "name": "stdout",
     "output_type": "stream",
     "text": [
      "Training Loss per 500 steps: 0.2103165521800552\n",
      "Training Accuracy per 500 steps: 91.29483134082929\n"
     ]
    },
    {
     "name": "stderr",
     "output_type": "stream",
     "text": [
      "23000it [2:55:34,  2.19it/s]"
     ]
    },
    {
     "name": "stdout",
     "output_type": "stream",
     "text": [
      "Training Loss per 500 steps: 0.21006388042413932\n",
      "Training Accuracy per 500 steps: 91.30146515368897\n"
     ]
    },
    {
     "name": "stderr",
     "output_type": "stream",
     "text": [
      "23500it [2:59:23,  2.14it/s]"
     ]
    },
    {
     "name": "stdout",
     "output_type": "stream",
     "text": [
      "Training Loss per 500 steps: 0.21015018185201306\n",
      "Training Accuracy per 500 steps: 91.29771073571338\n"
     ]
    },
    {
     "name": "stderr",
     "output_type": "stream",
     "text": [
      "24000it [3:03:13,  2.20it/s]"
     ]
    },
    {
     "name": "stdout",
     "output_type": "stream",
     "text": [
      "Training Loss per 500 steps: 0.21002036252022765\n",
      "Training Accuracy per 500 steps: 91.30348735469356\n"
     ]
    },
    {
     "name": "stderr",
     "output_type": "stream",
     "text": [
      "24500it [3:07:02,  2.19it/s]"
     ]
    },
    {
     "name": "stdout",
     "output_type": "stream",
     "text": [
      "Training Loss per 500 steps: 0.2101973878707434\n",
      "Training Accuracy per 500 steps: 91.29270233868006\n"
     ]
    },
    {
     "name": "stderr",
     "output_type": "stream",
     "text": [
      "25000it [3:10:51,  2.19it/s]"
     ]
    },
    {
     "name": "stdout",
     "output_type": "stream",
     "text": [
      "Training Loss per 500 steps: 0.20994437440648275\n",
      "Training Accuracy per 500 steps: 91.29434822607095\n"
     ]
    },
    {
     "name": "stderr",
     "output_type": "stream",
     "text": [
      "25500it [3:14:41,  2.14it/s]"
     ]
    },
    {
     "name": "stdout",
     "output_type": "stream",
     "text": [
      "Training Loss per 500 steps: 0.20990679048905939\n",
      "Training Accuracy per 500 steps: 91.29494921767774\n"
     ]
    },
    {
     "name": "stderr",
     "output_type": "stream",
     "text": [
      "26000it [3:18:30,  2.20it/s]"
     ]
    },
    {
     "name": "stdout",
     "output_type": "stream",
     "text": [
      "Training Loss per 500 steps: 0.2102799113601153\n",
      "Training Accuracy per 500 steps: 91.27533556401677\n"
     ]
    },
    {
     "name": "stderr",
     "output_type": "stream",
     "text": [
      "26500it [3:22:19,  2.21it/s]"
     ]
    },
    {
     "name": "stdout",
     "output_type": "stream",
     "text": [
      "Training Loss per 500 steps: 0.2100142878275691\n",
      "Training Accuracy per 500 steps: 91.2937247651032\n"
     ]
    },
    {
     "name": "stderr",
     "output_type": "stream",
     "text": [
      "27000it [3:26:08,  2.21it/s]"
     ]
    },
    {
     "name": "stdout",
     "output_type": "stream",
     "text": [
      "Training Loss per 500 steps: 0.2101141394124558\n",
      "Training Accuracy per 500 steps: 91.29198918558572\n"
     ]
    },
    {
     "name": "stderr",
     "output_type": "stream",
     "text": [
      "27500it [3:29:58,  2.20it/s]"
     ]
    },
    {
     "name": "stdout",
     "output_type": "stream",
     "text": [
      "Training Loss per 500 steps: 0.21029878793458123\n",
      "Training Accuracy per 500 steps: 91.2730446165594\n"
     ]
    },
    {
     "name": "stderr",
     "output_type": "stream",
     "text": [
      "28000it [3:33:47,  2.12it/s]"
     ]
    },
    {
     "name": "stdout",
     "output_type": "stream",
     "text": [
      "Training Loss per 500 steps: 0.21017119547650503\n",
      "Training Accuracy per 500 steps: 91.27531159601443\n"
     ]
    },
    {
     "name": "stderr",
     "output_type": "stream",
     "text": [
      "28500it [3:37:37,  2.16it/s]"
     ]
    },
    {
     "name": "stdout",
     "output_type": "stream",
     "text": [
      "Training Loss per 500 steps: 0.20993812025643696\n",
      "Training Accuracy per 500 steps: 91.28276200835059\n"
     ]
    },
    {
     "name": "stderr",
     "output_type": "stream",
     "text": [
      "29000it [3:41:27,  2.14it/s]"
     ]
    },
    {
     "name": "stdout",
     "output_type": "stream",
     "text": [
      "Training Loss per 500 steps: 0.20975454311434527\n",
      "Training Accuracy per 500 steps: 91.2959897934554\n"
     ]
    },
    {
     "name": "stderr",
     "output_type": "stream",
     "text": [
      "29500it [3:45:18,  2.20it/s]"
     ]
    },
    {
     "name": "stdout",
     "output_type": "stream",
     "text": [
      "Training Loss per 500 steps: 0.20959930848363545\n",
      "Training Accuracy per 500 steps: 91.30029490525745\n"
     ]
    },
    {
     "name": "stderr",
     "output_type": "stream",
     "text": [
      "30000it [3:49:08,  2.19it/s]"
     ]
    },
    {
     "name": "stdout",
     "output_type": "stream",
     "text": [
      "Training Loss per 500 steps: 0.20974930272889164\n",
      "Training Accuracy per 500 steps: 91.29404019866004\n"
     ]
    },
    {
     "name": "stderr",
     "output_type": "stream",
     "text": [
      "30500it [3:52:58,  2.19it/s]"
     ]
    },
    {
     "name": "stdout",
     "output_type": "stream",
     "text": [
      "Training Loss per 500 steps: 0.20983591964084375\n",
      "Training Accuracy per 500 steps: 91.29167896134553\n"
     ]
    },
    {
     "name": "stderr",
     "output_type": "stream",
     "text": [
      "31000it [3:56:48,  2.19it/s]"
     ]
    },
    {
     "name": "stdout",
     "output_type": "stream",
     "text": [
      "Training Loss per 500 steps: 0.20974113610266068\n",
      "Training Accuracy per 500 steps: 91.29302280571595\n"
     ]
    },
    {
     "name": "stderr",
     "output_type": "stream",
     "text": [
      "31500it [4:00:39,  2.10it/s]"
     ]
    },
    {
     "name": "stdout",
     "output_type": "stream",
     "text": [
      "Training Loss per 500 steps: 0.2098412559222832\n",
      "Training Accuracy per 500 steps: 91.29392717691502\n"
     ]
    },
    {
     "name": "stderr",
     "output_type": "stream",
     "text": [
      "32000it [4:04:30,  2.15it/s]"
     ]
    },
    {
     "name": "stdout",
     "output_type": "stream",
     "text": [
      "Training Loss per 500 steps: 0.20989459731600288\n",
      "Training Accuracy per 500 steps: 91.29128777225712\n"
     ]
    },
    {
     "name": "stderr",
     "output_type": "stream",
     "text": [
      "32500it [4:08:20,  2.20it/s]"
     ]
    },
    {
     "name": "stdout",
     "output_type": "stream",
     "text": [
      "Training Loss per 500 steps: 0.20988799114738502\n",
      "Training Accuracy per 500 steps: 91.2864219562475\n"
     ]
    },
    {
     "name": "stderr",
     "output_type": "stream",
     "text": [
      "33000it [4:12:10,  2.19it/s]"
     ]
    },
    {
     "name": "stdout",
     "output_type": "stream",
     "text": [
      "Training Loss per 500 steps: 0.20981951119604497\n",
      "Training Accuracy per 500 steps: 91.29193054755916\n"
     ]
    },
    {
     "name": "stderr",
     "output_type": "stream",
     "text": [
      "33500it [4:16:01,  2.19it/s]"
     ]
    },
    {
     "name": "stdout",
     "output_type": "stream",
     "text": [
      "Training Loss per 500 steps: 0.20984882773914285\n",
      "Training Accuracy per 500 steps: 91.29242410674308\n"
     ]
    },
    {
     "name": "stderr",
     "output_type": "stream",
     "text": [
      "34000it [4:19:51,  2.19it/s]"
     ]
    },
    {
     "name": "stdout",
     "output_type": "stream",
     "text": [
      "Training Loss per 500 steps: 0.20977131838001759\n",
      "Training Accuracy per 500 steps: 91.29731478485927\n"
     ]
    },
    {
     "name": "stderr",
     "output_type": "stream",
     "text": [
      "34500it [4:23:41,  2.13it/s]"
     ]
    },
    {
     "name": "stdout",
     "output_type": "stream",
     "text": [
      "Training Loss per 500 steps: 0.2096695534582203\n",
      "Training Accuracy per 500 steps: 91.30278832497609\n"
     ]
    },
    {
     "name": "stderr",
     "output_type": "stream",
     "text": [
      "35000it [4:27:31,  2.18it/s]"
     ]
    },
    {
     "name": "stdout",
     "output_type": "stream",
     "text": [
      "Training Loss per 500 steps: 0.20973490815087512\n",
      "Training Accuracy per 500 steps: 91.30274849290021\n"
     ]
    },
    {
     "name": "stderr",
     "output_type": "stream",
     "text": [
      "35376it [4:30:24,  2.18it/s]"
     ]
    },
    {
     "name": "stdout",
     "output_type": "stream",
     "text": [
      "The Total Accuracy for Epoch 0: 91.30044557831542\n",
      "Training Loss Epoch: 0.20980390078058372\n",
      "Training Accuracy Epoch: 91.30044557831542\n"
     ]
    },
    {
     "name": "stderr",
     "output_type": "stream",
     "text": [
      "\n"
     ]
    }
   ],
   "source": [
    "EPOCHS = 1\n",
    "for epoch in range(EPOCHS):\n",
    "    train(epoch, training_loader)"
   ]
  },
  {
   "cell_type": "code",
   "execution_count": 23,
   "id": "2b739ab0",
   "metadata": {
    "execution": {
     "iopub.execute_input": "2021-11-29T17:39:17.863838Z",
     "iopub.status.busy": "2021-11-29T17:39:17.862125Z",
     "iopub.status.idle": "2021-11-29T17:39:17.866488Z",
     "shell.execute_reply": "2021-11-29T17:39:17.866010Z",
     "shell.execute_reply.started": "2021-11-29T13:03:09.843695Z"
    },
    "id": "bFiNcy16JLwt",
    "papermill": {
     "duration": 9.524896,
     "end_time": "2021-11-29T17:39:17.866619",
     "exception": false,
     "start_time": "2021-11-29T17:39:08.341723",
     "status": "completed"
    },
    "tags": []
   },
   "outputs": [],
   "source": [
    "def valid(model, testing_loader):\n",
    "    model.eval()\n",
    "    n_correct = 0; n_wrong = 0; total = 0; tr_loss=0; nb_tr_steps=0; nb_tr_examples=0\n",
    "    with torch.no_grad():\n",
    "        for _, data in tqdm(enumerate(testing_loader, 0)):\n",
    "            ids = data['ids'].to(device, dtype = torch.long)\n",
    "            mask = data['mask'].to(device, dtype = torch.long)\n",
    "            token_type_ids = data['token_type_ids'].to(device, dtype=torch.long)\n",
    "            targets = data['targets'].to(device, dtype = torch.long)\n",
    "            outputs = model(ids, mask, token_type_ids)\n",
    "            loss = loss_function(outputs, targets)\n",
    "            tr_loss += loss.item()\n",
    "            big_val, big_idx = torch.max(outputs.data, dim=1)\n",
    "            n_correct += calcuate_accuracy(big_idx, targets)\n",
    "\n",
    "            nb_tr_steps += 1\n",
    "            nb_tr_examples+=targets.size(0)\n",
    "            \n",
    "            if _%5000==0:\n",
    "                loss_step = tr_loss/nb_tr_steps\n",
    "                accu_step = (n_correct*100)/nb_tr_examples\n",
    "                print(f\"Validation Loss per 100 steps: {loss_step}\")\n",
    "                print(f\"Validation Accuracy per 100 steps: {accu_step}\")\n",
    "    epoch_loss = tr_loss/nb_tr_steps\n",
    "    epoch_accu = (n_correct*100)/nb_tr_examples\n",
    "    print(f\"Validation Loss Epoch: {epoch_loss}\")\n",
    "    print(f\"Validation Accuracy Epoch: {epoch_accu}\")\n",
    "    \n",
    "    return epoch_accu\n"
   ]
  },
  {
   "cell_type": "code",
   "execution_count": 24,
   "id": "8b55ce4d",
   "metadata": {
    "execution": {
     "iopub.execute_input": "2021-11-29T17:39:37.538278Z",
     "iopub.status.busy": "2021-11-29T17:39:37.537384Z",
     "iopub.status.idle": "2021-11-29T18:07:11.922986Z",
     "shell.execute_reply": "2021-11-29T18:07:11.843456Z",
     "shell.execute_reply.started": "2021-10-26T16:57:20.404572Z"
    },
    "id": "UcUylInzKdV-",
    "outputId": "ebb887fc-04a6-4a44-cb50-9fb8b17853ea",
    "papermill": {
     "duration": 1664.479494,
     "end_time": "2021-11-29T18:07:11.923183",
     "exception": false,
     "start_time": "2021-11-29T17:39:27.443689",
     "status": "completed"
    },
    "tags": []
   },
   "outputs": [
    {
     "name": "stderr",
     "output_type": "stream",
     "text": [
      "2it [00:00, 11.32it/s]"
     ]
    },
    {
     "name": "stdout",
     "output_type": "stream",
     "text": [
      "Validation Loss per 100 steps: 0.03703940659761429\n",
      "Validation Accuracy per 100 steps: 100.0\n"
     ]
    },
    {
     "name": "stderr",
     "output_type": "stream",
     "text": [
      "5002it [06:48, 12.09it/s]"
     ]
    },
    {
     "name": "stdout",
     "output_type": "stream",
     "text": [
      "Validation Loss per 100 steps: 0.2432929694773432\n",
      "Validation Accuracy per 100 steps: 89.65706858628275\n"
     ]
    },
    {
     "name": "stderr",
     "output_type": "stream",
     "text": [
      "10002it [13:37, 11.80it/s]"
     ]
    },
    {
     "name": "stdout",
     "output_type": "stream",
     "text": [
      "Validation Loss per 100 steps: 0.24237487163936092\n",
      "Validation Accuracy per 100 steps: 89.66353364663533\n"
     ]
    },
    {
     "name": "stderr",
     "output_type": "stream",
     "text": [
      "15003it [20:25, 11.88it/s]"
     ]
    },
    {
     "name": "stdout",
     "output_type": "stream",
     "text": [
      "Validation Loss per 100 steps: 0.241392637118825\n",
      "Validation Accuracy per 100 steps: 89.75901606559563\n"
     ]
    },
    {
     "name": "stderr",
     "output_type": "stream",
     "text": [
      "20003it [27:14, 12.31it/s]"
     ]
    },
    {
     "name": "stdout",
     "output_type": "stream",
     "text": [
      "Validation Loss per 100 steps: 0.23962147290163993\n",
      "Validation Accuracy per 100 steps: 89.82300884955752\n"
     ]
    },
    {
     "name": "stderr",
     "output_type": "stream",
     "text": [
      "20215it [27:31, 12.24it/s]"
     ]
    },
    {
     "name": "stdout",
     "output_type": "stream",
     "text": [
      "Validation Loss Epoch: 0.23983465061651796\n",
      "Validation Accuracy Epoch: 89.80929530782359\n",
      "Accuracy on test data = 89.81%\n"
     ]
    },
    {
     "name": "stderr",
     "output_type": "stream",
     "text": [
      "\n"
     ]
    }
   ],
   "source": [
    "acc = valid(model, testing_loader)\n",
    "print(\"Accuracy on test data = %0.2f%%\" % acc)"
   ]
  },
  {
   "cell_type": "code",
   "execution_count": 25,
   "id": "3b335172",
   "metadata": {
    "execution": {
     "iopub.execute_input": "2021-11-29T18:07:37.204948Z",
     "iopub.status.busy": "2021-11-29T18:07:37.203828Z",
     "iopub.status.idle": "2021-11-29T18:07:37.207710Z",
     "shell.execute_reply": "2021-11-29T18:07:37.208112Z",
     "shell.execute_reply.started": "2021-10-26T16:57:29.802858Z"
    },
    "papermill": {
     "duration": 12.750848,
     "end_time": "2021-11-29T18:07:37.208268",
     "exception": false,
     "start_time": "2021-11-29T18:07:24.457420",
     "status": "completed"
    },
    "tags": []
   },
   "outputs": [],
   "source": [
    "class CitationData(Dataset):\n",
    "    def __init__(self, dataframe, tokenizer, max_len):\n",
    "        self.tokenizer = tokenizer\n",
    "        self.data = dataframe\n",
    "        self.text = dataframe.merged\n",
    "        self.targets = self.data.is_duplicate\n",
    "        self.max_len = max_len\n",
    "\n",
    "    def __len__(self):\n",
    "        return len(self.text)\n",
    "\n",
    "    def __getitem__(self, index):\n",
    "        text = str(self.text[index])\n",
    "        text = \" \".join(text.split())\n",
    "\n",
    "        inputs = self.tokenizer.encode_plus(\n",
    "            text,\n",
    "            None,\n",
    "            add_special_tokens=True,\n",
    "            max_length=self.max_len,\n",
    "            pad_to_max_length=True,\n",
    "            return_token_type_ids=True\n",
    "        )\n",
    "        ids = inputs['input_ids']\n",
    "        mask = inputs['attention_mask']\n",
    "        token_type_ids = inputs[\"token_type_ids\"]\n",
    "\n",
    "\n",
    "        return {\n",
    "            'ids': torch.tensor(ids, dtype=torch.long),\n",
    "            'mask': torch.tensor(mask, dtype=torch.long),\n",
    "            'token_type_ids': torch.tensor(token_type_ids, dtype=torch.long),\n",
    "            'targets': torch.tensor(self.targets[index], dtype=torch.float)\n",
    "        }"
   ]
  },
  {
   "cell_type": "code",
   "execution_count": 26,
   "id": "9dd19d6f",
   "metadata": {
    "execution": {
     "iopub.execute_input": "2021-11-29T18:08:02.289324Z",
     "iopub.status.busy": "2021-11-29T18:08:02.288613Z",
     "iopub.status.idle": "2021-11-29T18:08:02.617850Z",
     "shell.execute_reply": "2021-11-29T18:08:02.618298Z",
     "shell.execute_reply.started": "2021-10-26T16:57:29.814364Z"
    },
    "papermill": {
     "duration": 12.971659,
     "end_time": "2021-11-29T18:08:02.618484",
     "exception": false,
     "start_time": "2021-11-29T18:07:49.646825",
     "status": "completed"
    },
    "tags": []
   },
   "outputs": [],
   "source": [
    "test_data_f = pd.read_csv('../input/smai-project-data/test_data.csv')\n",
    "test_data_f['merged'] = test_data_f['question1'] + \" \" + test_data_f['question2']"
   ]
  },
  {
   "cell_type": "code",
   "execution_count": 27,
   "id": "15444d1e",
   "metadata": {
    "execution": {
     "iopub.execute_input": "2021-11-29T18:08:27.221435Z",
     "iopub.status.busy": "2021-11-29T18:08:27.220729Z",
     "iopub.status.idle": "2021-11-29T18:08:27.225035Z",
     "shell.execute_reply": "2021-11-29T18:08:27.225479Z",
     "shell.execute_reply.started": "2021-10-26T16:57:29.852766Z"
    },
    "papermill": {
     "duration": 12.291949,
     "end_time": "2021-11-29T18:08:27.225622",
     "exception": false,
     "start_time": "2021-11-29T18:08:14.933673",
     "status": "completed"
    },
    "tags": []
   },
   "outputs": [
    {
     "data": {
      "text/html": [
       "<div>\n",
       "<style scoped>\n",
       "    .dataframe tbody tr th:only-of-type {\n",
       "        vertical-align: middle;\n",
       "    }\n",
       "\n",
       "    .dataframe tbody tr th {\n",
       "        vertical-align: top;\n",
       "    }\n",
       "\n",
       "    .dataframe thead th {\n",
       "        text-align: right;\n",
       "    }\n",
       "</style>\n",
       "<table border=\"1\" class=\"dataframe\">\n",
       "  <thead>\n",
       "    <tr style=\"text-align: right;\">\n",
       "      <th></th>\n",
       "      <th>id</th>\n",
       "      <th>qid1</th>\n",
       "      <th>qid2</th>\n",
       "      <th>question1</th>\n",
       "      <th>question2</th>\n",
       "      <th>is_duplicate</th>\n",
       "      <th>question1_preprocessed</th>\n",
       "      <th>question2_preprocessed</th>\n",
       "      <th>merged</th>\n",
       "    </tr>\n",
       "  </thead>\n",
       "  <tbody>\n",
       "    <tr>\n",
       "      <th>0</th>\n",
       "      <td>204673</td>\n",
       "      <td>93885</td>\n",
       "      <td>307635</td>\n",
       "      <td>If there is a God, where is He!</td>\n",
       "      <td>Why is god a \"He\"?</td>\n",
       "      <td>0</td>\n",
       "      <td>if there is a god , where is he !</td>\n",
       "      <td>why is god a `` he '' ?</td>\n",
       "      <td>If there is a God, where is He! Why is god a \"...</td>\n",
       "    </tr>\n",
       "    <tr>\n",
       "      <th>1</th>\n",
       "      <td>17716</td>\n",
       "      <td>2093</td>\n",
       "      <td>15628</td>\n",
       "      <td>Do you believe that everything happens for a r...</td>\n",
       "      <td>Does everything happen for a reason?</td>\n",
       "      <td>1</td>\n",
       "      <td>do you believe that everything happens for a r...</td>\n",
       "      <td>does everything happen for a reason ?</td>\n",
       "      <td>Do you believe that everything happens for a r...</td>\n",
       "    </tr>\n",
       "  </tbody>\n",
       "</table>\n",
       "</div>"
      ],
      "text/plain": [
       "       id   qid1    qid2                                          question1  \\\n",
       "0  204673  93885  307635                    If there is a God, where is He!   \n",
       "1   17716   2093   15628  Do you believe that everything happens for a r...   \n",
       "\n",
       "                              question2  is_duplicate  \\\n",
       "0                    Why is god a \"He\"?             0   \n",
       "1  Does everything happen for a reason?             1   \n",
       "\n",
       "                              question1_preprocessed  \\\n",
       "0                  if there is a god , where is he !   \n",
       "1  do you believe that everything happens for a r...   \n",
       "\n",
       "                  question2_preprocessed  \\\n",
       "0                why is god a `` he '' ?   \n",
       "1  does everything happen for a reason ?   \n",
       "\n",
       "                                              merged  \n",
       "0  If there is a God, where is He! Why is god a \"...  \n",
       "1  Do you believe that everything happens for a r...  "
      ]
     },
     "execution_count": 27,
     "metadata": {},
     "output_type": "execute_result"
    }
   ],
   "source": [
    "test_data_f.head(2)"
   ]
  },
  {
   "cell_type": "code",
   "execution_count": 28,
   "id": "299c73ca",
   "metadata": {
    "execution": {
     "iopub.execute_input": "2021-11-29T18:08:52.614683Z",
     "iopub.status.busy": "2021-11-29T18:08:52.613748Z",
     "iopub.status.idle": "2021-11-29T18:08:52.624309Z",
     "shell.execute_reply": "2021-11-29T18:08:52.624711Z",
     "shell.execute_reply.started": "2021-10-26T16:57:29.870602Z"
    },
    "papermill": {
     "duration": 12.477639,
     "end_time": "2021-11-29T18:08:52.624867",
     "exception": false,
     "start_time": "2021-11-29T18:08:40.147228",
     "status": "completed"
    },
    "tags": []
   },
   "outputs": [],
   "source": [
    "data_to_test = CitationData(test_data_f[['merged', 'is_duplicate']], tokenizer, MAX_LEN)\n",
    "\n",
    "test_params = {'batch_size': 8,\n",
    "                'shuffle': False,\n",
    "                'num_workers': 0\n",
    "                }\n",
    "\n",
    "testing_loader_f = DataLoader(data_to_test, **test_params)"
   ]
  },
  {
   "cell_type": "code",
   "execution_count": 29,
   "id": "52630e21",
   "metadata": {
    "execution": {
     "iopub.execute_input": "2021-11-29T18:09:17.827308Z",
     "iopub.status.busy": "2021-11-29T18:09:17.826371Z",
     "iopub.status.idle": "2021-11-29T18:09:17.827976Z",
     "shell.execute_reply": "2021-11-29T18:09:17.828524Z",
     "shell.execute_reply.started": "2021-10-26T16:57:29.880063Z"
    },
    "papermill": {
     "duration": 12.486752,
     "end_time": "2021-11-29T18:09:17.828666",
     "exception": false,
     "start_time": "2021-11-29T18:09:05.341914",
     "status": "completed"
    },
    "tags": []
   },
   "outputs": [],
   "source": [
    "def test(model, testing_loader):\n",
    "    res = []\n",
    "    model.eval()\n",
    "    n_correct = 0; n_wrong = 0; total = 0; tr_loss=0; nb_tr_steps=0; nb_tr_examples=0\n",
    "    with torch.no_grad():\n",
    "        for _, data in tqdm(enumerate(testing_loader, 0)):\n",
    "            ids = data['ids'].to(device, dtype = torch.long)\n",
    "            mask = data['mask'].to(device, dtype = torch.long)\n",
    "            token_type_ids = data['token_type_ids'].to(device, dtype=torch.long)\n",
    "#             targets = data['targets'].to(device, dtype = torch.long)\n",
    "            outputs = model(ids, mask, token_type_ids)\n",
    "            big_val, big_idx = torch.max(outputs, dim=1)\n",
    "            res.extend(big_idx.tolist())\n",
    "    \n",
    "    return res"
   ]
  },
  {
   "cell_type": "code",
   "execution_count": 30,
   "id": "d598e739",
   "metadata": {
    "execution": {
     "iopub.execute_input": "2021-11-29T18:09:42.796884Z",
     "iopub.status.busy": "2021-11-29T18:09:42.795946Z",
     "iopub.status.idle": "2021-11-29T18:23:05.256539Z",
     "shell.execute_reply": "2021-11-29T18:23:05.256955Z",
     "shell.execute_reply.started": "2021-10-26T16:57:29.889681Z"
    },
    "papermill": {
     "duration": 815.294128,
     "end_time": "2021-11-29T18:23:05.257151",
     "exception": false,
     "start_time": "2021-11-29T18:09:29.963023",
     "status": "completed"
    },
    "tags": []
   },
   "outputs": [
    {
     "name": "stderr",
     "output_type": "stream",
     "text": [
      "0it [00:00, ?it/s]/opt/conda/lib/python3.7/site-packages/transformers/tokenization_utils_base.py:2079: FutureWarning: The `pad_to_max_length` argument is deprecated and will be removed in a future version, use `padding=True` or `padding='longest'` to pad to the longest sequence in the batch, or use `padding='max_length'` to pad to a max length. In this case, you can give a specific length with `max_length` (e.g. `max_length=45`) or leave max_length to None to pad to the maximal input size of the model (e.g. 512 for Bert).\n",
      "  FutureWarning,\n",
      "5054it [13:22,  6.30it/s]\n"
     ]
    }
   ],
   "source": [
    "res = test(model, testing_loader_f)"
   ]
  },
  {
   "cell_type": "code",
   "execution_count": 31,
   "id": "9035c4c5",
   "metadata": {
    "execution": {
     "iopub.execute_input": "2021-11-29T18:23:33.356937Z",
     "iopub.status.busy": "2021-11-29T18:23:33.356026Z",
     "iopub.status.idle": "2021-11-29T18:36:57.216969Z",
     "shell.execute_reply": "2021-11-29T18:36:57.216417Z"
    },
    "papermill": {
     "duration": 817.573957,
     "end_time": "2021-11-29T18:36:57.217124",
     "exception": false,
     "start_time": "2021-11-29T18:23:19.643167",
     "status": "completed"
    },
    "tags": []
   },
   "outputs": [
    {
     "name": "stderr",
     "output_type": "stream",
     "text": [
      "2it [00:00,  5.91it/s]"
     ]
    },
    {
     "name": "stdout",
     "output_type": "stream",
     "text": [
      "Validation Loss per 100 steps: 0.055543020367622375\n",
      "Validation Accuracy per 100 steps: 100.0\n"
     ]
    },
    {
     "name": "stderr",
     "output_type": "stream",
     "text": [
      "5002it [13:15,  6.33it/s]"
     ]
    },
    {
     "name": "stdout",
     "output_type": "stream",
     "text": [
      "Validation Loss per 100 steps: 0.2407352560750285\n",
      "Validation Accuracy per 100 steps: 89.67956408718257\n"
     ]
    },
    {
     "name": "stderr",
     "output_type": "stream",
     "text": [
      "5054it [13:23,  6.29it/s]"
     ]
    },
    {
     "name": "stdout",
     "output_type": "stream",
     "text": [
      "Validation Loss Epoch: 0.24062864086756555\n",
      "Validation Accuracy Epoch: 89.68562170719038\n",
      "Accuracy on test data = 89.69%\n"
     ]
    },
    {
     "name": "stderr",
     "output_type": "stream",
     "text": [
      "\n"
     ]
    }
   ],
   "source": [
    "acc = valid(model, testing_loader_f)\n",
    "print(\"Accuracy on test data = %0.2f%%\" % acc)"
   ]
  },
  {
   "cell_type": "code",
   "execution_count": 32,
   "id": "c92ab1ce",
   "metadata": {
    "execution": {
     "iopub.execute_input": "2021-11-29T18:37:27.780024Z",
     "iopub.status.busy": "2021-11-29T18:37:27.779128Z",
     "iopub.status.idle": "2021-11-29T18:37:27.780771Z",
     "shell.execute_reply": "2021-11-29T18:37:27.781317Z",
     "shell.execute_reply.started": "2021-10-26T16:57:50.682434Z"
    },
    "papermill": {
     "duration": 15.05081,
     "end_time": "2021-11-29T18:37:27.781468",
     "exception": false,
     "start_time": "2021-11-29T18:37:12.730658",
     "status": "completed"
    },
    "tags": []
   },
   "outputs": [],
   "source": [
    "# submission = pd.DataFrame()\n",
    "# submission['unique_id'] = test_data_f['unique_id']\n",
    "# submission['citation_influence_label'] = res"
   ]
  },
  {
   "cell_type": "code",
   "execution_count": 33,
   "id": "d26787d2",
   "metadata": {
    "execution": {
     "iopub.execute_input": "2021-11-29T18:37:58.128509Z",
     "iopub.status.busy": "2021-11-29T18:37:58.127637Z",
     "iopub.status.idle": "2021-11-29T18:37:58.130399Z",
     "shell.execute_reply": "2021-11-29T18:37:58.129882Z",
     "shell.execute_reply.started": "2021-10-26T16:57:50.692744Z"
    },
    "papermill": {
     "duration": 14.831181,
     "end_time": "2021-11-29T18:37:58.130525",
     "exception": false,
     "start_time": "2021-11-29T18:37:43.299344",
     "status": "completed"
    },
    "tags": []
   },
   "outputs": [],
   "source": [
    "# submission.to_csv('submission.csv', index=False)"
   ]
  },
  {
   "cell_type": "code",
   "execution_count": 34,
   "id": "b987edbe",
   "metadata": {
    "execution": {
     "iopub.execute_input": "2021-11-29T18:38:28.944960Z",
     "iopub.status.busy": "2021-11-29T18:38:28.944070Z",
     "iopub.status.idle": "2021-11-29T18:38:28.945773Z",
     "shell.execute_reply": "2021-11-29T18:38:28.946273Z",
     "shell.execute_reply.started": "2021-10-26T16:59:08.380066Z"
    },
    "papermill": {
     "duration": 14.896577,
     "end_time": "2021-11-29T18:38:28.946423",
     "exception": false,
     "start_time": "2021-11-29T18:38:14.049846",
     "status": "completed"
    },
    "tags": []
   },
   "outputs": [],
   "source": [
    "# train_data.to_csv('train.csv', index=False)\n",
    "# test_data.to_csv('val.csv', index=False)"
   ]
  },
  {
   "cell_type": "code",
   "execution_count": 35,
   "id": "e6e89939",
   "metadata": {
    "execution": {
     "iopub.execute_input": "2021-11-29T18:38:59.461027Z",
     "iopub.status.busy": "2021-11-29T18:38:59.460137Z",
     "iopub.status.idle": "2021-11-29T18:39:00.136901Z",
     "shell.execute_reply": "2021-11-29T18:39:00.136444Z",
     "shell.execute_reply.started": "2021-10-26T17:00:36.662269Z"
    },
    "id": "8eKt004BKjyT",
    "outputId": "8f43c6b5-8772-4158-f8cc-f5bbd72b2f14",
    "papermill": {
     "duration": 15.345622,
     "end_time": "2021-11-29T18:39:00.137029",
     "exception": false,
     "start_time": "2021-11-29T18:38:44.791407",
     "status": "completed"
    },
    "tags": []
   },
   "outputs": [
    {
     "name": "stdout",
     "output_type": "stream",
     "text": [
      "All files saved\n"
     ]
    }
   ],
   "source": [
    "output_model_file = 'pytorch_bert.bin'\n",
    "output_vocab_file = './'\n",
    "\n",
    "model_to_save = model\n",
    "torch.save(model_to_save, output_model_file)\n",
    "tokenizer.save_vocabulary(output_vocab_file)\n",
    "\n",
    "print('All files saved')"
   ]
  },
  {
   "cell_type": "code",
   "execution_count": null,
   "id": "6b3668bd",
   "metadata": {
    "id": "IetKrn_SY-OT",
    "papermill": {
     "duration": 14.980801,
     "end_time": "2021-11-29T18:39:31.305244",
     "exception": false,
     "start_time": "2021-11-29T18:39:16.324443",
     "status": "completed"
    },
    "tags": []
   },
   "outputs": [],
   "source": []
  }
 ],
 "metadata": {
  "kernelspec": {
   "display_name": "Python 3",
   "language": "python",
   "name": "python3"
  },
  "language_info": {
   "codemirror_mode": {
    "name": "ipython",
    "version": 3
   },
   "file_extension": ".py",
   "mimetype": "text/x-python",
   "name": "python",
   "nbconvert_exporter": "python",
   "pygments_lexer": "ipython3",
   "version": "3.7.10"
  },
  "papermill": {
   "default_parameters": {},
   "duration": 19955.279304,
   "end_time": "2021-11-29T18:39:49.154100",
   "environment_variables": {},
   "exception": null,
   "input_path": "__notebook__.ipynb",
   "output_path": "__notebook__.ipynb",
   "parameters": {},
   "start_time": "2021-11-29T13:07:13.874796",
   "version": "2.3.3"
  },
  "widgets": {
   "application/vnd.jupyter.widget-state+json": {
    "state": {
     "04e0f694d33d4e098742a6dabbed9c09": {
      "model_module": "@jupyter-widgets/controls",
      "model_module_version": "1.5.0",
      "model_name": "DescriptionStyleModel",
      "state": {
       "_model_module": "@jupyter-widgets/controls",
       "_model_module_version": "1.5.0",
       "_model_name": "DescriptionStyleModel",
       "_view_count": null,
       "_view_module": "@jupyter-widgets/base",
       "_view_module_version": "1.2.0",
       "_view_name": "StyleView",
       "description_width": ""
      }
     },
     "06d14cc8c90849fcaa641c1a84b33163": {
      "model_module": "@jupyter-widgets/controls",
      "model_module_version": "1.5.0",
      "model_name": "HTMLModel",
      "state": {
       "_dom_classes": [],
       "_model_module": "@jupyter-widgets/controls",
       "_model_module_version": "1.5.0",
       "_model_name": "HTMLModel",
       "_view_count": null,
       "_view_module": "@jupyter-widgets/controls",
       "_view_module_version": "1.5.0",
       "_view_name": "HTMLView",
       "description": "",
       "description_tooltip": null,
       "layout": "IPY_MODEL_c164dc283e6e48b28fdf55e3db24bd65",
       "placeholder": "​",
       "style": "IPY_MODEL_12383635c2aa4cd9b0f7441da8df7744",
       "value": "Downloading: 100%"
      }
     },
     "0dea09d29a3c487f8c9193b58648fbcd": {
      "model_module": "@jupyter-widgets/base",
      "model_module_version": "1.2.0",
      "model_name": "LayoutModel",
      "state": {
       "_model_module": "@jupyter-widgets/base",
       "_model_module_version": "1.2.0",
       "_model_name": "LayoutModel",
       "_view_count": null,
       "_view_module": "@jupyter-widgets/base",
       "_view_module_version": "1.2.0",
       "_view_name": "LayoutView",
       "align_content": null,
       "align_items": null,
       "align_self": null,
       "border": null,
       "bottom": null,
       "display": null,
       "flex": null,
       "flex_flow": null,
       "grid_area": null,
       "grid_auto_columns": null,
       "grid_auto_flow": null,
       "grid_auto_rows": null,
       "grid_column": null,
       "grid_gap": null,
       "grid_row": null,
       "grid_template_areas": null,
       "grid_template_columns": null,
       "grid_template_rows": null,
       "height": null,
       "justify_content": null,
       "justify_items": null,
       "left": null,
       "margin": null,
       "max_height": null,
       "max_width": null,
       "min_height": null,
       "min_width": null,
       "object_fit": null,
       "object_position": null,
       "order": null,
       "overflow": null,
       "overflow_x": null,
       "overflow_y": null,
       "padding": null,
       "right": null,
       "top": null,
       "visibility": null,
       "width": null
      }
     },
     "0f40a08ad5814e28aa9e654ba8774cec": {
      "model_module": "@jupyter-widgets/controls",
      "model_module_version": "1.5.0",
      "model_name": "DescriptionStyleModel",
      "state": {
       "_model_module": "@jupyter-widgets/controls",
       "_model_module_version": "1.5.0",
       "_model_name": "DescriptionStyleModel",
       "_view_count": null,
       "_view_module": "@jupyter-widgets/base",
       "_view_module_version": "1.2.0",
       "_view_name": "StyleView",
       "description_width": ""
      }
     },
     "103f5e16e9f64febab4edf67f5dbfbe3": {
      "model_module": "@jupyter-widgets/controls",
      "model_module_version": "1.5.0",
      "model_name": "ProgressStyleModel",
      "state": {
       "_model_module": "@jupyter-widgets/controls",
       "_model_module_version": "1.5.0",
       "_model_name": "ProgressStyleModel",
       "_view_count": null,
       "_view_module": "@jupyter-widgets/base",
       "_view_module_version": "1.2.0",
       "_view_name": "StyleView",
       "bar_color": null,
       "description_width": ""
      }
     },
     "105db78af3c641b49aed208e2b895ba8": {
      "model_module": "@jupyter-widgets/controls",
      "model_module_version": "1.5.0",
      "model_name": "DescriptionStyleModel",
      "state": {
       "_model_module": "@jupyter-widgets/controls",
       "_model_module_version": "1.5.0",
       "_model_name": "DescriptionStyleModel",
       "_view_count": null,
       "_view_module": "@jupyter-widgets/base",
       "_view_module_version": "1.2.0",
       "_view_name": "StyleView",
       "description_width": ""
      }
     },
     "12383635c2aa4cd9b0f7441da8df7744": {
      "model_module": "@jupyter-widgets/controls",
      "model_module_version": "1.5.0",
      "model_name": "DescriptionStyleModel",
      "state": {
       "_model_module": "@jupyter-widgets/controls",
       "_model_module_version": "1.5.0",
       "_model_name": "DescriptionStyleModel",
       "_view_count": null,
       "_view_module": "@jupyter-widgets/base",
       "_view_module_version": "1.2.0",
       "_view_name": "StyleView",
       "description_width": ""
      }
     },
     "1721e14f25544fe68dd015776536bce5": {
      "model_module": "@jupyter-widgets/controls",
      "model_module_version": "1.5.0",
      "model_name": "HTMLModel",
      "state": {
       "_dom_classes": [],
       "_model_module": "@jupyter-widgets/controls",
       "_model_module_version": "1.5.0",
       "_model_name": "HTMLModel",
       "_view_count": null,
       "_view_module": "@jupyter-widgets/controls",
       "_view_module_version": "1.5.0",
       "_view_name": "HTMLView",
       "description": "",
       "description_tooltip": null,
       "layout": "IPY_MODEL_4a2d9aa073754113aa63e47c9254c8a4",
       "placeholder": "​",
       "style": "IPY_MODEL_b2d85e6b96ad44328d6a769e8928d133",
       "value": "Downloading: 100%"
      }
     },
     "17c9f50f039f4721b0ada0d39417ddcd": {
      "model_module": "@jupyter-widgets/base",
      "model_module_version": "1.2.0",
      "model_name": "LayoutModel",
      "state": {
       "_model_module": "@jupyter-widgets/base",
       "_model_module_version": "1.2.0",
       "_model_name": "LayoutModel",
       "_view_count": null,
       "_view_module": "@jupyter-widgets/base",
       "_view_module_version": "1.2.0",
       "_view_name": "LayoutView",
       "align_content": null,
       "align_items": null,
       "align_self": null,
       "border": null,
       "bottom": null,
       "display": null,
       "flex": null,
       "flex_flow": null,
       "grid_area": null,
       "grid_auto_columns": null,
       "grid_auto_flow": null,
       "grid_auto_rows": null,
       "grid_column": null,
       "grid_gap": null,
       "grid_row": null,
       "grid_template_areas": null,
       "grid_template_columns": null,
       "grid_template_rows": null,
       "height": null,
       "justify_content": null,
       "justify_items": null,
       "left": null,
       "margin": null,
       "max_height": null,
       "max_width": null,
       "min_height": null,
       "min_width": null,
       "object_fit": null,
       "object_position": null,
       "order": null,
       "overflow": null,
       "overflow_x": null,
       "overflow_y": null,
       "padding": null,
       "right": null,
       "top": null,
       "visibility": null,
       "width": null
      }
     },
     "1e15028b48b74cfb9e0ea2b28257c94e": {
      "model_module": "@jupyter-widgets/controls",
      "model_module_version": "1.5.0",
      "model_name": "HBoxModel",
      "state": {
       "_dom_classes": [],
       "_model_module": "@jupyter-widgets/controls",
       "_model_module_version": "1.5.0",
       "_model_name": "HBoxModel",
       "_view_count": null,
       "_view_module": "@jupyter-widgets/controls",
       "_view_module_version": "1.5.0",
       "_view_name": "HBoxView",
       "box_style": "",
       "children": [
        "IPY_MODEL_b7130ac3f43041028eff9b83bbbe845d",
        "IPY_MODEL_7586d3e5fdb04fbba3264fe889ff8dd1",
        "IPY_MODEL_669b1dc2510d4c06b5078224a17a76d7"
       ],
       "layout": "IPY_MODEL_441a2cdafd5d4c929dfe9da30c7af39f"
      }
     },
     "277f7ab752ea4f54bdebb5fa261c839f": {
      "model_module": "@jupyter-widgets/base",
      "model_module_version": "1.2.0",
      "model_name": "LayoutModel",
      "state": {
       "_model_module": "@jupyter-widgets/base",
       "_model_module_version": "1.2.0",
       "_model_name": "LayoutModel",
       "_view_count": null,
       "_view_module": "@jupyter-widgets/base",
       "_view_module_version": "1.2.0",
       "_view_name": "LayoutView",
       "align_content": null,
       "align_items": null,
       "align_self": null,
       "border": null,
       "bottom": null,
       "display": null,
       "flex": null,
       "flex_flow": null,
       "grid_area": null,
       "grid_auto_columns": null,
       "grid_auto_flow": null,
       "grid_auto_rows": null,
       "grid_column": null,
       "grid_gap": null,
       "grid_row": null,
       "grid_template_areas": null,
       "grid_template_columns": null,
       "grid_template_rows": null,
       "height": null,
       "justify_content": null,
       "justify_items": null,
       "left": null,
       "margin": null,
       "max_height": null,
       "max_width": null,
       "min_height": null,
       "min_width": null,
       "object_fit": null,
       "object_position": null,
       "order": null,
       "overflow": null,
       "overflow_x": null,
       "overflow_y": null,
       "padding": null,
       "right": null,
       "top": null,
       "visibility": null,
       "width": null
      }
     },
     "3306de1c59bd4977bc1af4e3e687f335": {
      "model_module": "@jupyter-widgets/controls",
      "model_module_version": "1.5.0",
      "model_name": "HBoxModel",
      "state": {
       "_dom_classes": [],
       "_model_module": "@jupyter-widgets/controls",
       "_model_module_version": "1.5.0",
       "_model_name": "HBoxModel",
       "_view_count": null,
       "_view_module": "@jupyter-widgets/controls",
       "_view_module_version": "1.5.0",
       "_view_name": "HBoxView",
       "box_style": "",
       "children": [
        "IPY_MODEL_dc1ec2a9a8aa463ea290d37939901105",
        "IPY_MODEL_a09f3dac83404d24a94767bfd3607a41",
        "IPY_MODEL_feb1b1b0c0bb43fc8d1349a373212add"
       ],
       "layout": "IPY_MODEL_277f7ab752ea4f54bdebb5fa261c839f"
      }
     },
     "3b18691da938496ca2b04da8d0f4ac50": {
      "model_module": "@jupyter-widgets/controls",
      "model_module_version": "1.5.0",
      "model_name": "ProgressStyleModel",
      "state": {
       "_model_module": "@jupyter-widgets/controls",
       "_model_module_version": "1.5.0",
       "_model_name": "ProgressStyleModel",
       "_view_count": null,
       "_view_module": "@jupyter-widgets/base",
       "_view_module_version": "1.2.0",
       "_view_name": "StyleView",
       "bar_color": null,
       "description_width": ""
      }
     },
     "405e5bbb3ece4d7bb0f573d9387fa790": {
      "model_module": "@jupyter-widgets/base",
      "model_module_version": "1.2.0",
      "model_name": "LayoutModel",
      "state": {
       "_model_module": "@jupyter-widgets/base",
       "_model_module_version": "1.2.0",
       "_model_name": "LayoutModel",
       "_view_count": null,
       "_view_module": "@jupyter-widgets/base",
       "_view_module_version": "1.2.0",
       "_view_name": "LayoutView",
       "align_content": null,
       "align_items": null,
       "align_self": null,
       "border": null,
       "bottom": null,
       "display": null,
       "flex": null,
       "flex_flow": null,
       "grid_area": null,
       "grid_auto_columns": null,
       "grid_auto_flow": null,
       "grid_auto_rows": null,
       "grid_column": null,
       "grid_gap": null,
       "grid_row": null,
       "grid_template_areas": null,
       "grid_template_columns": null,
       "grid_template_rows": null,
       "height": null,
       "justify_content": null,
       "justify_items": null,
       "left": null,
       "margin": null,
       "max_height": null,
       "max_width": null,
       "min_height": null,
       "min_width": null,
       "object_fit": null,
       "object_position": null,
       "order": null,
       "overflow": null,
       "overflow_x": null,
       "overflow_y": null,
       "padding": null,
       "right": null,
       "top": null,
       "visibility": null,
       "width": null
      }
     },
     "441a2cdafd5d4c929dfe9da30c7af39f": {
      "model_module": "@jupyter-widgets/base",
      "model_module_version": "1.2.0",
      "model_name": "LayoutModel",
      "state": {
       "_model_module": "@jupyter-widgets/base",
       "_model_module_version": "1.2.0",
       "_model_name": "LayoutModel",
       "_view_count": null,
       "_view_module": "@jupyter-widgets/base",
       "_view_module_version": "1.2.0",
       "_view_name": "LayoutView",
       "align_content": null,
       "align_items": null,
       "align_self": null,
       "border": null,
       "bottom": null,
       "display": null,
       "flex": null,
       "flex_flow": null,
       "grid_area": null,
       "grid_auto_columns": null,
       "grid_auto_flow": null,
       "grid_auto_rows": null,
       "grid_column": null,
       "grid_gap": null,
       "grid_row": null,
       "grid_template_areas": null,
       "grid_template_columns": null,
       "grid_template_rows": null,
       "height": null,
       "justify_content": null,
       "justify_items": null,
       "left": null,
       "margin": null,
       "max_height": null,
       "max_width": null,
       "min_height": null,
       "min_width": null,
       "object_fit": null,
       "object_position": null,
       "order": null,
       "overflow": null,
       "overflow_x": null,
       "overflow_y": null,
       "padding": null,
       "right": null,
       "top": null,
       "visibility": null,
       "width": null
      }
     },
     "4a2d9aa073754113aa63e47c9254c8a4": {
      "model_module": "@jupyter-widgets/base",
      "model_module_version": "1.2.0",
      "model_name": "LayoutModel",
      "state": {
       "_model_module": "@jupyter-widgets/base",
       "_model_module_version": "1.2.0",
       "_model_name": "LayoutModel",
       "_view_count": null,
       "_view_module": "@jupyter-widgets/base",
       "_view_module_version": "1.2.0",
       "_view_name": "LayoutView",
       "align_content": null,
       "align_items": null,
       "align_self": null,
       "border": null,
       "bottom": null,
       "display": null,
       "flex": null,
       "flex_flow": null,
       "grid_area": null,
       "grid_auto_columns": null,
       "grid_auto_flow": null,
       "grid_auto_rows": null,
       "grid_column": null,
       "grid_gap": null,
       "grid_row": null,
       "grid_template_areas": null,
       "grid_template_columns": null,
       "grid_template_rows": null,
       "height": null,
       "justify_content": null,
       "justify_items": null,
       "left": null,
       "margin": null,
       "max_height": null,
       "max_width": null,
       "min_height": null,
       "min_width": null,
       "object_fit": null,
       "object_position": null,
       "order": null,
       "overflow": null,
       "overflow_x": null,
       "overflow_y": null,
       "padding": null,
       "right": null,
       "top": null,
       "visibility": null,
       "width": null
      }
     },
     "4ba2adcc79804ffba090e9310e074819": {
      "model_module": "@jupyter-widgets/base",
      "model_module_version": "1.2.0",
      "model_name": "LayoutModel",
      "state": {
       "_model_module": "@jupyter-widgets/base",
       "_model_module_version": "1.2.0",
       "_model_name": "LayoutModel",
       "_view_count": null,
       "_view_module": "@jupyter-widgets/base",
       "_view_module_version": "1.2.0",
       "_view_name": "LayoutView",
       "align_content": null,
       "align_items": null,
       "align_self": null,
       "border": null,
       "bottom": null,
       "display": null,
       "flex": null,
       "flex_flow": null,
       "grid_area": null,
       "grid_auto_columns": null,
       "grid_auto_flow": null,
       "grid_auto_rows": null,
       "grid_column": null,
       "grid_gap": null,
       "grid_row": null,
       "grid_template_areas": null,
       "grid_template_columns": null,
       "grid_template_rows": null,
       "height": null,
       "justify_content": null,
       "justify_items": null,
       "left": null,
       "margin": null,
       "max_height": null,
       "max_width": null,
       "min_height": null,
       "min_width": null,
       "object_fit": null,
       "object_position": null,
       "order": null,
       "overflow": null,
       "overflow_x": null,
       "overflow_y": null,
       "padding": null,
       "right": null,
       "top": null,
       "visibility": null,
       "width": null
      }
     },
     "51166c3ba93440b88aaca9e8140201ef": {
      "model_module": "@jupyter-widgets/controls",
      "model_module_version": "1.5.0",
      "model_name": "ProgressStyleModel",
      "state": {
       "_model_module": "@jupyter-widgets/controls",
       "_model_module_version": "1.5.0",
       "_model_name": "ProgressStyleModel",
       "_view_count": null,
       "_view_module": "@jupyter-widgets/base",
       "_view_module_version": "1.2.0",
       "_view_name": "StyleView",
       "bar_color": null,
       "description_width": ""
      }
     },
     "5a80babeee8945a1b6f77aa2187f3b9c": {
      "model_module": "@jupyter-widgets/controls",
      "model_module_version": "1.5.0",
      "model_name": "HTMLModel",
      "state": {
       "_dom_classes": [],
       "_model_module": "@jupyter-widgets/controls",
       "_model_module_version": "1.5.0",
       "_model_name": "HTMLModel",
       "_view_count": null,
       "_view_module": "@jupyter-widgets/controls",
       "_view_module_version": "1.5.0",
       "_view_name": "HTMLView",
       "description": "",
       "description_tooltip": null,
       "layout": "IPY_MODEL_dac1c81dc6824d29997bbb3350013056",
       "placeholder": "​",
       "style": "IPY_MODEL_ddb8665f91064e1d941ec3357482bd03",
       "value": " 232k/232k [00:00&lt;00:00, 636kB/s]"
      }
     },
     "5d0c0a9b74d24cc39fe84d97b70cdfb7": {
      "model_module": "@jupyter-widgets/controls",
      "model_module_version": "1.5.0",
      "model_name": "ProgressStyleModel",
      "state": {
       "_model_module": "@jupyter-widgets/controls",
       "_model_module_version": "1.5.0",
       "_model_name": "ProgressStyleModel",
       "_view_count": null,
       "_view_module": "@jupyter-widgets/base",
       "_view_module_version": "1.2.0",
       "_view_name": "StyleView",
       "bar_color": null,
       "description_width": ""
      }
     },
     "5dd89a5c66a3409a9c3e6b5d0db57bab": {
      "model_module": "@jupyter-widgets/controls",
      "model_module_version": "1.5.0",
      "model_name": "HBoxModel",
      "state": {
       "_dom_classes": [],
       "_model_module": "@jupyter-widgets/controls",
       "_model_module_version": "1.5.0",
       "_model_name": "HBoxModel",
       "_view_count": null,
       "_view_module": "@jupyter-widgets/controls",
       "_view_module_version": "1.5.0",
       "_view_name": "HBoxView",
       "box_style": "",
       "children": [
        "IPY_MODEL_eeeb907bb470413eb3d1723ae1ddfee7",
        "IPY_MODEL_c8dd14dd0fc1441da532edc4331ada3a",
        "IPY_MODEL_c5be43d91eac47faa618242e16e6a695"
       ],
       "layout": "IPY_MODEL_0dea09d29a3c487f8c9193b58648fbcd"
      }
     },
     "669b1dc2510d4c06b5078224a17a76d7": {
      "model_module": "@jupyter-widgets/controls",
      "model_module_version": "1.5.0",
      "model_name": "HTMLModel",
      "state": {
       "_dom_classes": [],
       "_model_module": "@jupyter-widgets/controls",
       "_model_module_version": "1.5.0",
       "_model_name": "HTMLModel",
       "_view_count": null,
       "_view_module": "@jupyter-widgets/controls",
       "_view_module_version": "1.5.0",
       "_view_name": "HTMLView",
       "description": "",
       "description_tooltip": null,
       "layout": "IPY_MODEL_405e5bbb3ece4d7bb0f573d9387fa790",
       "placeholder": "​",
       "style": "IPY_MODEL_d2cbc26ed80e4116b725bb3f92f7e0a7",
       "value": " 440M/440M [00:38&lt;00:00, 12.1MB/s]"
      }
     },
     "73c85c341e3b4300a51ba908b1a56a3f": {
      "model_module": "@jupyter-widgets/controls",
      "model_module_version": "1.5.0",
      "model_name": "ProgressStyleModel",
      "state": {
       "_model_module": "@jupyter-widgets/controls",
       "_model_module_version": "1.5.0",
       "_model_name": "ProgressStyleModel",
       "_view_count": null,
       "_view_module": "@jupyter-widgets/base",
       "_view_module_version": "1.2.0",
       "_view_name": "StyleView",
       "bar_color": null,
       "description_width": ""
      }
     },
     "7586d3e5fdb04fbba3264fe889ff8dd1": {
      "model_module": "@jupyter-widgets/controls",
      "model_module_version": "1.5.0",
      "model_name": "FloatProgressModel",
      "state": {
       "_dom_classes": [],
       "_model_module": "@jupyter-widgets/controls",
       "_model_module_version": "1.5.0",
       "_model_name": "FloatProgressModel",
       "_view_count": null,
       "_view_module": "@jupyter-widgets/controls",
       "_view_module_version": "1.5.0",
       "_view_name": "ProgressView",
       "bar_style": "success",
       "description": "",
       "description_tooltip": null,
       "layout": "IPY_MODEL_f62ab833b4854a4f9e0d76e417902548",
       "max": 440473133.0,
       "min": 0.0,
       "orientation": "horizontal",
       "style": "IPY_MODEL_3b18691da938496ca2b04da8d0f4ac50",
       "value": 440473133.0
      }
     },
     "7c7765db66884867953ea67471b93b32": {
      "model_module": "@jupyter-widgets/base",
      "model_module_version": "1.2.0",
      "model_name": "LayoutModel",
      "state": {
       "_model_module": "@jupyter-widgets/base",
       "_model_module_version": "1.2.0",
       "_model_name": "LayoutModel",
       "_view_count": null,
       "_view_module": "@jupyter-widgets/base",
       "_view_module_version": "1.2.0",
       "_view_name": "LayoutView",
       "align_content": null,
       "align_items": null,
       "align_self": null,
       "border": null,
       "bottom": null,
       "display": null,
       "flex": null,
       "flex_flow": null,
       "grid_area": null,
       "grid_auto_columns": null,
       "grid_auto_flow": null,
       "grid_auto_rows": null,
       "grid_column": null,
       "grid_gap": null,
       "grid_row": null,
       "grid_template_areas": null,
       "grid_template_columns": null,
       "grid_template_rows": null,
       "height": null,
       "justify_content": null,
       "justify_items": null,
       "left": null,
       "margin": null,
       "max_height": null,
       "max_width": null,
       "min_height": null,
       "min_width": null,
       "object_fit": null,
       "object_position": null,
       "order": null,
       "overflow": null,
       "overflow_x": null,
       "overflow_y": null,
       "padding": null,
       "right": null,
       "top": null,
       "visibility": null,
       "width": null
      }
     },
     "7d59305251d5448ea2613c6161cd51f8": {
      "model_module": "@jupyter-widgets/controls",
      "model_module_version": "1.5.0",
      "model_name": "HBoxModel",
      "state": {
       "_dom_classes": [],
       "_model_module": "@jupyter-widgets/controls",
       "_model_module_version": "1.5.0",
       "_model_name": "HBoxModel",
       "_view_count": null,
       "_view_module": "@jupyter-widgets/controls",
       "_view_module_version": "1.5.0",
       "_view_name": "HBoxView",
       "box_style": "",
       "children": [
        "IPY_MODEL_06d14cc8c90849fcaa641c1a84b33163",
        "IPY_MODEL_d784a3f1ec39408fad3cb74c5eb39ed6",
        "IPY_MODEL_97041643abd74b03880411e1013a7cf5"
       ],
       "layout": "IPY_MODEL_f5365f8a38864ba2a69d180217f8e0c7"
      }
     },
     "839ac7a2ea85440dadf751f5edb8b6cf": {
      "model_module": "@jupyter-widgets/base",
      "model_module_version": "1.2.0",
      "model_name": "LayoutModel",
      "state": {
       "_model_module": "@jupyter-widgets/base",
       "_model_module_version": "1.2.0",
       "_model_name": "LayoutModel",
       "_view_count": null,
       "_view_module": "@jupyter-widgets/base",
       "_view_module_version": "1.2.0",
       "_view_name": "LayoutView",
       "align_content": null,
       "align_items": null,
       "align_self": null,
       "border": null,
       "bottom": null,
       "display": null,
       "flex": null,
       "flex_flow": null,
       "grid_area": null,
       "grid_auto_columns": null,
       "grid_auto_flow": null,
       "grid_auto_rows": null,
       "grid_column": null,
       "grid_gap": null,
       "grid_row": null,
       "grid_template_areas": null,
       "grid_template_columns": null,
       "grid_template_rows": null,
       "height": null,
       "justify_content": null,
       "justify_items": null,
       "left": null,
       "margin": null,
       "max_height": null,
       "max_width": null,
       "min_height": null,
       "min_width": null,
       "object_fit": null,
       "object_position": null,
       "order": null,
       "overflow": null,
       "overflow_x": null,
       "overflow_y": null,
       "padding": null,
       "right": null,
       "top": null,
       "visibility": null,
       "width": null
      }
     },
     "93533ec65d6e45f9a2ddf829e9eb17e7": {
      "model_module": "@jupyter-widgets/base",
      "model_module_version": "1.2.0",
      "model_name": "LayoutModel",
      "state": {
       "_model_module": "@jupyter-widgets/base",
       "_model_module_version": "1.2.0",
       "_model_name": "LayoutModel",
       "_view_count": null,
       "_view_module": "@jupyter-widgets/base",
       "_view_module_version": "1.2.0",
       "_view_name": "LayoutView",
       "align_content": null,
       "align_items": null,
       "align_self": null,
       "border": null,
       "bottom": null,
       "display": null,
       "flex": null,
       "flex_flow": null,
       "grid_area": null,
       "grid_auto_columns": null,
       "grid_auto_flow": null,
       "grid_auto_rows": null,
       "grid_column": null,
       "grid_gap": null,
       "grid_row": null,
       "grid_template_areas": null,
       "grid_template_columns": null,
       "grid_template_rows": null,
       "height": null,
       "justify_content": null,
       "justify_items": null,
       "left": null,
       "margin": null,
       "max_height": null,
       "max_width": null,
       "min_height": null,
       "min_width": null,
       "object_fit": null,
       "object_position": null,
       "order": null,
       "overflow": null,
       "overflow_x": null,
       "overflow_y": null,
       "padding": null,
       "right": null,
       "top": null,
       "visibility": null,
       "width": null
      }
     },
     "97041643abd74b03880411e1013a7cf5": {
      "model_module": "@jupyter-widgets/controls",
      "model_module_version": "1.5.0",
      "model_name": "HTMLModel",
      "state": {
       "_dom_classes": [],
       "_model_module": "@jupyter-widgets/controls",
       "_model_module_version": "1.5.0",
       "_model_name": "HTMLModel",
       "_view_count": null,
       "_view_module": "@jupyter-widgets/controls",
       "_view_module_version": "1.5.0",
       "_view_name": "HTMLView",
       "description": "",
       "description_tooltip": null,
       "layout": "IPY_MODEL_17c9f50f039f4721b0ada0d39417ddcd",
       "placeholder": "​",
       "style": "IPY_MODEL_db0ff050a7e2490790eb870779c6194f",
       "value": " 28.0/28.0 [00:00&lt;00:00, 467B/s]"
      }
     },
     "a09f3dac83404d24a94767bfd3607a41": {
      "model_module": "@jupyter-widgets/controls",
      "model_module_version": "1.5.0",
      "model_name": "FloatProgressModel",
      "state": {
       "_dom_classes": [],
       "_model_module": "@jupyter-widgets/controls",
       "_model_module_version": "1.5.0",
       "_model_name": "FloatProgressModel",
       "_view_count": null,
       "_view_module": "@jupyter-widgets/controls",
       "_view_module_version": "1.5.0",
       "_view_name": "ProgressView",
       "bar_style": "success",
       "description": "",
       "description_tooltip": null,
       "layout": "IPY_MODEL_7c7765db66884867953ea67471b93b32",
       "max": 466062.0,
       "min": 0.0,
       "orientation": "horizontal",
       "style": "IPY_MODEL_103f5e16e9f64febab4edf67f5dbfbe3",
       "value": 466062.0
      }
     },
     "a562ad787aeb422ead51f68fe17e3fd4": {
      "model_module": "@jupyter-widgets/base",
      "model_module_version": "1.2.0",
      "model_name": "LayoutModel",
      "state": {
       "_model_module": "@jupyter-widgets/base",
       "_model_module_version": "1.2.0",
       "_model_name": "LayoutModel",
       "_view_count": null,
       "_view_module": "@jupyter-widgets/base",
       "_view_module_version": "1.2.0",
       "_view_name": "LayoutView",
       "align_content": null,
       "align_items": null,
       "align_self": null,
       "border": null,
       "bottom": null,
       "display": null,
       "flex": null,
       "flex_flow": null,
       "grid_area": null,
       "grid_auto_columns": null,
       "grid_auto_flow": null,
       "grid_auto_rows": null,
       "grid_column": null,
       "grid_gap": null,
       "grid_row": null,
       "grid_template_areas": null,
       "grid_template_columns": null,
       "grid_template_rows": null,
       "height": null,
       "justify_content": null,
       "justify_items": null,
       "left": null,
       "margin": null,
       "max_height": null,
       "max_width": null,
       "min_height": null,
       "min_width": null,
       "object_fit": null,
       "object_position": null,
       "order": null,
       "overflow": null,
       "overflow_x": null,
       "overflow_y": null,
       "padding": null,
       "right": null,
       "top": null,
       "visibility": null,
       "width": null
      }
     },
     "acb67d240e544f8f8d13bf0a47994283": {
      "model_module": "@jupyter-widgets/base",
      "model_module_version": "1.2.0",
      "model_name": "LayoutModel",
      "state": {
       "_model_module": "@jupyter-widgets/base",
       "_model_module_version": "1.2.0",
       "_model_name": "LayoutModel",
       "_view_count": null,
       "_view_module": "@jupyter-widgets/base",
       "_view_module_version": "1.2.0",
       "_view_name": "LayoutView",
       "align_content": null,
       "align_items": null,
       "align_self": null,
       "border": null,
       "bottom": null,
       "display": null,
       "flex": null,
       "flex_flow": null,
       "grid_area": null,
       "grid_auto_columns": null,
       "grid_auto_flow": null,
       "grid_auto_rows": null,
       "grid_column": null,
       "grid_gap": null,
       "grid_row": null,
       "grid_template_areas": null,
       "grid_template_columns": null,
       "grid_template_rows": null,
       "height": null,
       "justify_content": null,
       "justify_items": null,
       "left": null,
       "margin": null,
       "max_height": null,
       "max_width": null,
       "min_height": null,
       "min_width": null,
       "object_fit": null,
       "object_position": null,
       "order": null,
       "overflow": null,
       "overflow_x": null,
       "overflow_y": null,
       "padding": null,
       "right": null,
       "top": null,
       "visibility": null,
       "width": null
      }
     },
     "b2d85e6b96ad44328d6a769e8928d133": {
      "model_module": "@jupyter-widgets/controls",
      "model_module_version": "1.5.0",
      "model_name": "DescriptionStyleModel",
      "state": {
       "_model_module": "@jupyter-widgets/controls",
       "_model_module_version": "1.5.0",
       "_model_name": "DescriptionStyleModel",
       "_view_count": null,
       "_view_module": "@jupyter-widgets/base",
       "_view_module_version": "1.2.0",
       "_view_name": "StyleView",
       "description_width": ""
      }
     },
     "b7130ac3f43041028eff9b83bbbe845d": {
      "model_module": "@jupyter-widgets/controls",
      "model_module_version": "1.5.0",
      "model_name": "HTMLModel",
      "state": {
       "_dom_classes": [],
       "_model_module": "@jupyter-widgets/controls",
       "_model_module_version": "1.5.0",
       "_model_name": "HTMLModel",
       "_view_count": null,
       "_view_module": "@jupyter-widgets/controls",
       "_view_module_version": "1.5.0",
       "_view_name": "HTMLView",
       "description": "",
       "description_tooltip": null,
       "layout": "IPY_MODEL_ce6756d21ff04ed48c000f8dbc16c2de",
       "placeholder": "​",
       "style": "IPY_MODEL_bfd8a93eb66940e4ada58cb7287b7215",
       "value": "Downloading: 100%"
      }
     },
     "bbdb0ab9aa7a4232a86b3a3f2d3acbc3": {
      "model_module": "@jupyter-widgets/controls",
      "model_module_version": "1.5.0",
      "model_name": "HBoxModel",
      "state": {
       "_dom_classes": [],
       "_model_module": "@jupyter-widgets/controls",
       "_model_module_version": "1.5.0",
       "_model_name": "HBoxModel",
       "_view_count": null,
       "_view_module": "@jupyter-widgets/controls",
       "_view_module_version": "1.5.0",
       "_view_name": "HBoxView",
       "box_style": "",
       "children": [
        "IPY_MODEL_1721e14f25544fe68dd015776536bce5",
        "IPY_MODEL_f095f8c60fcf4c789b2c909699fc32a0",
        "IPY_MODEL_5a80babeee8945a1b6f77aa2187f3b9c"
       ],
       "layout": "IPY_MODEL_fb982aa5b66245ff9094de815b99c2bf"
      }
     },
     "bfd8a93eb66940e4ada58cb7287b7215": {
      "model_module": "@jupyter-widgets/controls",
      "model_module_version": "1.5.0",
      "model_name": "DescriptionStyleModel",
      "state": {
       "_model_module": "@jupyter-widgets/controls",
       "_model_module_version": "1.5.0",
       "_model_name": "DescriptionStyleModel",
       "_view_count": null,
       "_view_module": "@jupyter-widgets/base",
       "_view_module_version": "1.2.0",
       "_view_name": "StyleView",
       "description_width": ""
      }
     },
     "c164dc283e6e48b28fdf55e3db24bd65": {
      "model_module": "@jupyter-widgets/base",
      "model_module_version": "1.2.0",
      "model_name": "LayoutModel",
      "state": {
       "_model_module": "@jupyter-widgets/base",
       "_model_module_version": "1.2.0",
       "_model_name": "LayoutModel",
       "_view_count": null,
       "_view_module": "@jupyter-widgets/base",
       "_view_module_version": "1.2.0",
       "_view_name": "LayoutView",
       "align_content": null,
       "align_items": null,
       "align_self": null,
       "border": null,
       "bottom": null,
       "display": null,
       "flex": null,
       "flex_flow": null,
       "grid_area": null,
       "grid_auto_columns": null,
       "grid_auto_flow": null,
       "grid_auto_rows": null,
       "grid_column": null,
       "grid_gap": null,
       "grid_row": null,
       "grid_template_areas": null,
       "grid_template_columns": null,
       "grid_template_rows": null,
       "height": null,
       "justify_content": null,
       "justify_items": null,
       "left": null,
       "margin": null,
       "max_height": null,
       "max_width": null,
       "min_height": null,
       "min_width": null,
       "object_fit": null,
       "object_position": null,
       "order": null,
       "overflow": null,
       "overflow_x": null,
       "overflow_y": null,
       "padding": null,
       "right": null,
       "top": null,
       "visibility": null,
       "width": null
      }
     },
     "c5be43d91eac47faa618242e16e6a695": {
      "model_module": "@jupyter-widgets/controls",
      "model_module_version": "1.5.0",
      "model_name": "HTMLModel",
      "state": {
       "_dom_classes": [],
       "_model_module": "@jupyter-widgets/controls",
       "_model_module_version": "1.5.0",
       "_model_name": "HTMLModel",
       "_view_count": null,
       "_view_module": "@jupyter-widgets/controls",
       "_view_module_version": "1.5.0",
       "_view_name": "HTMLView",
       "description": "",
       "description_tooltip": null,
       "layout": "IPY_MODEL_a562ad787aeb422ead51f68fe17e3fd4",
       "placeholder": "​",
       "style": "IPY_MODEL_105db78af3c641b49aed208e2b895ba8",
       "value": " 570/570 [00:00&lt;00:00, 21.3kB/s]"
      }
     },
     "c8dd14dd0fc1441da532edc4331ada3a": {
      "model_module": "@jupyter-widgets/controls",
      "model_module_version": "1.5.0",
      "model_name": "FloatProgressModel",
      "state": {
       "_dom_classes": [],
       "_model_module": "@jupyter-widgets/controls",
       "_model_module_version": "1.5.0",
       "_model_name": "FloatProgressModel",
       "_view_count": null,
       "_view_module": "@jupyter-widgets/controls",
       "_view_module_version": "1.5.0",
       "_view_name": "ProgressView",
       "bar_style": "success",
       "description": "",
       "description_tooltip": null,
       "layout": "IPY_MODEL_ed319423ec4242a5bb9a2bb92a8c2db8",
       "max": 570.0,
       "min": 0.0,
       "orientation": "horizontal",
       "style": "IPY_MODEL_5d0c0a9b74d24cc39fe84d97b70cdfb7",
       "value": 570.0
      }
     },
     "ce6756d21ff04ed48c000f8dbc16c2de": {
      "model_module": "@jupyter-widgets/base",
      "model_module_version": "1.2.0",
      "model_name": "LayoutModel",
      "state": {
       "_model_module": "@jupyter-widgets/base",
       "_model_module_version": "1.2.0",
       "_model_name": "LayoutModel",
       "_view_count": null,
       "_view_module": "@jupyter-widgets/base",
       "_view_module_version": "1.2.0",
       "_view_name": "LayoutView",
       "align_content": null,
       "align_items": null,
       "align_self": null,
       "border": null,
       "bottom": null,
       "display": null,
       "flex": null,
       "flex_flow": null,
       "grid_area": null,
       "grid_auto_columns": null,
       "grid_auto_flow": null,
       "grid_auto_rows": null,
       "grid_column": null,
       "grid_gap": null,
       "grid_row": null,
       "grid_template_areas": null,
       "grid_template_columns": null,
       "grid_template_rows": null,
       "height": null,
       "justify_content": null,
       "justify_items": null,
       "left": null,
       "margin": null,
       "max_height": null,
       "max_width": null,
       "min_height": null,
       "min_width": null,
       "object_fit": null,
       "object_position": null,
       "order": null,
       "overflow": null,
       "overflow_x": null,
       "overflow_y": null,
       "padding": null,
       "right": null,
       "top": null,
       "visibility": null,
       "width": null
      }
     },
     "d2cbc26ed80e4116b725bb3f92f7e0a7": {
      "model_module": "@jupyter-widgets/controls",
      "model_module_version": "1.5.0",
      "model_name": "DescriptionStyleModel",
      "state": {
       "_model_module": "@jupyter-widgets/controls",
       "_model_module_version": "1.5.0",
       "_model_name": "DescriptionStyleModel",
       "_view_count": null,
       "_view_module": "@jupyter-widgets/base",
       "_view_module_version": "1.2.0",
       "_view_name": "StyleView",
       "description_width": ""
      }
     },
     "d784a3f1ec39408fad3cb74c5eb39ed6": {
      "model_module": "@jupyter-widgets/controls",
      "model_module_version": "1.5.0",
      "model_name": "FloatProgressModel",
      "state": {
       "_dom_classes": [],
       "_model_module": "@jupyter-widgets/controls",
       "_model_module_version": "1.5.0",
       "_model_name": "FloatProgressModel",
       "_view_count": null,
       "_view_module": "@jupyter-widgets/controls",
       "_view_module_version": "1.5.0",
       "_view_name": "ProgressView",
       "bar_style": "success",
       "description": "",
       "description_tooltip": null,
       "layout": "IPY_MODEL_839ac7a2ea85440dadf751f5edb8b6cf",
       "max": 28.0,
       "min": 0.0,
       "orientation": "horizontal",
       "style": "IPY_MODEL_51166c3ba93440b88aaca9e8140201ef",
       "value": 28.0
      }
     },
     "dac1c81dc6824d29997bbb3350013056": {
      "model_module": "@jupyter-widgets/base",
      "model_module_version": "1.2.0",
      "model_name": "LayoutModel",
      "state": {
       "_model_module": "@jupyter-widgets/base",
       "_model_module_version": "1.2.0",
       "_model_name": "LayoutModel",
       "_view_count": null,
       "_view_module": "@jupyter-widgets/base",
       "_view_module_version": "1.2.0",
       "_view_name": "LayoutView",
       "align_content": null,
       "align_items": null,
       "align_self": null,
       "border": null,
       "bottom": null,
       "display": null,
       "flex": null,
       "flex_flow": null,
       "grid_area": null,
       "grid_auto_columns": null,
       "grid_auto_flow": null,
       "grid_auto_rows": null,
       "grid_column": null,
       "grid_gap": null,
       "grid_row": null,
       "grid_template_areas": null,
       "grid_template_columns": null,
       "grid_template_rows": null,
       "height": null,
       "justify_content": null,
       "justify_items": null,
       "left": null,
       "margin": null,
       "max_height": null,
       "max_width": null,
       "min_height": null,
       "min_width": null,
       "object_fit": null,
       "object_position": null,
       "order": null,
       "overflow": null,
       "overflow_x": null,
       "overflow_y": null,
       "padding": null,
       "right": null,
       "top": null,
       "visibility": null,
       "width": null
      }
     },
     "db0ff050a7e2490790eb870779c6194f": {
      "model_module": "@jupyter-widgets/controls",
      "model_module_version": "1.5.0",
      "model_name": "DescriptionStyleModel",
      "state": {
       "_model_module": "@jupyter-widgets/controls",
       "_model_module_version": "1.5.0",
       "_model_name": "DescriptionStyleModel",
       "_view_count": null,
       "_view_module": "@jupyter-widgets/base",
       "_view_module_version": "1.2.0",
       "_view_name": "StyleView",
       "description_width": ""
      }
     },
     "dc1ec2a9a8aa463ea290d37939901105": {
      "model_module": "@jupyter-widgets/controls",
      "model_module_version": "1.5.0",
      "model_name": "HTMLModel",
      "state": {
       "_dom_classes": [],
       "_model_module": "@jupyter-widgets/controls",
       "_model_module_version": "1.5.0",
       "_model_name": "HTMLModel",
       "_view_count": null,
       "_view_module": "@jupyter-widgets/controls",
       "_view_module_version": "1.5.0",
       "_view_name": "HTMLView",
       "description": "",
       "description_tooltip": null,
       "layout": "IPY_MODEL_93533ec65d6e45f9a2ddf829e9eb17e7",
       "placeholder": "​",
       "style": "IPY_MODEL_04e0f694d33d4e098742a6dabbed9c09",
       "value": "Downloading: 100%"
      }
     },
     "dd0b8c3a3311410082ee0a99f0dd51b2": {
      "model_module": "@jupyter-widgets/base",
      "model_module_version": "1.2.0",
      "model_name": "LayoutModel",
      "state": {
       "_model_module": "@jupyter-widgets/base",
       "_model_module_version": "1.2.0",
       "_model_name": "LayoutModel",
       "_view_count": null,
       "_view_module": "@jupyter-widgets/base",
       "_view_module_version": "1.2.0",
       "_view_name": "LayoutView",
       "align_content": null,
       "align_items": null,
       "align_self": null,
       "border": null,
       "bottom": null,
       "display": null,
       "flex": null,
       "flex_flow": null,
       "grid_area": null,
       "grid_auto_columns": null,
       "grid_auto_flow": null,
       "grid_auto_rows": null,
       "grid_column": null,
       "grid_gap": null,
       "grid_row": null,
       "grid_template_areas": null,
       "grid_template_columns": null,
       "grid_template_rows": null,
       "height": null,
       "justify_content": null,
       "justify_items": null,
       "left": null,
       "margin": null,
       "max_height": null,
       "max_width": null,
       "min_height": null,
       "min_width": null,
       "object_fit": null,
       "object_position": null,
       "order": null,
       "overflow": null,
       "overflow_x": null,
       "overflow_y": null,
       "padding": null,
       "right": null,
       "top": null,
       "visibility": null,
       "width": null
      }
     },
     "ddb8665f91064e1d941ec3357482bd03": {
      "model_module": "@jupyter-widgets/controls",
      "model_module_version": "1.5.0",
      "model_name": "DescriptionStyleModel",
      "state": {
       "_model_module": "@jupyter-widgets/controls",
       "_model_module_version": "1.5.0",
       "_model_name": "DescriptionStyleModel",
       "_view_count": null,
       "_view_module": "@jupyter-widgets/base",
       "_view_module_version": "1.2.0",
       "_view_name": "StyleView",
       "description_width": ""
      }
     },
     "de3c05d3cf2241cfa87d16045cf62654": {
      "model_module": "@jupyter-widgets/controls",
      "model_module_version": "1.5.0",
      "model_name": "DescriptionStyleModel",
      "state": {
       "_model_module": "@jupyter-widgets/controls",
       "_model_module_version": "1.5.0",
       "_model_name": "DescriptionStyleModel",
       "_view_count": null,
       "_view_module": "@jupyter-widgets/base",
       "_view_module_version": "1.2.0",
       "_view_name": "StyleView",
       "description_width": ""
      }
     },
     "ed319423ec4242a5bb9a2bb92a8c2db8": {
      "model_module": "@jupyter-widgets/base",
      "model_module_version": "1.2.0",
      "model_name": "LayoutModel",
      "state": {
       "_model_module": "@jupyter-widgets/base",
       "_model_module_version": "1.2.0",
       "_model_name": "LayoutModel",
       "_view_count": null,
       "_view_module": "@jupyter-widgets/base",
       "_view_module_version": "1.2.0",
       "_view_name": "LayoutView",
       "align_content": null,
       "align_items": null,
       "align_self": null,
       "border": null,
       "bottom": null,
       "display": null,
       "flex": null,
       "flex_flow": null,
       "grid_area": null,
       "grid_auto_columns": null,
       "grid_auto_flow": null,
       "grid_auto_rows": null,
       "grid_column": null,
       "grid_gap": null,
       "grid_row": null,
       "grid_template_areas": null,
       "grid_template_columns": null,
       "grid_template_rows": null,
       "height": null,
       "justify_content": null,
       "justify_items": null,
       "left": null,
       "margin": null,
       "max_height": null,
       "max_width": null,
       "min_height": null,
       "min_width": null,
       "object_fit": null,
       "object_position": null,
       "order": null,
       "overflow": null,
       "overflow_x": null,
       "overflow_y": null,
       "padding": null,
       "right": null,
       "top": null,
       "visibility": null,
       "width": null
      }
     },
     "eeeb907bb470413eb3d1723ae1ddfee7": {
      "model_module": "@jupyter-widgets/controls",
      "model_module_version": "1.5.0",
      "model_name": "HTMLModel",
      "state": {
       "_dom_classes": [],
       "_model_module": "@jupyter-widgets/controls",
       "_model_module_version": "1.5.0",
       "_model_name": "HTMLModel",
       "_view_count": null,
       "_view_module": "@jupyter-widgets/controls",
       "_view_module_version": "1.5.0",
       "_view_name": "HTMLView",
       "description": "",
       "description_tooltip": null,
       "layout": "IPY_MODEL_dd0b8c3a3311410082ee0a99f0dd51b2",
       "placeholder": "​",
       "style": "IPY_MODEL_0f40a08ad5814e28aa9e654ba8774cec",
       "value": "Downloading: 100%"
      }
     },
     "f095f8c60fcf4c789b2c909699fc32a0": {
      "model_module": "@jupyter-widgets/controls",
      "model_module_version": "1.5.0",
      "model_name": "FloatProgressModel",
      "state": {
       "_dom_classes": [],
       "_model_module": "@jupyter-widgets/controls",
       "_model_module_version": "1.5.0",
       "_model_name": "FloatProgressModel",
       "_view_count": null,
       "_view_module": "@jupyter-widgets/controls",
       "_view_module_version": "1.5.0",
       "_view_name": "ProgressView",
       "bar_style": "success",
       "description": "",
       "description_tooltip": null,
       "layout": "IPY_MODEL_acb67d240e544f8f8d13bf0a47994283",
       "max": 231508.0,
       "min": 0.0,
       "orientation": "horizontal",
       "style": "IPY_MODEL_73c85c341e3b4300a51ba908b1a56a3f",
       "value": 231508.0
      }
     },
     "f5365f8a38864ba2a69d180217f8e0c7": {
      "model_module": "@jupyter-widgets/base",
      "model_module_version": "1.2.0",
      "model_name": "LayoutModel",
      "state": {
       "_model_module": "@jupyter-widgets/base",
       "_model_module_version": "1.2.0",
       "_model_name": "LayoutModel",
       "_view_count": null,
       "_view_module": "@jupyter-widgets/base",
       "_view_module_version": "1.2.0",
       "_view_name": "LayoutView",
       "align_content": null,
       "align_items": null,
       "align_self": null,
       "border": null,
       "bottom": null,
       "display": null,
       "flex": null,
       "flex_flow": null,
       "grid_area": null,
       "grid_auto_columns": null,
       "grid_auto_flow": null,
       "grid_auto_rows": null,
       "grid_column": null,
       "grid_gap": null,
       "grid_row": null,
       "grid_template_areas": null,
       "grid_template_columns": null,
       "grid_template_rows": null,
       "height": null,
       "justify_content": null,
       "justify_items": null,
       "left": null,
       "margin": null,
       "max_height": null,
       "max_width": null,
       "min_height": null,
       "min_width": null,
       "object_fit": null,
       "object_position": null,
       "order": null,
       "overflow": null,
       "overflow_x": null,
       "overflow_y": null,
       "padding": null,
       "right": null,
       "top": null,
       "visibility": null,
       "width": null
      }
     },
     "f62ab833b4854a4f9e0d76e417902548": {
      "model_module": "@jupyter-widgets/base",
      "model_module_version": "1.2.0",
      "model_name": "LayoutModel",
      "state": {
       "_model_module": "@jupyter-widgets/base",
       "_model_module_version": "1.2.0",
       "_model_name": "LayoutModel",
       "_view_count": null,
       "_view_module": "@jupyter-widgets/base",
       "_view_module_version": "1.2.0",
       "_view_name": "LayoutView",
       "align_content": null,
       "align_items": null,
       "align_self": null,
       "border": null,
       "bottom": null,
       "display": null,
       "flex": null,
       "flex_flow": null,
       "grid_area": null,
       "grid_auto_columns": null,
       "grid_auto_flow": null,
       "grid_auto_rows": null,
       "grid_column": null,
       "grid_gap": null,
       "grid_row": null,
       "grid_template_areas": null,
       "grid_template_columns": null,
       "grid_template_rows": null,
       "height": null,
       "justify_content": null,
       "justify_items": null,
       "left": null,
       "margin": null,
       "max_height": null,
       "max_width": null,
       "min_height": null,
       "min_width": null,
       "object_fit": null,
       "object_position": null,
       "order": null,
       "overflow": null,
       "overflow_x": null,
       "overflow_y": null,
       "padding": null,
       "right": null,
       "top": null,
       "visibility": null,
       "width": null
      }
     },
     "fb982aa5b66245ff9094de815b99c2bf": {
      "model_module": "@jupyter-widgets/base",
      "model_module_version": "1.2.0",
      "model_name": "LayoutModel",
      "state": {
       "_model_module": "@jupyter-widgets/base",
       "_model_module_version": "1.2.0",
       "_model_name": "LayoutModel",
       "_view_count": null,
       "_view_module": "@jupyter-widgets/base",
       "_view_module_version": "1.2.0",
       "_view_name": "LayoutView",
       "align_content": null,
       "align_items": null,
       "align_self": null,
       "border": null,
       "bottom": null,
       "display": null,
       "flex": null,
       "flex_flow": null,
       "grid_area": null,
       "grid_auto_columns": null,
       "grid_auto_flow": null,
       "grid_auto_rows": null,
       "grid_column": null,
       "grid_gap": null,
       "grid_row": null,
       "grid_template_areas": null,
       "grid_template_columns": null,
       "grid_template_rows": null,
       "height": null,
       "justify_content": null,
       "justify_items": null,
       "left": null,
       "margin": null,
       "max_height": null,
       "max_width": null,
       "min_height": null,
       "min_width": null,
       "object_fit": null,
       "object_position": null,
       "order": null,
       "overflow": null,
       "overflow_x": null,
       "overflow_y": null,
       "padding": null,
       "right": null,
       "top": null,
       "visibility": null,
       "width": null
      }
     },
     "feb1b1b0c0bb43fc8d1349a373212add": {
      "model_module": "@jupyter-widgets/controls",
      "model_module_version": "1.5.0",
      "model_name": "HTMLModel",
      "state": {
       "_dom_classes": [],
       "_model_module": "@jupyter-widgets/controls",
       "_model_module_version": "1.5.0",
       "_model_name": "HTMLModel",
       "_view_count": null,
       "_view_module": "@jupyter-widgets/controls",
       "_view_module_version": "1.5.0",
       "_view_name": "HTMLView",
       "description": "",
       "description_tooltip": null,
       "layout": "IPY_MODEL_4ba2adcc79804ffba090e9310e074819",
       "placeholder": "​",
       "style": "IPY_MODEL_de3c05d3cf2241cfa87d16045cf62654",
       "value": " 466k/466k [00:00&lt;00:00, 518kB/s]"
      }
     }
    },
    "version_major": 2,
    "version_minor": 0
   }
  }
 },
 "nbformat": 4,
 "nbformat_minor": 5
}
